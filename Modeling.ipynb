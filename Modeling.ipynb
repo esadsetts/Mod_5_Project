{
 "cells": [
  {
   "cell_type": "markdown",
   "metadata": {},
   "source": [
    "Import the libraries I need"
   ]
  },
  {
   "cell_type": "code",
   "execution_count": 1,
   "metadata": {},
   "outputs": [],
   "source": [
    "import numpy as np\n",
    "import pandas as pd\n",
    "import matplotlib.pyplot as plt\n",
    "import seaborn as sns\n",
    "\n",
    "from sklearn.linear_model import LinearRegression\n",
    "from sklearn.linear_model import Ridge\n",
    "from sklearn.model_selection import train_test_split\n",
    "from sklearn.metrics import mean_squared_error\n",
    "from sklearn.dummy import DummyRegressor\n",
    "from sklearn.linear_model import Lasso\n",
    "from sklearn.svm import SVR\n",
    "from sklearn.preprocessing import StandardScaler\n",
    "from sklearn.tree import DecisionTreeRegressor\n",
    "from sklearn.ensemble import RandomForestRegressor\n",
    "from sklearn.model_selection import GridSearchCV\n",
    "\n",
    "import xgboost as xgb\n",
    "\n",
    "plt.style.use('seaborn')\n",
    "np.random.seed(seed = 1)"
   ]
  },
  {
   "cell_type": "markdown",
   "metadata": {},
   "source": [
    "# More Data Prep\n",
    "Load in the information from my database and remove goalkeepers because the statistics for goalkeepers are totally different. Instead of focusing on things like goals and assists, the statistics for goals are things like saves."
   ]
  },
  {
   "cell_type": "code",
   "execution_count": 2,
   "metadata": {},
   "outputs": [],
   "source": [
    "df = pd.read_csv('database.csv', index_col = 0)\n",
    "df = df[df.position != 'Goalkeeper']\n"
   ]
  },
  {
   "cell_type": "markdown",
   "metadata": {},
   "source": [
    "Familiarize ourselves with the data"
   ]
  },
  {
   "cell_type": "code",
   "execution_count": 3,
   "metadata": {},
   "outputs": [
    {
     "name": "stdout",
     "output_type": "stream",
     "text": [
      "<class 'pandas.core.frame.DataFrame'>\n",
      "Int64Index: 1521 entries, 0 to 1608\n",
      "Data columns (total 35 columns):\n",
      " #   Column                Non-Null Count  Dtype  \n",
      "---  ------                --------------  -----  \n",
      " 0   club_name             1521 non-null   object \n",
      " 1   player_name           1521 non-null   object \n",
      " 2   age                   1521 non-null   int64  \n",
      " 3   position              1521 non-null   object \n",
      " 4   club_involved_name    1521 non-null   object \n",
      " 5   fee                   1521 non-null   object \n",
      " 6   transfer_movement     1521 non-null   object \n",
      " 7   fee_cleaned           1521 non-null   float64\n",
      " 8   league_name           1521 non-null   object \n",
      " 9   year                  1521 non-null   int64  \n",
      " 10  season                1521 non-null   object \n",
      " 11  links                 1521 non-null   object \n",
      " 12  Season                1454 non-null   object \n",
      " 13  Matches               1454 non-null   float64\n",
      " 14  Starts                1454 non-null   float64\n",
      " 15  Minutes               1415 non-null   object \n",
      " 16  Goals                 1415 non-null   float64\n",
      " 17  Assists               1410 non-null   float64\n",
      " 18  Penalty_Goals         1415 non-null   float64\n",
      " 19  Penalty_Attempts      1415 non-null   float64\n",
      " 20  Yellow_Cards          1415 non-null   float64\n",
      " 21  Red_Cards             1415 non-null   float64\n",
      " 22  Goals/90              1415 non-null   float64\n",
      " 23  Assists/90            1410 non-null   float64\n",
      " 24  Goals+Assists/90      1410 non-null   float64\n",
      " 25  Goals-PKs/90          1415 non-null   float64\n",
      " 26  Goals+Assists-PKs/90  1410 non-null   float64\n",
      " 27  xG                    432 non-null    float64\n",
      " 28  npxG                  432 non-null    float64\n",
      " 29  xA                    432 non-null    float64\n",
      " 30  xG/90                 432 non-null    float64\n",
      " 31  xA/90                 432 non-null    float64\n",
      " 32  xG+xA/90              432 non-null    float64\n",
      " 33  npxG/90               432 non-null    float64\n",
      " 34  npxG+xA/90            432 non-null    float64\n",
      "dtypes: float64(22), int64(2), object(11)\n",
      "memory usage: 427.8+ KB\n"
     ]
    }
   ],
   "source": [
    "df.info()\n"
   ]
  },
  {
   "cell_type": "markdown",
   "metadata": {},
   "source": [
    "Many players don't have data on expected statistics. I filled expected goals with the actuals number of goals scored because in general they should be similar numbers. I did the same with assists and expected assists and so on."
   ]
  },
  {
   "cell_type": "code",
   "execution_count": 4,
   "metadata": {},
   "outputs": [],
   "source": [
    "df.xG.fillna(df.Goals, inplace = True)\n",
    "df.npxG.fillna(df.Goals - df.Penalty_Goals, inplace = True)\n",
    "df.xA.fillna(df.Assists, inplace = True)\n",
    "df['xG/90'].fillna(df['Goals/90'], inplace = True)\n",
    "df['xA/90'].fillna(df['Assists/90'], inplace = True)\n",
    "df['xG+xA/90'].fillna(df['Goals+Assists/90'], inplace = True)\n",
    "df['npxG/90'].fillna(df['Goals-PKs/90'], inplace = True)\n",
    "df['npxG+xA/90'].fillna(df['Goals+Assists-PKs/90'], inplace = True)\n"
   ]
  },
  {
   "cell_type": "markdown",
   "metadata": {},
   "source": [
    "I dropped the players with no season variable because these are the players who didn't have statistics listed on fbref for the year in question"
   ]
  },
  {
   "cell_type": "code",
   "execution_count": 5,
   "metadata": {},
   "outputs": [],
   "source": [
    "df.dropna(subset = ['Season'], inplace = True)\n"
   ]
  },
  {
   "cell_type": "markdown",
   "metadata": {},
   "source": [
    "I looked at df.info() again to try to find any null values that remained"
   ]
  },
  {
   "cell_type": "code",
   "execution_count": 6,
   "metadata": {
    "scrolled": true
   },
   "outputs": [
    {
     "name": "stdout",
     "output_type": "stream",
     "text": [
      "<class 'pandas.core.frame.DataFrame'>\n",
      "Int64Index: 1454 entries, 0 to 1608\n",
      "Data columns (total 35 columns):\n",
      " #   Column                Non-Null Count  Dtype  \n",
      "---  ------                --------------  -----  \n",
      " 0   club_name             1454 non-null   object \n",
      " 1   player_name           1454 non-null   object \n",
      " 2   age                   1454 non-null   int64  \n",
      " 3   position              1454 non-null   object \n",
      " 4   club_involved_name    1454 non-null   object \n",
      " 5   fee                   1454 non-null   object \n",
      " 6   transfer_movement     1454 non-null   object \n",
      " 7   fee_cleaned           1454 non-null   float64\n",
      " 8   league_name           1454 non-null   object \n",
      " 9   year                  1454 non-null   int64  \n",
      " 10  season                1454 non-null   object \n",
      " 11  links                 1454 non-null   object \n",
      " 12  Season                1454 non-null   object \n",
      " 13  Matches               1454 non-null   float64\n",
      " 14  Starts                1454 non-null   float64\n",
      " 15  Minutes               1415 non-null   object \n",
      " 16  Goals                 1415 non-null   float64\n",
      " 17  Assists               1410 non-null   float64\n",
      " 18  Penalty_Goals         1415 non-null   float64\n",
      " 19  Penalty_Attempts      1415 non-null   float64\n",
      " 20  Yellow_Cards          1415 non-null   float64\n",
      " 21  Red_Cards             1415 non-null   float64\n",
      " 22  Goals/90              1415 non-null   float64\n",
      " 23  Assists/90            1410 non-null   float64\n",
      " 24  Goals+Assists/90      1410 non-null   float64\n",
      " 25  Goals-PKs/90          1415 non-null   float64\n",
      " 26  Goals+Assists-PKs/90  1410 non-null   float64\n",
      " 27  xG                    1415 non-null   float64\n",
      " 28  npxG                  1415 non-null   float64\n",
      " 29  xA                    1410 non-null   float64\n",
      " 30  xG/90                 1415 non-null   float64\n",
      " 31  xA/90                 1410 non-null   float64\n",
      " 32  xG+xA/90              1410 non-null   float64\n",
      " 33  npxG/90               1415 non-null   float64\n",
      " 34  npxG+xA/90            1410 non-null   float64\n",
      "dtypes: float64(22), int64(2), object(11)\n",
      "memory usage: 408.9+ KB\n"
     ]
    }
   ],
   "source": [
    "df.info()\n"
   ]
  },
  {
   "cell_type": "markdown",
   "metadata": {},
   "source": [
    "I filled the remaining null values with zeros because I think that these null values were fbref's way of saying that no goals or assists were scored by that player that season"
   ]
  },
  {
   "cell_type": "code",
   "execution_count": 7,
   "metadata": {},
   "outputs": [],
   "source": [
    "df.fillna(0, inplace = True)\n"
   ]
  },
  {
   "cell_type": "code",
   "execution_count": 8,
   "metadata": {},
   "outputs": [
    {
     "name": "stdout",
     "output_type": "stream",
     "text": [
      "<class 'pandas.core.frame.DataFrame'>\n",
      "Int64Index: 1454 entries, 0 to 1608\n",
      "Data columns (total 35 columns):\n",
      " #   Column                Non-Null Count  Dtype  \n",
      "---  ------                --------------  -----  \n",
      " 0   club_name             1454 non-null   object \n",
      " 1   player_name           1454 non-null   object \n",
      " 2   age                   1454 non-null   int64  \n",
      " 3   position              1454 non-null   object \n",
      " 4   club_involved_name    1454 non-null   object \n",
      " 5   fee                   1454 non-null   object \n",
      " 6   transfer_movement     1454 non-null   object \n",
      " 7   fee_cleaned           1454 non-null   float64\n",
      " 8   league_name           1454 non-null   object \n",
      " 9   year                  1454 non-null   int64  \n",
      " 10  season                1454 non-null   object \n",
      " 11  links                 1454 non-null   object \n",
      " 12  Season                1454 non-null   object \n",
      " 13  Matches               1454 non-null   float64\n",
      " 14  Starts                1454 non-null   float64\n",
      " 15  Minutes               1454 non-null   object \n",
      " 16  Goals                 1454 non-null   float64\n",
      " 17  Assists               1454 non-null   float64\n",
      " 18  Penalty_Goals         1454 non-null   float64\n",
      " 19  Penalty_Attempts      1454 non-null   float64\n",
      " 20  Yellow_Cards          1454 non-null   float64\n",
      " 21  Red_Cards             1454 non-null   float64\n",
      " 22  Goals/90              1454 non-null   float64\n",
      " 23  Assists/90            1454 non-null   float64\n",
      " 24  Goals+Assists/90      1454 non-null   float64\n",
      " 25  Goals-PKs/90          1454 non-null   float64\n",
      " 26  Goals+Assists-PKs/90  1454 non-null   float64\n",
      " 27  xG                    1454 non-null   float64\n",
      " 28  npxG                  1454 non-null   float64\n",
      " 29  xA                    1454 non-null   float64\n",
      " 30  xG/90                 1454 non-null   float64\n",
      " 31  xA/90                 1454 non-null   float64\n",
      " 32  xG+xA/90              1454 non-null   float64\n",
      " 33  npxG/90               1454 non-null   float64\n",
      " 34  npxG+xA/90            1454 non-null   float64\n",
      "dtypes: float64(22), int64(2), object(11)\n",
      "memory usage: 408.9+ KB\n"
     ]
    }
   ],
   "source": [
    "df.info()\n"
   ]
  },
  {
   "cell_type": "markdown",
   "metadata": {},
   "source": [
    "I removed commas from the minutes column as in 1,000 becomes 1000 so I could change it to an integer"
   ]
  },
  {
   "cell_type": "code",
   "execution_count": 9,
   "metadata": {},
   "outputs": [],
   "source": [
    "df.Minutes = df.Minutes.apply(lambda x: str(x).replace(',', ''))\n"
   ]
  },
  {
   "cell_type": "code",
   "execution_count": 10,
   "metadata": {},
   "outputs": [],
   "source": [
    "df.Minutes = df.Minutes.astype('int64')\n"
   ]
  },
  {
   "cell_type": "code",
   "execution_count": 11,
   "metadata": {},
   "outputs": [
    {
     "data": {
      "text/plain": [
       "Centre-Back           281\n",
       "Centre-Forward        265\n",
       "Central Midfield      207\n",
       "Left Winger           123\n",
       "Right Winger          117\n",
       "Right-Back            116\n",
       "Left-Back             114\n",
       "Defensive Midfield    111\n",
       "Attacking Midfield     73\n",
       "Left Midfield          20\n",
       "Second Striker         16\n",
       "Right Midfield         11\n",
       "Name: position, dtype: int64"
      ]
     },
     "execution_count": 11,
     "metadata": {},
     "output_type": "execute_result"
    }
   ],
   "source": [
    "df.position.value_counts()\n"
   ]
  },
  {
   "cell_type": "markdown",
   "metadata": {},
   "source": [
    "I created three new columns is defence, is midfield and is attack, becuase in general attackers are more highly valued than defenders. "
   ]
  },
  {
   "cell_type": "code",
   "execution_count": 12,
   "metadata": {},
   "outputs": [],
   "source": [
    "defence_dic = {'Centre-Back': 1, 'Centre-Forward': 0, 'Central Midfield': 0, 'Left Winger': 0, 'Right Winger': 0,\n",
    "               'Right-Back': 1, 'Left-Back': 1, 'Defensive Midfield': 0, 'Goalkeeper': 1, 'Attacking Midfield': 0,\n",
    "               'Left Midfield': 0, 'Second Striker': 0, 'Right Midfield': 0}\n",
    "midfield_dic = {'Centre-Back': 0, 'Centre-Forward': 0, 'Central Midfield': 1, 'Left Winger': 0, 'Right Winger': 0,\n",
    "                'Right-Back': 0, 'Left-Back': 0, 'Defensive Midfield': 1, 'Goalkeeper': 0, 'Attacking Midfield': 1,\n",
    "                'Left Midfield': 1, 'Second Striker': 0, 'Right Midfield': 1}\n",
    "attack_dic = {'Centre-Back': 0, 'Centre-Forward': 1, 'Central Midfield': 0, 'Left Winger': 1, 'Right Winger': 1,\n",
    "              'Right-Back': 0, 'Left-Back': 0, 'Defensive Midfield': 0, 'Goalkeeper': 0, 'Attacking Midfield': 0,\n",
    "              'Left Midfield': 0, 'Second Striker': 1, 'Right Midfield': 0}\n"
   ]
  },
  {
   "cell_type": "code",
   "execution_count": 13,
   "metadata": {},
   "outputs": [],
   "source": [
    "df['is_defence'] = df.position.replace(defence_dic)\n",
    "df['is_midfield'] = df.position.replace(midfield_dic)\n",
    "df['is_attack'] = df.position.replace(attack_dic)"
   ]
  },
  {
   "cell_type": "markdown",
   "metadata": {},
   "source": [
    "I again explore my data here"
   ]
  },
  {
   "cell_type": "code",
   "execution_count": 14,
   "metadata": {
    "scrolled": true
   },
   "outputs": [
    {
     "data": {
      "text/plain": [
       "Text(0, 0.5, 'Average Transfer Value')"
      ]
     },
     "execution_count": 14,
     "metadata": {},
     "output_type": "execute_result"
    },
    {
     "data": {
      "image/png": "[encoded data removed]",
      "text/plain": [
       "<Figure size 576x396 with 1 Axes>"
      ]
     },
     "metadata": {},
     "output_type": "display_data"
    }
   ],
   "source": [
    "df.groupby('year').fee_cleaned.mean().plot(kind = 'bar', title = 'Average Transfer Value')\n",
    "plt.xlabel('Year')\n",
    "plt.ylabel('Average Transfer Value')"
   ]
  },
  {
   "cell_type": "code",
   "execution_count": 15,
   "metadata": {},
   "outputs": [
    {
     "data": {
      "text/plain": [
       "Text(0, 0.5, 'Average Transfer Value')"
      ]
     },
     "execution_count": 15,
     "metadata": {},
     "output_type": "execute_result"
    },
    {
     "data": {
      "image/png": "[encoded data removed]",
      "text/plain": [
       "<Figure size 576x396 with 1 Axes>"
      ]
     },
     "metadata": {},
     "output_type": "display_data"
    }
   ],
   "source": [
    "df.groupby('league_name').fee_cleaned.mean().sort_values().plot(kind = 'bar', title = 'Average Transfer Value by League')\n",
    "plt.xlabel('League Name')\n",
    "plt.ylabel('Average Transfer Value')"
   ]
  },
  {
   "cell_type": "code",
   "execution_count": 16,
   "metadata": {},
   "outputs": [
    {
     "data": {
      "text/plain": [
       "Text(0, 0.5, 'Average Transfer Value')"
      ]
     },
     "execution_count": 16,
     "metadata": {},
     "output_type": "execute_result"
    },
    {
     "data": {
      "image/png": "[encoded data removed]",
      "text/plain": [
       "<Figure size 576x396 with 1 Axes>"
      ]
     },
     "metadata": {},
     "output_type": "display_data"
    }
   ],
   "source": [
    "df.groupby('age').fee_cleaned.mean().plot(title = 'Average Transfer Value by Age')\n",
    "plt.xlabel('Age')\n",
    "plt.ylabel('Average Transfer Value')"
   ]
  },
  {
   "cell_type": "code",
   "execution_count": 17,
   "metadata": {},
   "outputs": [
    {
     "data": {
      "text/plain": [
       "Text(0, 0.5, 'Average Transfer Value')"
      ]
     },
     "execution_count": 17,
     "metadata": {},
     "output_type": "execute_result"
    },
    {
     "data": {
      "image/png": "[encoded data removed]",
      "text/plain": [
       "<Figure size 576x396 with 1 Axes>"
      ]
     },
     "metadata": {},
     "output_type": "display_data"
    }
   ],
   "source": [
    "df.groupby('position').fee_cleaned.mean().sort_values().plot(kind = 'bar', title = 'Average Transfer Value by Position')\n",
    "plt.xlabel('Position')\n",
    "plt.ylabel('Average Transfer Value')"
   ]
  },
  {
   "cell_type": "code",
   "execution_count": 18,
   "metadata": {},
   "outputs": [
    {
     "data": {
      "text/plain": [
       "Text(0.5, 0, 'Transfer Fee')"
      ]
     },
     "execution_count": 18,
     "metadata": {},
     "output_type": "execute_result"
    },
    {
     "data": {
      "image/png": "[encoded data removed]",
      "text/plain": [
       "<Figure size 576x396 with 1 Axes>"
      ]
     },
     "metadata": {},
     "output_type": "display_data"
    }
   ],
   "source": [
    "sns.distplot(df.fee_cleaned)\n",
    "plt.title('Distribution of transfer values')\n",
    "plt.xlabel('Transfer Fee')"
   ]
  },
  {
   "cell_type": "code",
   "execution_count": 19,
   "metadata": {
    "scrolled": true
   },
   "outputs": [
    {
     "data": {
      "text/plain": [
       "count    1454.000000\n",
       "mean        8.219279\n",
       "std        12.498243\n",
       "min         0.045000\n",
       "25%         1.800000\n",
       "50%         4.050000\n",
       "75%         9.900000\n",
       "max       130.500000\n",
       "Name: fee_cleaned, dtype: float64"
      ]
     },
     "execution_count": 19,
     "metadata": {},
     "output_type": "execute_result"
    }
   ],
   "source": [
    "df.fee_cleaned.describe()"
   ]
  },
  {
   "cell_type": "markdown",
   "metadata": {},
   "source": [
    "I created a dataframe of features and one of targets"
   ]
  },
  {
   "cell_type": "code",
   "execution_count": 20,
   "metadata": {},
   "outputs": [],
   "source": [
    "df_features = df[['age','position','Starts','Minutes','Goals','Assists','Penalty_Goals','Penalty_Attempts',\n",
    "                  'Yellow_Cards','Red_Cards','Goals/90','Assists/90','Goals+Assists/90','Goals-PKs/90',\n",
    "                  'Goals+Assists-PKs/90','xG','npxG','xA','xG/90','xA/90','xG+xA/90','npxG/90','npxG+xA/90',\n",
    "                  'is_defence', 'is_midfield', 'is_attack']]\n",
    "df_target = df.fee_cleaned"
   ]
  },
  {
   "cell_type": "markdown",
   "metadata": {},
   "source": [
    "I created a dataframe of just my categorical data"
   ]
  },
  {
   "cell_type": "code",
   "execution_count": 21,
   "metadata": {},
   "outputs": [
    {
     "data": {
      "text/plain": [
       "Index(['age', 'position', 'Starts', 'Minutes', 'Goals', 'Assists',\n",
       "       'Penalty_Goals', 'Penalty_Attempts', 'Yellow_Cards', 'Red_Cards',\n",
       "       'Goals/90', 'Assists/90', 'Goals+Assists/90', 'Goals-PKs/90',\n",
       "       'Goals+Assists-PKs/90', 'xG', 'npxG', 'xA', 'xG/90', 'xA/90',\n",
       "       'xG+xA/90', 'npxG/90', 'npxG+xA/90', 'is_defence', 'is_midfield',\n",
       "       'is_attack'],\n",
       "      dtype='object')"
      ]
     },
     "execution_count": 21,
     "metadata": {},
     "output_type": "execute_result"
    }
   ],
   "source": [
    "df_categoricals = df_features[['position', 'is_defence', 'is_midfield', 'is_attack']]\n",
    "df_features.columns"
   ]
  },
  {
   "cell_type": "markdown",
   "metadata": {},
   "source": [
    "I used boxplots to look for outliers and than capped values that I felt were problematic"
   ]
  },
  {
   "cell_type": "code",
   "execution_count": 22,
   "metadata": {},
   "outputs": [
    {
     "data": {
      "image/png": "[encoded data removed]",
      "text/plain": [
       "<Figure size 576x396 with 1 Axes>"
      ]
     },
     "metadata": {},
     "output_type": "display_data"
    },
    {
     "data": {
      "image/png": "[encoded data removed]",
      "text/plain": [
       "<Figure size 576x396 with 1 Axes>"
      ]
     },
     "metadata": {},
     "output_type": "display_data"
    },
    {
     "data": {
      "image/png": "[encoded data removed]",
      "text/plain": [
       "<Figure size 576x396 with 1 Axes>"
      ]
     },
     "metadata": {},
     "output_type": "display_data"
    },
    {
     "data": {
      "image/png": "[encoded data removed]",
      "text/plain": [
       "<Figure size 576x396 with 1 Axes>"
      ]
     },
     "metadata": {},
     "output_type": "display_data"
    },
    {
     "data": {
      "image/png": "[encoded data removed]",
      "text/plain": [
       "<Figure size 576x396 with 1 Axes>"
      ]
     },
     "metadata": {},
     "output_type": "display_data"
    },
    {
     "data": {
      "image/png": "[encoded data removed]",
      "text/plain": [
       "<Figure size 576x396 with 1 Axes>"
      ]
     },
     "metadata": {},
     "output_type": "display_data"
    },
    {
     "data": {
      "image/png": "[encoded data removed]",
      "text/plain": [
       "<Figure size 576x396 with 1 Axes>"
      ]
     },
     "metadata": {},
     "output_type": "display_data"
    },
    {
     "data": {
      "image/png": "[encoded data removed]",
      "text/plain": [
       "<Figure size 576x396 with 1 Axes>"
      ]
     },
     "metadata": {},
     "output_type": "display_data"
    },
    {
     "data": {
      "image/png": "[encoded data removed]",
      "text/plain": [
       "<Figure size 576x396 with 1 Axes>"
      ]
     },
     "metadata": {},
     "output_type": "display_data"
    },
    {
     "data": {
      "image/png": "[encoded data removed]",
      "text/plain": [
       "<Figure size 576x396 with 1 Axes>"
      ]
     },
     "metadata": {},
     "output_type": "display_data"
    },
    {
     "data": {
      "image/png": "[encoded data removed]",
      "text/plain": [
       "<Figure size 576x396 with 1 Axes>"
      ]
     },
     "metadata": {},
     "output_type": "display_data"
    }
   ],
   "source": [
    "plt.boxplot(df_features['Goals/90'])\n",
    "plt.ylabel('Goals per 90')\n",
    "plt.show()\n",
    "plt.boxplot(df_features['Assists/90'])\n",
    "plt.ylabel('Assists per 90')\n",
    "plt.show()\n",
    "plt.boxplot(df_features['Goals+Assists/90'])\n",
    "plt.ylabel('Goals and Assists per 90')\n",
    "plt.show()\n",
    "plt.boxplot(df_features['Goals-PKs/90'])\n",
    "plt.ylabel('Non-Penalty Goals per 90')\n",
    "plt.show()\n",
    "plt.boxplot(df_features['Goals+Assists-PKs/90'])\n",
    "plt.ylabel('Non-Penalty Goals and Assists per 90')\n",
    "plt.show()\n",
    "plt.boxplot(df_features['xA'])\n",
    "plt.ylabel('Expected Assists')\n",
    "plt.show()\n",
    "plt.boxplot(df_features['xG/90'])\n",
    "plt.ylabel('Expected Goals per 90')\n",
    "plt.show()\n",
    "plt.boxplot(df_features['xA/90'])\n",
    "plt.ylabel('Expected Assists per 90')\n",
    "plt.show()\n",
    "plt.boxplot(df_features['xG+xA/90'])\n",
    "plt.ylabel('Expected Goals and Assits per 90')\n",
    "plt.show()\n",
    "plt.boxplot(df_features['npxG/90'])\n",
    "plt.ylabel('Non-Penalty Expected Goals per 90')\n",
    "plt.show()\n",
    "plt.boxplot(df_features['npxG+xA/90'])\n",
    "plt.ylabel('Non-Penalty Expected Goals and Assists per 90')\n",
    "plt.show()"
   ]
  },
  {
   "cell_type": "code",
   "execution_count": 23,
   "metadata": {
    "scrolled": true
   },
   "outputs": [
    {
     "name": "stderr",
     "output_type": "stream",
     "text": [
      "/Users/ericadsetts/opt/anaconda3/lib/python3.7/site-packages/ipykernel_launcher.py:1: SettingWithCopyWarning: \n",
      "A value is trying to be set on a copy of a slice from a DataFrame.\n",
      "Try using .loc[row_indexer,col_indexer] = value instead\n",
      "\n",
      "See the caveats in the documentation: https://pandas.pydata.org/pandas-docs/stable/user_guide/indexing.html#returning-a-view-versus-a-copy\n",
      "  \"\"\"Entry point for launching an IPython kernel.\n",
      "/Users/ericadsetts/opt/anaconda3/lib/python3.7/site-packages/ipykernel_launcher.py:2: SettingWithCopyWarning: \n",
      "A value is trying to be set on a copy of a slice from a DataFrame.\n",
      "Try using .loc[row_indexer,col_indexer] = value instead\n",
      "\n",
      "See the caveats in the documentation: https://pandas.pydata.org/pandas-docs/stable/user_guide/indexing.html#returning-a-view-versus-a-copy\n",
      "  \n",
      "/Users/ericadsetts/opt/anaconda3/lib/python3.7/site-packages/ipykernel_launcher.py:3: SettingWithCopyWarning: \n",
      "A value is trying to be set on a copy of a slice from a DataFrame.\n",
      "Try using .loc[row_indexer,col_indexer] = value instead\n",
      "\n",
      "See the caveats in the documentation: https://pandas.pydata.org/pandas-docs/stable/user_guide/indexing.html#returning-a-view-versus-a-copy\n",
      "  This is separate from the ipykernel package so we can avoid doing imports until\n",
      "/Users/ericadsetts/opt/anaconda3/lib/python3.7/site-packages/ipykernel_launcher.py:4: SettingWithCopyWarning: \n",
      "A value is trying to be set on a copy of a slice from a DataFrame.\n",
      "Try using .loc[row_indexer,col_indexer] = value instead\n",
      "\n",
      "See the caveats in the documentation: https://pandas.pydata.org/pandas-docs/stable/user_guide/indexing.html#returning-a-view-versus-a-copy\n",
      "  after removing the cwd from sys.path.\n",
      "/Users/ericadsetts/opt/anaconda3/lib/python3.7/site-packages/ipykernel_launcher.py:5: SettingWithCopyWarning: \n",
      "A value is trying to be set on a copy of a slice from a DataFrame.\n",
      "Try using .loc[row_indexer,col_indexer] = value instead\n",
      "\n",
      "See the caveats in the documentation: https://pandas.pydata.org/pandas-docs/stable/user_guide/indexing.html#returning-a-view-versus-a-copy\n",
      "  \"\"\"\n",
      "/Users/ericadsetts/opt/anaconda3/lib/python3.7/site-packages/ipykernel_launcher.py:6: SettingWithCopyWarning: \n",
      "A value is trying to be set on a copy of a slice from a DataFrame.\n",
      "Try using .loc[row_indexer,col_indexer] = value instead\n",
      "\n",
      "See the caveats in the documentation: https://pandas.pydata.org/pandas-docs/stable/user_guide/indexing.html#returning-a-view-versus-a-copy\n",
      "  \n",
      "/Users/ericadsetts/opt/anaconda3/lib/python3.7/site-packages/ipykernel_launcher.py:7: SettingWithCopyWarning: \n",
      "A value is trying to be set on a copy of a slice from a DataFrame.\n",
      "Try using .loc[row_indexer,col_indexer] = value instead\n",
      "\n",
      "See the caveats in the documentation: https://pandas.pydata.org/pandas-docs/stable/user_guide/indexing.html#returning-a-view-versus-a-copy\n",
      "  import sys\n",
      "/Users/ericadsetts/opt/anaconda3/lib/python3.7/site-packages/ipykernel_launcher.py:8: SettingWithCopyWarning: \n",
      "A value is trying to be set on a copy of a slice from a DataFrame.\n",
      "Try using .loc[row_indexer,col_indexer] = value instead\n",
      "\n",
      "See the caveats in the documentation: https://pandas.pydata.org/pandas-docs/stable/user_guide/indexing.html#returning-a-view-versus-a-copy\n",
      "  \n",
      "/Users/ericadsetts/opt/anaconda3/lib/python3.7/site-packages/ipykernel_launcher.py:9: SettingWithCopyWarning: \n",
      "A value is trying to be set on a copy of a slice from a DataFrame.\n",
      "Try using .loc[row_indexer,col_indexer] = value instead\n",
      "\n",
      "See the caveats in the documentation: https://pandas.pydata.org/pandas-docs/stable/user_guide/indexing.html#returning-a-view-versus-a-copy\n",
      "  if __name__ == '__main__':\n",
      "/Users/ericadsetts/opt/anaconda3/lib/python3.7/site-packages/ipykernel_launcher.py:10: SettingWithCopyWarning: \n",
      "A value is trying to be set on a copy of a slice from a DataFrame.\n",
      "Try using .loc[row_indexer,col_indexer] = value instead\n",
      "\n",
      "See the caveats in the documentation: https://pandas.pydata.org/pandas-docs/stable/user_guide/indexing.html#returning-a-view-versus-a-copy\n",
      "  # Remove the CWD from sys.path while we load stuff.\n",
      "/Users/ericadsetts/opt/anaconda3/lib/python3.7/site-packages/ipykernel_launcher.py:11: SettingWithCopyWarning: \n",
      "A value is trying to be set on a copy of a slice from a DataFrame.\n",
      "Try using .loc[row_indexer,col_indexer] = value instead\n",
      "\n",
      "See the caveats in the documentation: https://pandas.pydata.org/pandas-docs/stable/user_guide/indexing.html#returning-a-view-versus-a-copy\n",
      "  # This is added back by InteractiveShellApp.init_path()\n"
     ]
    }
   ],
   "source": [
    "df_features['Goals/90'] = df_features['Goals/90'].apply(lambda x: np.where(x > 2, 2, x))\n",
    "df_features['Assists/90'] = df_features['Assists/90'].apply(lambda x: np.where(x > 2, 2, x))\n",
    "df_features['Goals+Assists/90'] = df_features['Goals+Assists/90'].apply(lambda x: np.where(x > 3, 3, x))\n",
    "df_features['Goals-PKs/90'] = df_features['Goals-PKs/90'].apply(lambda x: np.where(x > 2, 2, x))\n",
    "df_features['Goals+Assists-PKs/90'] = df_features['Goals+Assists-PKs/90'].apply(lambda x: np.where(x > 3, 3, x))\n",
    "df_features['xA'] = df_features['xA'].apply(lambda x: np.where(x > 15, 15, x))\n",
    "df_features['xG/90'] = df_features['xG/90'].apply(lambda x: np.where(x > 2, 2, x))\n",
    "df_features['xA/90'] = df_features['xA/90'].apply(lambda x: np.where(x > 2, 2, x))\n",
    "df_features['xG+xA/90'] = df_features['xG+xA/90'].apply(lambda x: np.where(x > 4, 4, x))\n",
    "df_features['npxG/90'] = df_features['npxG/90'].apply(lambda x: np.where(x > 2, 2, x))\n",
    "df_features['npxG+xA/90'] = df_features['npxG+xA/90'].apply(lambda x: np.where(x > 3, 3, x))"
   ]
  },
  {
   "cell_type": "markdown",
   "metadata": {},
   "source": [
    "I look at the distributions of all my features"
   ]
  },
  {
   "cell_type": "code",
   "execution_count": 24,
   "metadata": {},
   "outputs": [
    {
     "data": {
      "image/png": "[encoded data removed]",
      "text/plain": [
       "<Figure size 576x396 with 1 Axes>"
      ]
     },
     "metadata": {},
     "output_type": "display_data"
    },
    {
     "data": {
      "image/png": "[encoded data removed]",
      "text/plain": [
       "<Figure size 576x396 with 1 Axes>"
      ]
     },
     "metadata": {},
     "output_type": "display_data"
    },
    {
     "data": {
      "image/png": "[encoded data removed]",
      "text/plain": [
       "<Figure size 576x396 with 1 Axes>"
      ]
     },
     "metadata": {},
     "output_type": "display_data"
    },
    {
     "data": {
      "image/png": "[encoded data removed]",
      "text/plain": [
       "<Figure size 576x396 with 1 Axes>"
      ]
     },
     "metadata": {},
     "output_type": "display_data"
    }
   ],
   "source": [
    "sns.distplot(df_features['age'], kde = False)\n",
    "plt.show()\n",
    "sns.distplot(df_features['Goals'], kde = False)\n",
    "plt.show()\n",
    "sns.distplot(df_features['Assists'], kde = False)\n",
    "plt.show()\n",
    "sns.distplot(df_features['xG'], kde = False)\n",
    "plt.show()"
   ]
  },
  {
   "cell_type": "markdown",
   "metadata": {},
   "source": [
    "I plot my features against my target to see if there is a clear pattern for any of them (There isn't)"
   ]
  },
  {
   "cell_type": "code",
   "execution_count": 25,
   "metadata": {},
   "outputs": [
    {
     "data": {
      "image/png": "[encoded data removed]",
      "text/plain": [
       "<Figure size 576x396 with 1 Axes>"
      ]
     },
     "metadata": {},
     "output_type": "display_data"
    },
    {
     "data": {
      "image/png": "[encoded data removed]",
      "text/plain": [
       "<Figure size 576x396 with 1 Axes>"
      ]
     },
     "metadata": {},
     "output_type": "display_data"
    },
    {
     "data": {
      "image/png": "[encoded data removed]",
      "text/plain": [
       "<Figure size 576x396 with 1 Axes>"
      ]
     },
     "metadata": {},
     "output_type": "display_data"
    }
   ],
   "source": [
    "plt.scatter(df_features['Goals/90'], df_target)\n",
    "plt.xlabel('Goals per 90')\n",
    "plt.show()\n",
    "plt.scatter(df_features['xG'], df_target)\n",
    "plt.xlabel('Expected Goals')\n",
    "plt.show()\n",
    "plt.scatter(df_features['xG/90'], df_target)\n",
    "plt.xlabel('Expected Goals per 90')\n",
    "plt.show()"
   ]
  },
  {
   "cell_type": "markdown",
   "metadata": {},
   "source": [
    "I used get dummies on positions"
   ]
  },
  {
   "cell_type": "code",
   "execution_count": 26,
   "metadata": {},
   "outputs": [],
   "source": [
    "df_dummies = pd.get_dummies(df_features.position)\n",
    "df_features = pd.concat([df_features, df_dummies], axis = 1)\n",
    "df_features.drop(['position'], axis = 1, inplace = True)\n"
   ]
  },
  {
   "cell_type": "code",
   "execution_count": 27,
   "metadata": {},
   "outputs": [
    {
     "name": "stdout",
     "output_type": "stream",
     "text": [
      "<class 'pandas.core.frame.DataFrame'>\n",
      "Int64Index: 1454 entries, 0 to 1608\n",
      "Data columns (total 37 columns):\n",
      " #   Column                Non-Null Count  Dtype  \n",
      "---  ------                --------------  -----  \n",
      " 0   age                   1454 non-null   int64  \n",
      " 1   Starts                1454 non-null   float64\n",
      " 2   Minutes               1454 non-null   int64  \n",
      " 3   Goals                 1454 non-null   float64\n",
      " 4   Assists               1454 non-null   float64\n",
      " 5   Penalty_Goals         1454 non-null   float64\n",
      " 6   Penalty_Attempts      1454 non-null   float64\n",
      " 7   Yellow_Cards          1454 non-null   float64\n",
      " 8   Red_Cards             1454 non-null   float64\n",
      " 9   Goals/90              1454 non-null   float64\n",
      " 10  Assists/90            1454 non-null   float64\n",
      " 11  Goals+Assists/90      1454 non-null   float64\n",
      " 12  Goals-PKs/90          1454 non-null   float64\n",
      " 13  Goals+Assists-PKs/90  1454 non-null   float64\n",
      " 14  xG                    1454 non-null   float64\n",
      " 15  npxG                  1454 non-null   float64\n",
      " 16  xA                    1454 non-null   float64\n",
      " 17  xG/90                 1454 non-null   float64\n",
      " 18  xA/90                 1454 non-null   float64\n",
      " 19  xG+xA/90              1454 non-null   float64\n",
      " 20  npxG/90               1454 non-null   float64\n",
      " 21  npxG+xA/90            1454 non-null   float64\n",
      " 22  is_defence            1454 non-null   int64  \n",
      " 23  is_midfield           1454 non-null   int64  \n",
      " 24  is_attack             1454 non-null   int64  \n",
      " 25  Attacking Midfield    1454 non-null   uint8  \n",
      " 26  Central Midfield      1454 non-null   uint8  \n",
      " 27  Centre-Back           1454 non-null   uint8  \n",
      " 28  Centre-Forward        1454 non-null   uint8  \n",
      " 29  Defensive Midfield    1454 non-null   uint8  \n",
      " 30  Left Midfield         1454 non-null   uint8  \n",
      " 31  Left Winger           1454 non-null   uint8  \n",
      " 32  Left-Back             1454 non-null   uint8  \n",
      " 33  Right Midfield        1454 non-null   uint8  \n",
      " 34  Right Winger          1454 non-null   uint8  \n",
      " 35  Right-Back            1454 non-null   uint8  \n",
      " 36  Second Striker        1454 non-null   uint8  \n",
      "dtypes: float64(20), int64(5), uint8(12)\n",
      "memory usage: 312.4 KB\n"
     ]
    }
   ],
   "source": [
    "df_features.info()\n"
   ]
  },
  {
   "cell_type": "markdown",
   "metadata": {},
   "source": [
    "# Modeling and Evaluation\n",
    "Perform my train test split"
   ]
  },
  {
   "cell_type": "code",
   "execution_count": 28,
   "metadata": {},
   "outputs": [],
   "source": [
    "X_train, X_test, y_train, y_test = train_test_split(df_features, df_target, random_state = 42)\n"
   ]
  },
  {
   "cell_type": "markdown",
   "metadata": {},
   "source": [
    "Scaled my data"
   ]
  },
  {
   "cell_type": "code",
   "execution_count": 29,
   "metadata": {},
   "outputs": [],
   "source": [
    "scaler = StandardScaler()\n",
    "X_train = scaler.fit_transform(X_train)\n",
    "X_test = scaler.transform(X_test)\n"
   ]
  },
  {
   "cell_type": "markdown",
   "metadata": {},
   "source": [
    "Created a dummy regressor to compare my models against"
   ]
  },
  {
   "cell_type": "code",
   "execution_count": 30,
   "metadata": {},
   "outputs": [
    {
     "data": {
      "text/plain": [
       "158.15677677430855"
      ]
     },
     "execution_count": 30,
     "metadata": {},
     "output_type": "execute_result"
    }
   ],
   "source": [
    "dummy = DummyRegressor()\n",
    "dummy.fit(X_train, y_train)\n",
    "y_train_preds = dummy.predict(X_train)\n",
    "mean_squared_error(y_train, y_train_preds)\n"
   ]
  },
  {
   "cell_type": "code",
   "execution_count": 31,
   "metadata": {},
   "outputs": [
    {
     "data": {
      "text/plain": [
       "149.98369916362367"
      ]
     },
     "execution_count": 31,
     "metadata": {},
     "output_type": "execute_result"
    }
   ],
   "source": [
    "y_preds = dummy.predict(X_test)\n",
    "mean_squared_error(y_test, y_preds)\n"
   ]
  },
  {
   "cell_type": "markdown",
   "metadata": {},
   "source": [
    "Created a linear regression model"
   ]
  },
  {
   "cell_type": "code",
   "execution_count": 32,
   "metadata": {},
   "outputs": [
    {
     "data": {
      "text/plain": [
       "142.68435426914832"
      ]
     },
     "execution_count": 32,
     "metadata": {},
     "output_type": "execute_result"
    }
   ],
   "source": [
    "line = LinearRegression(n_jobs = -1)\n",
    "line.fit(X_train, y_train)\n",
    "y_train_preds = line.predict(X_train)\n",
    "mean_squared_error(y_train, y_train_preds)\n"
   ]
  },
  {
   "cell_type": "code",
   "execution_count": 33,
   "metadata": {},
   "outputs": [
    {
     "data": {
      "text/plain": [
       "131.24352144016885"
      ]
     },
     "execution_count": 33,
     "metadata": {},
     "output_type": "execute_result"
    }
   ],
   "source": [
    "y_preds = line.predict(X_test)\n",
    "mean_squared_error(y_test, y_preds)\n"
   ]
  },
  {
   "cell_type": "markdown",
   "metadata": {},
   "source": [
    "Sorted features by coeffecients"
   ]
  },
  {
   "cell_type": "code",
   "execution_count": 34,
   "metadata": {
    "scrolled": true
   },
   "outputs": [
    {
     "data": {
      "text/plain": [
       "[(-56.21940321634334, 'xG'),\n",
       " (-17.767702895212466, 'npxG/90'),\n",
       " (-17.54719936907125, 'Goals+Assists/90'),\n",
       " (-10.651957365421564, 'Goals/90'),\n",
       " (-4.9559338413847716, 'Starts'),\n",
       " (-4.477631139455966, 'xG+xA/90'),\n",
       " (-0.9737462780028965, 'Yellow_Cards'),\n",
       " (-0.7397352208819165, 'Left Midfield'),\n",
       " (-0.6268355983623553, 'age'),\n",
       " (-0.531922583738871, 'Centre-Forward'),\n",
       " (-0.39351312789187526, 'Right Midfield'),\n",
       " (-0.33580308247863044, 'Left-Back'),\n",
       " (-0.22061235957192574, 'Right-Back'),\n",
       " (-0.2014082309902449, 'Attacking Midfield'),\n",
       " (-0.18101153576599924, 'xA/90'),\n",
       " (-0.15897542245618887, 'Central Midfield'),\n",
       " (-0.14935718264873116, 'Right Winger'),\n",
       " (-0.1267943474773311, 'is_attack'),\n",
       " (-0.12484184220299442, 'is_midfield'),\n",
       " (-0.06958935242992506, 'Red_Cards'),\n",
       " (-0.05365478305564273, 'Penalty_Attempts'),\n",
       " (0.2456177996201387, 'is_defence'),\n",
       " (0.34373935917920145, 'Left Winger'),\n",
       " (0.4116549665592926, 'xA'),\n",
       " (0.597054183866855, 'Defensive Midfield'),\n",
       " (0.6519113974397006, 'Centre-Back'),\n",
       " (0.8114709559484511, 'Second Striker'),\n",
       " (0.8853870369762329, 'Assists/90'),\n",
       " (1.5168323562407076, 'Assists'),\n",
       " (5.241160117876205, 'npxG+xA/90'),\n",
       " (5.815624001697087, 'Minutes'),\n",
       " (6.243378206744996, 'Goals'),\n",
       " (10.605179313244719, 'Goals-PKs/90'),\n",
       " (10.624248167349768, 'Penalty_Goals'),\n",
       " (15.367618653029313, 'Goals+Assists-PKs/90'),\n",
       " (19.691002318336846, 'xG/90'),\n",
       " (45.63823128688548, 'npxG')]"
      ]
     },
     "execution_count": 34,
     "metadata": {},
     "output_type": "execute_result"
    }
   ],
   "source": [
    "sorted(list(zip(line.coef_, df_features.columns)))\n"
   ]
  },
  {
   "cell_type": "markdown",
   "metadata": {},
   "source": [
    "Created a ridge model than used grid search to find optimal parameters"
   ]
  },
  {
   "cell_type": "code",
   "execution_count": 35,
   "metadata": {},
   "outputs": [
    {
     "data": {
      "text/plain": [
       "143.51255301488732"
      ]
     },
     "execution_count": 35,
     "metadata": {},
     "output_type": "execute_result"
    }
   ],
   "source": [
    "ridge = Ridge()\n",
    "ridge.fit(X_train, y_train)\n",
    "y_train_preds = ridge.predict(X_train)\n",
    "mean_squared_error(y_train, y_train_preds)\n"
   ]
  },
  {
   "cell_type": "code",
   "execution_count": 36,
   "metadata": {},
   "outputs": [
    {
     "data": {
      "text/plain": [
       "131.5378701871753"
      ]
     },
     "execution_count": 36,
     "metadata": {},
     "output_type": "execute_result"
    }
   ],
   "source": [
    "y_preds = ridge.predict(X_test)\n",
    "mean_squared_error(y_test, y_preds)\n"
   ]
  },
  {
   "cell_type": "code",
   "execution_count": 37,
   "metadata": {},
   "outputs": [
    {
     "name": "stdout",
     "output_type": "stream",
     "text": [
      "Fitting 5 folds for each of 14 candidates, totalling 70 fits\n"
     ]
    },
    {
     "name": "stderr",
     "output_type": "stream",
     "text": [
      "[Parallel(n_jobs=-1)]: Using backend LokyBackend with 8 concurrent workers.\n"
     ]
    },
    {
     "name": "stdout",
     "output_type": "stream",
     "text": [
      "-12.14756156929301\n",
      "{'alpha': 1000}\n"
     ]
    },
    {
     "name": "stderr",
     "output_type": "stream",
     "text": [
      "[Parallel(n_jobs=-1)]: Done  34 tasks      | elapsed:    1.4s\n",
      "[Parallel(n_jobs=-1)]: Done  70 out of  70 | elapsed:    1.5s finished\n"
     ]
    },
    {
     "data": {
      "text/plain": [
       "135.0554309351698"
      ]
     },
     "execution_count": 37,
     "metadata": {},
     "output_type": "execute_result"
    }
   ],
   "source": [
    "param_grid = {'alpha': [.01,.1,.5,1,5,10,15, 20, 25, 30, 100, 1000, 1500, 2500]}\n",
    "ridge_CV = GridSearchCV(ridge, param_grid, scoring = 'neg_root_mean_squared_error', n_jobs = -1, verbose = 1)\n",
    "ridge_CV.fit(X_train, y_train)\n",
    "print(ridge_CV.best_score_)\n",
    "print(ridge_CV.best_params_)\n",
    "y_preds = ridge_CV.predict(X_test)\n",
    "mean_squared_error(y_test, y_preds)"
   ]
  },
  {
   "cell_type": "markdown",
   "metadata": {},
   "source": [
    "Plotted Coeffecients"
   ]
  },
  {
   "cell_type": "code",
   "execution_count": 38,
   "metadata": {},
   "outputs": [
    {
     "data": {
      "text/plain": [
       "[(-12.290572767573387, 'xG'),\n",
       " (-3.547472730272181, 'Starts'),\n",
       " (-2.5371851801728393, 'Goals+Assists/90'),\n",
       " (-2.3901523470822963, 'xG+xA/90'),\n",
       " (-1.1753439356440365, 'Penalty_Attempts'),\n",
       " (-0.9333628605569633, 'Yellow_Cards'),\n",
       " (-0.8020203027514491, 'Goals/90'),\n",
       " (-0.742306758867302, 'Left Midfield'),\n",
       " (-0.6432094674525344, 'age'),\n",
       " (-0.48186052447345706, 'Centre-Forward'),\n",
       " (-0.3943824762050621, 'Right Midfield'),\n",
       " (-0.33958101402236923, 'Left-Back'),\n",
       " (-0.2361140945299251, 'Attacking Midfield'),\n",
       " (-0.21252790803967164, 'Right-Back'),\n",
       " (-0.19069456025870604, 'Right Winger'),\n",
       " (-0.16888505106331664, 'xA'),\n",
       " (-0.16045005538051063, 'Central Midfield'),\n",
       " (-0.14625383766148187, 'is_midfield'),\n",
       " (-0.09944187953594681, 'is_attack'),\n",
       " (-0.06406091586540656, 'Red_Cards'),\n",
       " (0.23879121358907016, 'is_defence'),\n",
       " (0.34305985828229313, 'Left Winger'),\n",
       " (0.47226025730042637, 'npxG/90'),\n",
       " (0.5940487212510209, 'Defensive Midfield'),\n",
       " (0.6030785488911407, 'xA/90'),\n",
       " (0.640815168709834, 'Centre-Back'),\n",
       " (0.855196183932203, 'Second Striker'),\n",
       " (0.8994850827956202, 'Assists/90'),\n",
       " (0.9161754358573024, 'Goals+Assists-PKs/90'),\n",
       " (1.2520468529801072, 'xG/90'),\n",
       " (1.275014840527716, 'Goals-PKs/90'),\n",
       " (1.8139107650917083, 'npxG+xA/90'),\n",
       " (2.0930628451979967, 'Assists'),\n",
       " (2.8499263929811107, 'Penalty_Goals'),\n",
       " (4.439368408830443, 'Minutes'),\n",
       " (6.005083097176153, 'npxG'),\n",
       " (6.568095601401953, 'Goals')]"
      ]
     },
     "execution_count": 38,
     "metadata": {},
     "output_type": "execute_result"
    }
   ],
   "source": [
    "sorted(list(zip(ridge.coef_, df_features.columns)))\n"
   ]
  },
  {
   "cell_type": "markdown",
   "metadata": {},
   "source": [
    "Created Lasso model than tuned hyper parameters with grid search than looked at coefficients"
   ]
  },
  {
   "cell_type": "code",
   "execution_count": 39,
   "metadata": {},
   "outputs": [
    {
     "data": {
      "text/plain": [
       "150.96405191159712"
      ]
     },
     "execution_count": 39,
     "metadata": {},
     "output_type": "execute_result"
    }
   ],
   "source": [
    "lasso = Lasso()\n",
    "lasso.fit(X_train, y_train)\n",
    "y_train_preds = lasso.predict(X_train)\n",
    "mean_squared_error(y_train, y_train_preds)\n"
   ]
  },
  {
   "cell_type": "code",
   "execution_count": 40,
   "metadata": {},
   "outputs": [
    {
     "data": {
      "text/plain": [
       "140.30379305337658"
      ]
     },
     "execution_count": 40,
     "metadata": {},
     "output_type": "execute_result"
    }
   ],
   "source": [
    "y_preds = lasso.predict(X_test)\n",
    "mean_squared_error(y_test, y_preds)\n"
   ]
  },
  {
   "cell_type": "code",
   "execution_count": 41,
   "metadata": {},
   "outputs": [
    {
     "name": "stdout",
     "output_type": "stream",
     "text": [
      "Fitting 5 folds for each of 6 candidates, totalling 30 fits\n",
      "-12.169630941838868\n",
      "{'alpha': 0.5}\n"
     ]
    },
    {
     "name": "stderr",
     "output_type": "stream",
     "text": [
      "[Parallel(n_jobs=-1)]: Using backend LokyBackend with 8 concurrent workers.\n",
      "[Parallel(n_jobs=-1)]: Done  30 out of  30 | elapsed:    0.1s finished\n"
     ]
    },
    {
     "data": {
      "text/plain": [
       "136.46720686715707"
      ]
     },
     "execution_count": 41,
     "metadata": {},
     "output_type": "execute_result"
    }
   ],
   "source": [
    "param_grid = {'alpha': [.01,.1,.5,1,5,10]}\n",
    "lasso_CV = GridSearchCV(lasso, param_grid, scoring = 'neg_root_mean_squared_error', n_jobs = -1, verbose = 1)\n",
    "lasso_CV.fit(X_train, y_train)\n",
    "print(lasso_CV.best_score_)\n",
    "print(lasso_CV.best_params_)\n",
    "y_preds = lasso_CV.predict(X_test)\n",
    "mean_squared_error(y_test, y_preds)"
   ]
  },
  {
   "cell_type": "code",
   "execution_count": 42,
   "metadata": {},
   "outputs": [
    {
     "data": {
      "text/plain": [
       "[(0.0, 'Assists/90'),\n",
       " (-0.0, 'Attacking Midfield'),\n",
       " (-0.0, 'Central Midfield'),\n",
       " (0.0, 'Centre-Back'),\n",
       " (-0.0, 'Centre-Forward'),\n",
       " (0.0, 'Defensive Midfield'),\n",
       " (0.0, 'Goals+Assists-PKs/90'),\n",
       " (0.0, 'Goals+Assists/90'),\n",
       " (0.0, 'Goals-PKs/90'),\n",
       " (0.0, 'Goals/90'),\n",
       " (-0.0, 'Left Midfield'),\n",
       " (0.0, 'Left Winger'),\n",
       " (-0.0, 'Left-Back'),\n",
       " (0.0, 'Minutes'),\n",
       " (0.0, 'Penalty_Attempts'),\n",
       " (0.0, 'Penalty_Goals'),\n",
       " (-0.0, 'Red_Cards'),\n",
       " (-0.0, 'Right Midfield'),\n",
       " (0.0, 'Right Winger'),\n",
       " (-0.0, 'Right-Back'),\n",
       " (0.0, 'Second Striker'),\n",
       " (0.0, 'Starts'),\n",
       " (-0.0, 'Yellow_Cards'),\n",
       " (-0.0, 'age'),\n",
       " (0.0, 'is_attack'),\n",
       " (-0.0, 'is_defence'),\n",
       " (-0.0, 'is_midfield'),\n",
       " (0.0, 'npxG'),\n",
       " (0.0, 'npxG+xA/90'),\n",
       " (0.0, 'npxG/90'),\n",
       " (0.0, 'xA'),\n",
       " (0.0, 'xA/90'),\n",
       " (0.0, 'xG'),\n",
       " (0.0, 'xG+xA/90'),\n",
       " (0.0, 'xG/90'),\n",
       " (0.7400692678152119, 'Goals'),\n",
       " (1.2762662845964627, 'Assists')]"
      ]
     },
     "execution_count": 42,
     "metadata": {},
     "output_type": "execute_result"
    }
   ],
   "source": [
    "sorted(list(zip(lasso.coef_, df_features.columns)))\n"
   ]
  },
  {
   "cell_type": "markdown",
   "metadata": {},
   "source": [
    "Did the same thing with support vector regressor"
   ]
  },
  {
   "cell_type": "code",
   "execution_count": 43,
   "metadata": {},
   "outputs": [
    {
     "data": {
      "text/plain": [
       "164.958054903222"
      ]
     },
     "execution_count": 43,
     "metadata": {},
     "output_type": "execute_result"
    }
   ],
   "source": [
    "svr = SVR()\n",
    "svr.fit(X_train, y_train)\n",
    "y_train_preds = svr.predict(X_train)\n",
    "mean_squared_error(y_train, y_train_preds)\n"
   ]
  },
  {
   "cell_type": "code",
   "execution_count": 44,
   "metadata": {},
   "outputs": [
    {
     "data": {
      "text/plain": [
       "158.27376011007516"
      ]
     },
     "execution_count": 44,
     "metadata": {},
     "output_type": "execute_result"
    }
   ],
   "source": [
    "y_preds = svr.predict(X_test)\n",
    "mean_squared_error(y_test, y_preds)\n"
   ]
  },
  {
   "cell_type": "code",
   "execution_count": 45,
   "metadata": {},
   "outputs": [
    {
     "name": "stdout",
     "output_type": "stream",
     "text": [
      "Fitting 5 folds for each of 400 candidates, totalling 2000 fits\n"
     ]
    },
    {
     "name": "stderr",
     "output_type": "stream",
     "text": [
      "[Parallel(n_jobs=-1)]: Using backend LokyBackend with 8 concurrent workers.\n",
      "[Parallel(n_jobs=-1)]: Done  52 tasks      | elapsed:    0.6s\n",
      "[Parallel(n_jobs=-1)]: Done 576 tasks      | elapsed:    5.6s\n",
      "[Parallel(n_jobs=-1)]: Done 1423 tasks      | elapsed:   24.4s\n",
      "[Parallel(n_jobs=-1)]: Done 1776 tasks      | elapsed:   43.0s\n"
     ]
    },
    {
     "name": "stdout",
     "output_type": "stream",
     "text": [
      "-12.192840629208913\n",
      "{'C': 10, 'degree': 0.5, 'epsilon': 5, 'kernel': 'rbf'}\n"
     ]
    },
    {
     "name": "stderr",
     "output_type": "stream",
     "text": [
      "[Parallel(n_jobs=-1)]: Done 2000 out of 2000 | elapsed:   56.7s finished\n"
     ]
    },
    {
     "data": {
      "text/plain": [
       "142.16443119520596"
      ]
     },
     "execution_count": 45,
     "metadata": {},
     "output_type": "execute_result"
    }
   ],
   "source": [
    "param_grid = {'kernel': ['linear', 'poly', 'rbf', 'sigmoid'],\n",
    "             'degree': [.5,1,2,3], 'C': [1,5,10,25,50], 'epsilon': [.1, .5, 1, 5, 10]}\n",
    "svr_CV = GridSearchCV(svr, param_grid, scoring = 'neg_root_mean_squared_error', n_jobs = -1, verbose = 1)\n",
    "svr_CV.fit(X_train, y_train)\n",
    "print(svr_CV.best_score_)\n",
    "print(svr_CV.best_params_)\n",
    "y_preds = svr_CV.predict(X_test)\n",
    "mean_squared_error(y_test, y_preds)"
   ]
  },
  {
   "cell_type": "markdown",
   "metadata": {},
   "source": [
    "Created than tuned a decision tree regressor"
   ]
  },
  {
   "cell_type": "code",
   "execution_count": 46,
   "metadata": {},
   "outputs": [
    {
     "data": {
      "text/plain": [
       "0.32988618623853205"
      ]
     },
     "execution_count": 46,
     "metadata": {},
     "output_type": "execute_result"
    }
   ],
   "source": [
    "tree = DecisionTreeRegressor()\n",
    "tree.fit(X_train, y_train)\n",
    "y_train_preds = tree.predict(X_train)\n",
    "mean_squared_error(y_train, y_train_preds)\n"
   ]
  },
  {
   "cell_type": "code",
   "execution_count": 47,
   "metadata": {},
   "outputs": [
    {
     "data": {
      "text/plain": [
       "263.38415133035716"
      ]
     },
     "execution_count": 47,
     "metadata": {},
     "output_type": "execute_result"
    }
   ],
   "source": [
    "y_preds = tree.predict(X_test)\n",
    "mean_squared_error(y_test, y_preds)\n"
   ]
  },
  {
   "cell_type": "code",
   "execution_count": 48,
   "metadata": {},
   "outputs": [
    {
     "name": "stderr",
     "output_type": "stream",
     "text": [
      "[Parallel(n_jobs=-1)]: Using backend LokyBackend with 8 concurrent workers.\n"
     ]
    },
    {
     "name": "stdout",
     "output_type": "stream",
     "text": [
      "Fitting 5 folds for each of 250 candidates, totalling 1250 fits\n"
     ]
    },
    {
     "name": "stderr",
     "output_type": "stream",
     "text": [
      "[Parallel(n_jobs=-1)]: Done  56 tasks      | elapsed:    0.3s\n"
     ]
    },
    {
     "name": "stdout",
     "output_type": "stream",
     "text": [
      "-12.214885057595277\n",
      "{'max_depth': 2, 'min_samples_leaf': 7, 'min_samples_split': 2}\n"
     ]
    },
    {
     "name": "stderr",
     "output_type": "stream",
     "text": [
      "[Parallel(n_jobs=-1)]: Done 1250 out of 1250 | elapsed:    1.5s finished\n"
     ]
    },
    {
     "data": {
      "text/plain": [
       "153.38535002126525"
      ]
     },
     "execution_count": 48,
     "metadata": {},
     "output_type": "execute_result"
    }
   ],
   "source": [
    "param_grid = {'max_depth': [None, 1, 2, 5, 10], 'min_samples_split': [2,4,6,8,10],\n",
    "              'min_samples_leaf': [1,2,3,4,5,6,7,8,9,10]}\n",
    "tree_CV = GridSearchCV(tree, param_grid, scoring = 'neg_root_mean_squared_error', n_jobs = -1, verbose = 1)\n",
    "tree_CV.fit(X_train, y_train)\n",
    "print(tree_CV.best_score_)\n",
    "print(tree_CV.best_params_)\n",
    "y_preds = tree_CV.predict(X_test)\n",
    "mean_squared_error(y_test, y_preds)"
   ]
  },
  {
   "cell_type": "markdown",
   "metadata": {},
   "source": [
    "Created and tuned a random forest model. This one performed best."
   ]
  },
  {
   "cell_type": "code",
   "execution_count": 49,
   "metadata": {},
   "outputs": [
    {
     "data": {
      "text/plain": [
       "23.770938014808145"
      ]
     },
     "execution_count": 49,
     "metadata": {},
     "output_type": "execute_result"
    }
   ],
   "source": [
    "rf = RandomForestRegressor(n_jobs = -1)\n",
    "rf.fit(X_train, y_train)\n",
    "y_train_preds = rf.predict(X_train)\n",
    "mean_squared_error(y_train, y_train_preds)\n"
   ]
  },
  {
   "cell_type": "code",
   "execution_count": 50,
   "metadata": {},
   "outputs": [
    {
     "data": {
      "text/plain": [
       "136.78208289603378"
      ]
     },
     "execution_count": 50,
     "metadata": {},
     "output_type": "execute_result"
    }
   ],
   "source": [
    "y_preds = rf.predict(X_test)\n",
    "mean_squared_error(y_test, y_preds)\n"
   ]
  },
  {
   "cell_type": "code",
   "execution_count": 51,
   "metadata": {},
   "outputs": [
    {
     "name": "stdout",
     "output_type": "stream",
     "text": [
      "Fitting 5 folds for each of 294 candidates, totalling 1470 fits\n"
     ]
    },
    {
     "name": "stderr",
     "output_type": "stream",
     "text": [
      "[Parallel(n_jobs=-1)]: Using backend LokyBackend with 8 concurrent workers.\n",
      "[Parallel(n_jobs=-1)]: Done  34 tasks      | elapsed:    2.6s\n",
      "[Parallel(n_jobs=-1)]: Done 184 tasks      | elapsed:   27.8s\n",
      "[Parallel(n_jobs=-1)]: Done 434 tasks      | elapsed:   47.3s\n",
      "[Parallel(n_jobs=-1)]: Done 784 tasks      | elapsed:  1.2min\n",
      "[Parallel(n_jobs=-1)]: Done 1234 tasks      | elapsed:  1.9min\n",
      "[Parallel(n_jobs=-1)]: Done 1470 out of 1470 | elapsed:  2.4min finished\n"
     ]
    },
    {
     "name": "stdout",
     "output_type": "stream",
     "text": [
      "-12.134814863644525\n",
      "{'max_depth': 2, 'min_samples_split': 2, 'n_estimators': 5}\n"
     ]
    },
    {
     "data": {
      "text/plain": [
       "128.60827288806308"
      ]
     },
     "execution_count": 51,
     "metadata": {},
     "output_type": "execute_result"
    }
   ],
   "source": [
    "param_grid = {'n_estimators': [5, 10, 25,50,100,500], 'max_depth': [None, 1, 2, 3, 4, 5, 10],\n",
    "              'min_samples_split': [2,4,6,8,10,15,20]}\n",
    "rf_CV = GridSearchCV(rf, param_grid, scoring = 'neg_root_mean_squared_error', n_jobs = -1, verbose = 1)\n",
    "rf_CV.fit(X_train, y_train)\n",
    "print(rf_CV.best_score_)\n",
    "print(rf_CV.best_params_)\n",
    "y_preds = rf_CV.predict(X_test)\n",
    "mean_squared_error(y_test, y_preds)"
   ]
  },
  {
   "cell_type": "code",
   "execution_count": 62,
   "metadata": {},
   "outputs": [
    {
     "data": {
      "text/plain": [
       "Text(0, 0.5, 'Residuals')"
      ]
     },
     "execution_count": 62,
     "metadata": {},
     "output_type": "execute_result"
    },
    {
     "data": {
      "image/png": "[encoded data removed]",
      "text/plain": [
       "<Figure size 576x396 with 1 Axes>"
      ]
     },
     "metadata": {},
     "output_type": "display_data"
    }
   ],
   "source": [
    "sns.residplot(y_test, y_preds)\n",
    "plt.title('Residual Plot')\n",
    "plt.xlabel('Estimated Transfer Fee')\n",
    "plt.ylabel('Residuals')"
   ]
  },
  {
   "cell_type": "markdown",
   "metadata": {},
   "source": [
    "Examine feature importances"
   ]
  },
  {
   "cell_type": "code",
   "execution_count": 53,
   "metadata": {
    "scrolled": true
   },
   "outputs": [
    {
     "data": {
      "text/plain": [
       "[(0.0, 'Assists/90'),\n",
       " (0.0, 'Attacking Midfield'),\n",
       " (0.0, 'Central Midfield'),\n",
       " (0.0, 'Centre-Back'),\n",
       " (0.0, 'Centre-Forward'),\n",
       " (0.0, 'Defensive Midfield'),\n",
       " (0.0, 'Goals+Assists-PKs/90'),\n",
       " (0.0, 'Goals+Assists/90'),\n",
       " (0.0, 'Goals-PKs/90'),\n",
       " (0.0, 'Left Midfield'),\n",
       " (0.0, 'Left Winger'),\n",
       " (0.0, 'Left-Back'),\n",
       " (0.0, 'Penalty_Attempts'),\n",
       " (0.0, 'Penalty_Goals'),\n",
       " (0.0, 'Red_Cards'),\n",
       " (0.0, 'Right Midfield'),\n",
       " (0.0, 'Right Winger'),\n",
       " (0.0, 'Right-Back'),\n",
       " (0.0, 'Starts'),\n",
       " (0.0, 'Yellow_Cards'),\n",
       " (0.0, 'age'),\n",
       " (0.0, 'is_attack'),\n",
       " (0.0, 'is_defence'),\n",
       " (0.0, 'is_midfield'),\n",
       " (0.0, 'xA/90'),\n",
       " (0.0, 'xG'),\n",
       " (0.0, 'xG+xA/90'),\n",
       " (0.0, 'xG/90'),\n",
       " (0.03910623697454691, 'npxG/90'),\n",
       " (0.040981692656596375, 'npxG'),\n",
       " (0.05048816920466362, 'npxG+xA/90'),\n",
       " (0.05924256048431698, 'xA'),\n",
       " (0.0904528051918005, 'Goals'),\n",
       " (0.1082312950410385, 'Minutes'),\n",
       " (0.12331745340822188, 'Second Striker'),\n",
       " (0.20308727017309325, 'Goals/90'),\n",
       " (0.28509251686572185, 'Assists')]"
      ]
     },
     "execution_count": 53,
     "metadata": {},
     "output_type": "execute_result"
    }
   ],
   "source": [
    "sorted(zip(rf_CV.best_estimator_.feature_importances_, df_features.columns))"
   ]
  },
  {
   "cell_type": "markdown",
   "metadata": {},
   "source": [
    "Lastly I used an xgboost model and tuned hyperparametes."
   ]
  },
  {
   "cell_type": "code",
   "execution_count": 54,
   "metadata": {},
   "outputs": [
    {
     "data": {
      "text/plain": [
       "1.476298015111357"
      ]
     },
     "execution_count": 54,
     "metadata": {},
     "output_type": "execute_result"
    }
   ],
   "source": [
    "xg = xgb.XGBRegressor(n_jobs = -1, objective = 'reg:squarederror', eval_metric = 'rmse')\n",
    "xg.fit(X_train, y_train)\n",
    "y_train_preds = xg.predict(X_train)\n",
    "mean_squared_error(y_train, y_train_preds)\n"
   ]
  },
  {
   "cell_type": "code",
   "execution_count": 55,
   "metadata": {},
   "outputs": [
    {
     "data": {
      "text/plain": [
       "162.03224820607335"
      ]
     },
     "execution_count": 55,
     "metadata": {},
     "output_type": "execute_result"
    }
   ],
   "source": [
    "y_preds = xg.predict(X_test)\n",
    "mean_squared_error(y_test, y_preds)\n"
   ]
  },
  {
   "cell_type": "code",
   "execution_count": 56,
   "metadata": {},
   "outputs": [
    {
     "data": {
      "text/plain": [
       "[(0.0044081816, 'Left-Back'),\n",
       " (0.004467047, 'Penalty_Attempts'),\n",
       " (0.0047162347, 'Central Midfield'),\n",
       " (0.0072989124, 'Defensive Midfield'),\n",
       " (0.00811699, 'Right Winger'),\n",
       " (0.00859931, 'Assists/90'),\n",
       " (0.009251139, 'Centre-Back'),\n",
       " (0.009873895, 'Right-Back'),\n",
       " (0.01032367, 'is_defence'),\n",
       " (0.010406257, 'xA/90'),\n",
       " (0.010441739, 'Red_Cards'),\n",
       " (0.012015592, 'Right Midfield'),\n",
       " (0.012033916, 'Left Midfield'),\n",
       " (0.012538184, 'Starts'),\n",
       " (0.012557619, 'age'),\n",
       " (0.013130587, 'Centre-Forward'),\n",
       " (0.014046554, 'is_midfield'),\n",
       " (0.015302745, 'Minutes'),\n",
       " (0.015870897, 'Goals-PKs/90'),\n",
       " (0.016197294, 'Attacking Midfield'),\n",
       " (0.018368926, 'Yellow_Cards'),\n",
       " (0.019278776, 'Goals/90'),\n",
       " (0.020559067, 'xG/90'),\n",
       " (0.021760605, 'npxG'),\n",
       " (0.025872208, 'Goals+Assists-PKs/90'),\n",
       " (0.026402956, 'npxG+xA/90'),\n",
       " (0.033240046, 'Goals'),\n",
       " (0.033254035, 'xA'),\n",
       " (0.03825296, 'xG+xA/90'),\n",
       " (0.039958697, 'xG'),\n",
       " (0.044858325, 'Goals+Assists/90'),\n",
       " (0.055941634, 'npxG/90'),\n",
       " (0.058066867, 'Penalty_Goals'),\n",
       " (0.07073237, 'Assists'),\n",
       " (0.076737754, 'Left Winger'),\n",
       " (0.10080318, 'is_attack'),\n",
       " (0.10431484, 'Second Striker')]"
      ]
     },
     "execution_count": 56,
     "metadata": {},
     "output_type": "execute_result"
    }
   ],
   "source": [
    "sorted(zip(xg.feature_importances_, df_features.columns))\n"
   ]
  },
  {
   "cell_type": "code",
   "execution_count": 57,
   "metadata": {},
   "outputs": [
    {
     "name": "stdout",
     "output_type": "stream",
     "text": [
      "Fitting 5 folds for each of 126 candidates, totalling 630 fits\n"
     ]
    },
    {
     "name": "stderr",
     "output_type": "stream",
     "text": [
      "[Parallel(n_jobs=-1)]: Using backend LokyBackend with 8 concurrent workers.\n",
      "[Parallel(n_jobs=-1)]: Done  34 tasks      | elapsed:    1.0s\n"
     ]
    },
    {
     "name": "stdout",
     "output_type": "stream",
     "text": [
      "-12.041900684138943\n",
      "{'eta': 1e-20, 'max_depth': 1, 'min_child_weight': 50}\n"
     ]
    },
    {
     "name": "stderr",
     "output_type": "stream",
     "text": [
      "[Parallel(n_jobs=-1)]: Done 630 out of 630 | elapsed:    9.9s finished\n"
     ]
    },
    {
     "data": {
      "text/plain": [
       "130.42788322745764"
      ]
     },
     "execution_count": 57,
     "metadata": {},
     "output_type": "execute_result"
    }
   ],
   "source": [
    "param_grid = {'eta': [1e-100, 1e-50, 1e-20, 1e-10,.000000001, .00000001],\n",
    "              'max_depth': [1,2,3],\n",
    "              'min_child_weight': [15,20, 25, 30, 50, 75,  100]}\n",
    "xg_CV = GridSearchCV(xg, param_grid, scoring = 'neg_root_mean_squared_error', n_jobs = -1, verbose = 1)\n",
    "xg_CV.fit(X_train, y_train)\n",
    "print(xg_CV.best_score_)\n",
    "print(xg_CV.best_params_)\n",
    "y_preds = xg_CV.predict(X_test)\n",
    "mean_squared_error(y_test, y_preds)"
   ]
  },
  {
   "cell_type": "code",
   "execution_count": null,
   "metadata": {},
   "outputs": [],
   "source": []
  }
 ],
 "metadata": {
  "kernelspec": {
   "display_name": "Python 3",
   "language": "python",
   "name": "python3"
  },
  "language_info": {
   "codemirror_mode": {
    "name": "ipython",
    "version": 3
   },
   "file_extension": ".py",
   "mimetype": "text/x-python",
   "name": "python",
   "nbconvert_exporter": "python",
   "pygments_lexer": "ipython3",
   "version": "3.7.6"
  }
 },
 "nbformat": 4,
 "nbformat_minor": 4
}
