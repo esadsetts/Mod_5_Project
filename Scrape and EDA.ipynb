{
 "cells": [
  {
   "cell_type": "markdown",
   "metadata": {},
   "source": [
    "import necessary libraries"
   ]
  },
  {
   "cell_type": "code",
   "execution_count": 1,
   "metadata": {},
   "outputs": [],
   "source": [
    "import numpy as np\n",
    "import pandas as pd\n",
    "import matplotlib.pyplot as plt\n",
    "import seaborn as sns\n",
    "from bs4 import BeautifulSoup\n",
    "import requests\n",
    "plt.style.use('seaborn')\n",
    "\n",
    "\n"
   ]
  },
  {
   "cell_type": "markdown",
   "metadata": {},
   "source": [
    "# Data Preperation and Understanding\n",
    "Load in data for last three seasons from all of the top leagues. Only count transfers in to avoid double counting. Only count transfers greater than zero pounds, as free transfers are usually players out of contract and don't give us that much information. I also filtered out any transfers that start with 'Loan fee:' because loan fees are much lower than transfers and not the question I am interested in answering. At the end of all that I reset the index."
   ]
  },
  {
   "cell_type": "code",
   "execution_count": 2,
   "metadata": {},
   "outputs": [
    {
     "data": {
      "text/html": [
       "<div>\n",
       "<style scoped>\n",
       "    .dataframe tbody tr th:only-of-type {\n",
       "        vertical-align: middle;\n",
       "    }\n",
       "\n",
       "    .dataframe tbody tr th {\n",
       "        vertical-align: top;\n",
       "    }\n",
       "\n",
       "    .dataframe thead th {\n",
       "        text-align: right;\n",
       "    }\n",
       "</style>\n",
       "<table border=\"1\" class=\"dataframe\">\n",
       "  <thead>\n",
       "    <tr style=\"text-align: right;\">\n",
       "      <th></th>\n",
       "      <th>club_name</th>\n",
       "      <th>player_name</th>\n",
       "      <th>age</th>\n",
       "      <th>position</th>\n",
       "      <th>club_involved_name</th>\n",
       "      <th>fee</th>\n",
       "      <th>transfer_movement</th>\n",
       "      <th>fee_cleaned</th>\n",
       "      <th>league_name</th>\n",
       "      <th>year</th>\n",
       "      <th>season</th>\n",
       "    </tr>\n",
       "  </thead>\n",
       "  <tbody>\n",
       "    <tr>\n",
       "      <th>0</th>\n",
       "      <td>Feyenoord Rotterdam</td>\n",
       "      <td>Steven Berghuis</td>\n",
       "      <td>25</td>\n",
       "      <td>Right Winger</td>\n",
       "      <td>Watford</td>\n",
       "      <td>£5.85m</td>\n",
       "      <td>in</td>\n",
       "      <td>5.85</td>\n",
       "      <td>Eredivisie</td>\n",
       "      <td>2017</td>\n",
       "      <td>2017/2018</td>\n",
       "    </tr>\n",
       "    <tr>\n",
       "      <th>1</th>\n",
       "      <td>Feyenoord Rotterdam</td>\n",
       "      <td>Ridgeciano Haps</td>\n",
       "      <td>24</td>\n",
       "      <td>Left-Back</td>\n",
       "      <td>AZ Alkmaar</td>\n",
       "      <td>£5.40m</td>\n",
       "      <td>in</td>\n",
       "      <td>5.40</td>\n",
       "      <td>Eredivisie</td>\n",
       "      <td>2017</td>\n",
       "      <td>2017/2018</td>\n",
       "    </tr>\n",
       "    <tr>\n",
       "      <th>2</th>\n",
       "      <td>Feyenoord Rotterdam</td>\n",
       "      <td>Jeremiah St. Juste</td>\n",
       "      <td>20</td>\n",
       "      <td>Centre-Back</td>\n",
       "      <td>Heerenveen</td>\n",
       "      <td>£4.32m</td>\n",
       "      <td>in</td>\n",
       "      <td>4.32</td>\n",
       "      <td>Eredivisie</td>\n",
       "      <td>2017</td>\n",
       "      <td>2017/2018</td>\n",
       "    </tr>\n",
       "    <tr>\n",
       "      <th>3</th>\n",
       "      <td>Feyenoord Rotterdam</td>\n",
       "      <td>Sofyan Amrabat</td>\n",
       "      <td>20</td>\n",
       "      <td>Central Midfield</td>\n",
       "      <td>FC Utrecht</td>\n",
       "      <td>£3.60m</td>\n",
       "      <td>in</td>\n",
       "      <td>3.60</td>\n",
       "      <td>Eredivisie</td>\n",
       "      <td>2017</td>\n",
       "      <td>2017/2018</td>\n",
       "    </tr>\n",
       "    <tr>\n",
       "      <th>4</th>\n",
       "      <td>Feyenoord Rotterdam</td>\n",
       "      <td>Sam Larsson</td>\n",
       "      <td>24</td>\n",
       "      <td>Left Winger</td>\n",
       "      <td>Heerenveen</td>\n",
       "      <td>£3.60m</td>\n",
       "      <td>in</td>\n",
       "      <td>3.60</td>\n",
       "      <td>Eredivisie</td>\n",
       "      <td>2017</td>\n",
       "      <td>2017/2018</td>\n",
       "    </tr>\n",
       "    <tr>\n",
       "      <th>...</th>\n",
       "      <td>...</td>\n",
       "      <td>...</td>\n",
       "      <td>...</td>\n",
       "      <td>...</td>\n",
       "      <td>...</td>\n",
       "      <td>...</td>\n",
       "      <td>...</td>\n",
       "      <td>...</td>\n",
       "      <td>...</td>\n",
       "      <td>...</td>\n",
       "      <td>...</td>\n",
       "    </tr>\n",
       "    <tr>\n",
       "      <th>2161</th>\n",
       "      <td>Granada CF</td>\n",
       "      <td>Antoñín</td>\n",
       "      <td>19</td>\n",
       "      <td>Centre-Forward</td>\n",
       "      <td>Málaga CF</td>\n",
       "      <td>£1.35m</td>\n",
       "      <td>in</td>\n",
       "      <td>1.35</td>\n",
       "      <td>Primera Division</td>\n",
       "      <td>2019</td>\n",
       "      <td>2019/2020</td>\n",
       "    </tr>\n",
       "    <tr>\n",
       "      <th>2162</th>\n",
       "      <td>RCD Mallorca</td>\n",
       "      <td>Ante Budimir</td>\n",
       "      <td>27</td>\n",
       "      <td>Centre-Forward</td>\n",
       "      <td>Crotone</td>\n",
       "      <td>£1.98m</td>\n",
       "      <td>in</td>\n",
       "      <td>1.98</td>\n",
       "      <td>Primera Division</td>\n",
       "      <td>2019</td>\n",
       "      <td>2019/2020</td>\n",
       "    </tr>\n",
       "    <tr>\n",
       "      <th>2163</th>\n",
       "      <td>RCD Mallorca</td>\n",
       "      <td>Yannis Salibur</td>\n",
       "      <td>28</td>\n",
       "      <td>Right Winger</td>\n",
       "      <td>Guingamp</td>\n",
       "      <td>£1.80m</td>\n",
       "      <td>in</td>\n",
       "      <td>1.80</td>\n",
       "      <td>Primera Division</td>\n",
       "      <td>2019</td>\n",
       "      <td>2019/2020</td>\n",
       "    </tr>\n",
       "    <tr>\n",
       "      <th>2164</th>\n",
       "      <td>RCD Mallorca</td>\n",
       "      <td>Martin Valjent</td>\n",
       "      <td>23</td>\n",
       "      <td>Centre-Back</td>\n",
       "      <td>Chievo Verona</td>\n",
       "      <td>£1.35m</td>\n",
       "      <td>in</td>\n",
       "      <td>1.35</td>\n",
       "      <td>Primera Division</td>\n",
       "      <td>2019</td>\n",
       "      <td>2019/2020</td>\n",
       "    </tr>\n",
       "    <tr>\n",
       "      <th>2165</th>\n",
       "      <td>RCD Mallorca</td>\n",
       "      <td>Igor Zlatanovic</td>\n",
       "      <td>21</td>\n",
       "      <td>Centre-Forward</td>\n",
       "      <td>Radnik</td>\n",
       "      <td>£1.17m</td>\n",
       "      <td>in</td>\n",
       "      <td>1.17</td>\n",
       "      <td>Primera Division</td>\n",
       "      <td>2019</td>\n",
       "      <td>2019/2020</td>\n",
       "    </tr>\n",
       "  </tbody>\n",
       "</table>\n",
       "<p>2166 rows × 11 columns</p>\n",
       "</div>"
      ],
      "text/plain": [
       "                club_name         player_name  age          position  \\\n",
       "0     Feyenoord Rotterdam     Steven Berghuis   25      Right Winger   \n",
       "1     Feyenoord Rotterdam     Ridgeciano Haps   24         Left-Back   \n",
       "2     Feyenoord Rotterdam  Jeremiah St. Juste   20       Centre-Back   \n",
       "3     Feyenoord Rotterdam      Sofyan Amrabat   20  Central Midfield   \n",
       "4     Feyenoord Rotterdam         Sam Larsson   24       Left Winger   \n",
       "...                   ...                 ...  ...               ...   \n",
       "2161           Granada CF             Antoñín   19    Centre-Forward   \n",
       "2162         RCD Mallorca        Ante Budimir   27    Centre-Forward   \n",
       "2163         RCD Mallorca      Yannis Salibur   28      Right Winger   \n",
       "2164         RCD Mallorca      Martin Valjent   23       Centre-Back   \n",
       "2165         RCD Mallorca     Igor Zlatanovic   21    Centre-Forward   \n",
       "\n",
       "     club_involved_name     fee transfer_movement  fee_cleaned  \\\n",
       "0               Watford  £5.85m                in         5.85   \n",
       "1            AZ Alkmaar  £5.40m                in         5.40   \n",
       "2            Heerenveen  £4.32m                in         4.32   \n",
       "3            FC Utrecht  £3.60m                in         3.60   \n",
       "4            Heerenveen  £3.60m                in         3.60   \n",
       "...                 ...     ...               ...          ...   \n",
       "2161          Málaga CF  £1.35m                in         1.35   \n",
       "2162            Crotone  £1.98m                in         1.98   \n",
       "2163           Guingamp  £1.80m                in         1.80   \n",
       "2164      Chievo Verona  £1.35m                in         1.35   \n",
       "2165             Radnik  £1.17m                in         1.17   \n",
       "\n",
       "           league_name  year     season  \n",
       "0           Eredivisie  2017  2017/2018  \n",
       "1           Eredivisie  2017  2017/2018  \n",
       "2           Eredivisie  2017  2017/2018  \n",
       "3           Eredivisie  2017  2017/2018  \n",
       "4           Eredivisie  2017  2017/2018  \n",
       "...                ...   ...        ...  \n",
       "2161  Primera Division  2019  2019/2020  \n",
       "2162  Primera Division  2019  2019/2020  \n",
       "2163  Primera Division  2019  2019/2020  \n",
       "2164  Primera Division  2019  2019/2020  \n",
       "2165  Primera Division  2019  2019/2020  \n",
       "\n",
       "[2166 rows x 11 columns]"
      ]
     },
     "execution_count": 2,
     "metadata": {},
     "output_type": "execute_result"
    }
   ],
   "source": [
    "df = pd.DataFrame()\n",
    "\n",
    "for year in ['2017','2018','2019']:\n",
    "    df_eredivisie = pd.read_csv('transfers-master/data/'+year+'/dutch_eredivisie.csv')\n",
    "    df_championship = pd.read_csv('transfers-master/data/'+year+'/english_championship.csv')\n",
    "    df_premier_league = pd.read_csv('transfers-master/data/'+year+'/english_premier_league.csv')\n",
    "    df_ligue_un = pd.read_csv('transfers-master/data/'+year+'/french_ligue_1.csv')\n",
    "    df_bundesliga = pd.read_csv('transfers-master/data/'+year+'/german_bundesliga_1.csv')\n",
    "    df_serie_a = pd.read_csv('transfers-master/data/'+year+'/italian_serie_a.csv')\n",
    "    df_liga_nos = pd.read_csv('transfers-master/data/'+year+'/portugese_liga_nos.csv')\n",
    "    df_premier_liga = pd.read_csv('transfers-master/data/'+year+'/russian_premier_liga.csv')\n",
    "    df_la_liga = pd.read_csv('transfers-master/data/'+year+'/spanish_primera_division.csv')\n",
    "    \n",
    "    df_transfers = pd.concat([df_eredivisie, df_championship, df_premier_league, df_ligue_un, df_bundesliga,\n",
    "                             df_serie_a, df_liga_nos, df_premier_liga, df_la_liga])\n",
    "    \n",
    "    df_transfers_in = df_transfers[df_transfers.transfer_movement == 'in']\n",
    "    \n",
    "    df_transfers_in = df_transfers_in[df_transfers_in.fee_cleaned > 0]\n",
    "    \n",
    "    df_transfers_in = df_transfers_in[df_transfers_in.fee.apply(lambda x: not x.startswith('Loan fee:'))]\n",
    "    \n",
    "    df = pd.concat([df, df_transfers_in])\n",
    "    \n",
    "df.reset_index(drop= True)\n",
    "\n",
    "\n",
    "\n"
   ]
  },
  {
   "cell_type": "markdown",
   "metadata": {},
   "source": [
    "I plotted total transfer spending over the last three years"
   ]
  },
  {
   "cell_type": "code",
   "execution_count": 3,
   "metadata": {
    "scrolled": true
   },
   "outputs": [
    {
     "data": {
      "text/plain": [
       "Text(0, 0.5, 'Total Transfer Spending')"
      ]
     },
     "execution_count": 3,
     "metadata": {},
     "output_type": "execute_result"
    },
    {
     "data": {
      "image/png": "[encoded data removed]",
      "text/plain": [
       "<Figure size 576x396 with 1 Axes>"
      ]
     },
     "metadata": {},
     "output_type": "display_data"
    }
   ],
   "source": [
    "df.groupby('year').fee_cleaned.sum().plot(kind = 'bar', title = 'Total Transfer Spending by Year')\n",
    "plt.xlabel('Year')\n",
    "plt.ylabel('Total Transfer Spending')\n"
   ]
  },
  {
   "cell_type": "markdown",
   "metadata": {},
   "source": [
    "I plotted the mean transfer value for each year"
   ]
  },
  {
   "cell_type": "code",
   "execution_count": 4,
   "metadata": {},
   "outputs": [
    {
     "data": {
      "text/plain": [
       "Text(0, 0.5, 'Average Transfer Value')"
      ]
     },
     "execution_count": 4,
     "metadata": {},
     "output_type": "execute_result"
    },
    {
     "data": {
      "image/png": "[encoded data removed]",
      "text/plain": [
       "<Figure size 576x396 with 1 Axes>"
      ]
     },
     "metadata": {},
     "output_type": "display_data"
    }
   ],
   "source": [
    "df.groupby('year').fee_cleaned.mean().plot(kind = 'bar', title = 'Average Transfer Value')\n",
    "plt.xlabel('Year')\n",
    "plt.ylabel('Average Transfer Value')"
   ]
  },
  {
   "cell_type": "markdown",
   "metadata": {},
   "source": [
    "I plotted the total transfer spending by league"
   ]
  },
  {
   "cell_type": "code",
   "execution_count": 5,
   "metadata": {
    "scrolled": true
   },
   "outputs": [
    {
     "data": {
      "text/plain": [
       "Text(0, 0.5, 'Total Transfer Spending')"
      ]
     },
     "execution_count": 5,
     "metadata": {},
     "output_type": "execute_result"
    },
    {
     "data": {
      "image/png": "[encoded data removed]",
      "text/plain": [
       "<Figure size 576x396 with 1 Axes>"
      ]
     },
     "metadata": {},
     "output_type": "display_data"
    }
   ],
   "source": [
    "df.groupby('league_name').fee_cleaned.sum().sort_values().plot(kind = 'bar', title = 'Total Transfer Spending by League')\n",
    "plt.xlabel('League Name')\n",
    "plt.ylabel('Total Transfer Spending')"
   ]
  },
  {
   "cell_type": "markdown",
   "metadata": {},
   "source": [
    "I plotted mean transfer value by league"
   ]
  },
  {
   "cell_type": "code",
   "execution_count": 6,
   "metadata": {
    "scrolled": true
   },
   "outputs": [
    {
     "data": {
      "text/plain": [
       "Text(0, 0.5, 'Average Transfer Value')"
      ]
     },
     "execution_count": 6,
     "metadata": {},
     "output_type": "execute_result"
    },
    {
     "data": {
      "image/png": "[encoded data removed]",
      "text/plain": [
       "<Figure size 576x396 with 1 Axes>"
      ]
     },
     "metadata": {},
     "output_type": "display_data"
    }
   ],
   "source": [
    "df.groupby('league_name').fee_cleaned.mean().sort_values().plot(kind = 'bar', title = 'Average Transfer Value by League')\n",
    "plt.xlabel('League Name')\n",
    "plt.ylabel('Average Transfer Value')"
   ]
  },
  {
   "cell_type": "markdown",
   "metadata": {},
   "source": [
    "I plotted the mean transfer fee as a function of the players age"
   ]
  },
  {
   "cell_type": "code",
   "execution_count": 7,
   "metadata": {
    "scrolled": true
   },
   "outputs": [
    {
     "data": {
      "text/plain": [
       "Text(0, 0.5, 'Average Transfer Value')"
      ]
     },
     "execution_count": 7,
     "metadata": {},
     "output_type": "execute_result"
    },
    {
     "data": {
      "image/png": "[encoded data removed]",
      "text/plain": [
       "<Figure size 576x396 with 1 Axes>"
      ]
     },
     "metadata": {},
     "output_type": "display_data"
    }
   ],
   "source": [
    "df.groupby('age').fee_cleaned.mean().plot(title = 'Average Transfer Value by Age')\n",
    "plt.xlabel('Age')\n",
    "plt.ylabel('Average Transfer Value')"
   ]
  },
  {
   "cell_type": "markdown",
   "metadata": {},
   "source": [
    "Plot mean value by position"
   ]
  },
  {
   "cell_type": "code",
   "execution_count": 8,
   "metadata": {
    "scrolled": true
   },
   "outputs": [
    {
     "data": {
      "text/plain": [
       "Text(0, 0.5, 'Average Transfer Value')"
      ]
     },
     "execution_count": 8,
     "metadata": {},
     "output_type": "execute_result"
    },
    {
     "data": {
      "image/png": "[encoded data removed]",
      "text/plain": [
       "<Figure size 576x396 with 1 Axes>"
      ]
     },
     "metadata": {},
     "output_type": "display_data"
    }
   ],
   "source": [
    "df.groupby('position').fee_cleaned.mean().sort_values().plot(kind = 'bar', title = 'Average Transfer Value by Position')\n",
    "plt.xlabel('Position')\n",
    "plt.ylabel('Average Transfer Value')"
   ]
  },
  {
   "cell_type": "markdown",
   "metadata": {},
   "source": [
    "Plot total spending by position"
   ]
  },
  {
   "cell_type": "code",
   "execution_count": 9,
   "metadata": {
    "scrolled": true
   },
   "outputs": [
    {
     "data": {
      "text/plain": [
       "Text(0, 0.5, 'Total Transfer Spending')"
      ]
     },
     "execution_count": 9,
     "metadata": {},
     "output_type": "execute_result"
    },
    {
     "data": {
      "image/png": "[encoded data removed]",
      "text/plain": [
       "<Figure size 576x396 with 1 Axes>"
      ]
     },
     "metadata": {},
     "output_type": "display_data"
    }
   ],
   "source": [
    "df.groupby('position').fee_cleaned.sum().sort_values().plot(kind = 'bar', title = 'Total Transfer Spending by Position')\n",
    "plt.xlabel('Position')\n",
    "plt.ylabel('Total Transfer Spending')"
   ]
  },
  {
   "cell_type": "markdown",
   "metadata": {},
   "source": [
    "Plot a histogram of all of the fees"
   ]
  },
  {
   "cell_type": "code",
   "execution_count": 10,
   "metadata": {},
   "outputs": [
    {
     "data": {
      "text/plain": [
       "Text(0.5, 0, 'Transfer Fee')"
      ]
     },
     "execution_count": 10,
     "metadata": {},
     "output_type": "execute_result"
    },
    {
     "data": {
      "image/png": "[encoded data removed]",
      "text/plain": [
       "<Figure size 576x396 with 1 Axes>"
      ]
     },
     "metadata": {},
     "output_type": "display_data"
    }
   ],
   "source": [
    "sns.distplot(df.fee_cleaned)\n",
    "plt.title('Distribution of transfer values')\n",
    "plt.xlabel('Transfer Fee')"
   ]
  },
  {
   "cell_type": "markdown",
   "metadata": {},
   "source": [
    "Generate the descriptive statistics of fee, the target variable"
   ]
  },
  {
   "cell_type": "code",
   "execution_count": 11,
   "metadata": {
    "scrolled": true
   },
   "outputs": [
    {
     "data": {
      "text/plain": [
       "count    2166.000000\n",
       "mean        7.698227\n",
       "std        12.324405\n",
       "min         0.005000\n",
       "25%         1.580000\n",
       "50%         3.600000\n",
       "75%         9.000000\n",
       "max       199.800000\n",
       "Name: fee_cleaned, dtype: float64"
      ]
     },
     "execution_count": 11,
     "metadata": {},
     "output_type": "execute_result"
    }
   ],
   "source": [
    "df.fee_cleaned.describe()\n"
   ]
  },
  {
   "cell_type": "markdown",
   "metadata": {},
   "source": [
    "Investigatre the largest fee"
   ]
  },
  {
   "cell_type": "code",
   "execution_count": 12,
   "metadata": {
    "scrolled": true
   },
   "outputs": [
    {
     "data": {
      "text/html": [
       "<div>\n",
       "<style scoped>\n",
       "    .dataframe tbody tr th:only-of-type {\n",
       "        vertical-align: middle;\n",
       "    }\n",
       "\n",
       "    .dataframe tbody tr th {\n",
       "        vertical-align: top;\n",
       "    }\n",
       "\n",
       "    .dataframe thead th {\n",
       "        text-align: right;\n",
       "    }\n",
       "</style>\n",
       "<table border=\"1\" class=\"dataframe\">\n",
       "  <thead>\n",
       "    <tr style=\"text-align: right;\">\n",
       "      <th></th>\n",
       "      <th>club_name</th>\n",
       "      <th>player_name</th>\n",
       "      <th>age</th>\n",
       "      <th>position</th>\n",
       "      <th>club_involved_name</th>\n",
       "      <th>fee</th>\n",
       "      <th>transfer_movement</th>\n",
       "      <th>fee_cleaned</th>\n",
       "      <th>league_name</th>\n",
       "      <th>year</th>\n",
       "      <th>season</th>\n",
       "    </tr>\n",
       "  </thead>\n",
       "  <tbody>\n",
       "    <tr>\n",
       "      <th>536</th>\n",
       "      <td>Paris Saint-Germain</td>\n",
       "      <td>Neymar</td>\n",
       "      <td>25</td>\n",
       "      <td>Left Winger</td>\n",
       "      <td>FC Barcelona</td>\n",
       "      <td>£199.80m</td>\n",
       "      <td>in</td>\n",
       "      <td>199.8</td>\n",
       "      <td>Ligue 1</td>\n",
       "      <td>2017</td>\n",
       "      <td>2017/2018</td>\n",
       "    </tr>\n",
       "  </tbody>\n",
       "</table>\n",
       "</div>"
      ],
      "text/plain": [
       "               club_name player_name  age     position club_involved_name  \\\n",
       "536  Paris Saint-Germain      Neymar   25  Left Winger       FC Barcelona   \n",
       "\n",
       "          fee transfer_movement  fee_cleaned league_name  year     season  \n",
       "536  £199.80m                in        199.8     Ligue 1  2017  2017/2018  "
      ]
     },
     "execution_count": 12,
     "metadata": {},
     "output_type": "execute_result"
    }
   ],
   "source": [
    "df[df.fee_cleaned==199.8]\n"
   ]
  },
  {
   "cell_type": "markdown",
   "metadata": {},
   "source": [
    "I created a function that took the link to a players fbref page and a year that you are interested in. This function returns the players statistics from that season."
   ]
  },
  {
   "cell_type": "code",
   "execution_count": 13,
   "metadata": {},
   "outputs": [],
   "source": [
    "def PlayerScrape(href, year):\n",
    "    player_table = pd.DataFrame()\n",
    "    page = requests.get('https://fbref.com/' + href)\n",
    "    soup = BeautifulSoup(page.content, 'html.parser')\n",
    "    table = soup.find('tbody')\n",
    "    if table == None:\n",
    "        return pd.DataFrame([np.nan])\n",
    "    rows = table.find_all('tr')\n",
    "    for row in rows:\n",
    "        player_table = pd.concat([player_table, pd.DataFrame([[row.find('th').text] + \n",
    "                                                               [row.find_all('td')[i].text for i in range(5, len(row)-2)]])])\n",
    "\n",
    "    player_row =  player_table[player_table[0].apply(lambda x: x.endswith(year))]\n",
    "    player_row.reset_index(inplace = True, drop = True)\n",
    "    if not player_row.empty:\n",
    "        return player_row.iloc[0]\n",
    "    else:\n",
    "        return pd.DataFrame([np.nan])"
   ]
  },
  {
   "cell_type": "markdown",
   "metadata": {},
   "source": [
    "In this cell I comb through the directory of player links on fbref and get links to pages of lists of players."
   ]
  },
  {
   "cell_type": "code",
   "execution_count": 14,
   "metadata": {},
   "outputs": [],
   "source": [
    "page = requests.get('https://fbref.com/en/players/')\n",
    "soup = BeautifulSoup(page.content,'html.parser')\n",
    "letters = soup.find('ul', class_ = 'page_index')\n",
    "letters = letters.find_all('a')\n",
    "links = [letters[i]['href'] for i in range(0,len(letters))]"
   ]
  },
  {
   "cell_type": "markdown",
   "metadata": {},
   "source": [
    "I scrape through each of the lists of players generated above and create a list of all players and the link to there fbref page."
   ]
  },
  {
   "cell_type": "code",
   "execution_count": 15,
   "metadata": {},
   "outputs": [],
   "source": [
    "#Don't run again\n",
    "all_player_links = []\n",
    "for link in links:\n",
    "    page = requests.get('https://fbref.com' + link)\n",
    "    soup = BeautifulSoup(page.content, 'html.parser')\n",
    "    names = soup.find('div', class_ = 'section_content')\n",
    "    names = names.find_all('a')\n",
    "    player_links = [[name.text, name['href']] for name in names]\n",
    "    all_player_links += player_links"
   ]
  },
  {
   "cell_type": "markdown",
   "metadata": {},
   "source": [
    "I drop duplicates on my list of player names, to ensure I am matching the right transfer to the right player. For example there are two players named Moussa Dembele and I want to ensure that they are not confused in my analysis. I then perform an inner merge on the players name with my list of players and my list of transfers on player_name. I perform an inner merge so that I only have players who are on fbref and only have players who I have transfer data for"
   ]
  },
  {
   "cell_type": "code",
   "execution_count": 16,
   "metadata": {},
   "outputs": [],
   "source": [
    "df_players = pd.DataFrame(all_player_links, columns = ['player_name', 'links'])\n",
    "df_players.drop_duplicates(subset= 'player_name', keep = False, inplace = True)\n",
    "df = df.merge(df_players, how = 'inner', left_on= 'player_name', right_on = 'player_name')\n"
   ]
  },
  {
   "cell_type": "markdown",
   "metadata": {},
   "source": [
    "I investigated how many players were dropped after dropping duplicates and what my dataframe looked like after the merge"
   ]
  },
  {
   "cell_type": "code",
   "execution_count": 17,
   "metadata": {},
   "outputs": [
    {
     "data": {
      "text/plain": [
       "155971"
      ]
     },
     "execution_count": 17,
     "metadata": {},
     "output_type": "execute_result"
    }
   ],
   "source": [
    "len(all_player_links)"
   ]
  },
  {
   "cell_type": "code",
   "execution_count": 18,
   "metadata": {
    "scrolled": true
   },
   "outputs": [
    {
     "data": {
      "text/plain": [
       "143739"
      ]
     },
     "execution_count": 18,
     "metadata": {},
     "output_type": "execute_result"
    }
   ],
   "source": [
    "len(df_players)"
   ]
  },
  {
   "cell_type": "code",
   "execution_count": 19,
   "metadata": {
    "scrolled": true
   },
   "outputs": [
    {
     "data": {
      "text/html": [
       "<div>\n",
       "<style scoped>\n",
       "    .dataframe tbody tr th:only-of-type {\n",
       "        vertical-align: middle;\n",
       "    }\n",
       "\n",
       "    .dataframe tbody tr th {\n",
       "        vertical-align: top;\n",
       "    }\n",
       "\n",
       "    .dataframe thead th {\n",
       "        text-align: right;\n",
       "    }\n",
       "</style>\n",
       "<table border=\"1\" class=\"dataframe\">\n",
       "  <thead>\n",
       "    <tr style=\"text-align: right;\">\n",
       "      <th></th>\n",
       "      <th>club_name</th>\n",
       "      <th>player_name</th>\n",
       "      <th>age</th>\n",
       "      <th>position</th>\n",
       "      <th>club_involved_name</th>\n",
       "      <th>fee</th>\n",
       "      <th>transfer_movement</th>\n",
       "      <th>fee_cleaned</th>\n",
       "      <th>league_name</th>\n",
       "      <th>year</th>\n",
       "      <th>season</th>\n",
       "      <th>links</th>\n",
       "    </tr>\n",
       "  </thead>\n",
       "  <tbody>\n",
       "    <tr>\n",
       "      <th>0</th>\n",
       "      <td>Feyenoord Rotterdam</td>\n",
       "      <td>Steven Berghuis</td>\n",
       "      <td>25</td>\n",
       "      <td>Right Winger</td>\n",
       "      <td>Watford</td>\n",
       "      <td>£5.85m</td>\n",
       "      <td>in</td>\n",
       "      <td>5.85</td>\n",
       "      <td>Eredivisie</td>\n",
       "      <td>2017</td>\n",
       "      <td>2017/2018</td>\n",
       "      <td>/en/players/713c144a/Steven-Berghuis</td>\n",
       "    </tr>\n",
       "    <tr>\n",
       "      <th>1</th>\n",
       "      <td>Feyenoord Rotterdam</td>\n",
       "      <td>Ridgeciano Haps</td>\n",
       "      <td>24</td>\n",
       "      <td>Left-Back</td>\n",
       "      <td>AZ Alkmaar</td>\n",
       "      <td>£5.40m</td>\n",
       "      <td>in</td>\n",
       "      <td>5.40</td>\n",
       "      <td>Eredivisie</td>\n",
       "      <td>2017</td>\n",
       "      <td>2017/2018</td>\n",
       "      <td>/en/players/c8d7131c/Ridgeciano-Haps</td>\n",
       "    </tr>\n",
       "    <tr>\n",
       "      <th>2</th>\n",
       "      <td>Feyenoord Rotterdam</td>\n",
       "      <td>Sofyan Amrabat</td>\n",
       "      <td>20</td>\n",
       "      <td>Central Midfield</td>\n",
       "      <td>FC Utrecht</td>\n",
       "      <td>£3.60m</td>\n",
       "      <td>in</td>\n",
       "      <td>3.60</td>\n",
       "      <td>Eredivisie</td>\n",
       "      <td>2017</td>\n",
       "      <td>2017/2018</td>\n",
       "      <td>/en/players/5a2cb25d/Sofyan-Amrabat</td>\n",
       "    </tr>\n",
       "    <tr>\n",
       "      <th>3</th>\n",
       "      <td>ACF Fiorentina</td>\n",
       "      <td>Sofyan Amrabat</td>\n",
       "      <td>23</td>\n",
       "      <td>Central Midfield</td>\n",
       "      <td>Hellas Verona</td>\n",
       "      <td>£9.49m</td>\n",
       "      <td>in</td>\n",
       "      <td>9.49</td>\n",
       "      <td>Serie A</td>\n",
       "      <td>2019</td>\n",
       "      <td>2019/2020</td>\n",
       "      <td>/en/players/5a2cb25d/Sofyan-Amrabat</td>\n",
       "    </tr>\n",
       "    <tr>\n",
       "      <th>4</th>\n",
       "      <td>Hellas Verona</td>\n",
       "      <td>Sofyan Amrabat</td>\n",
       "      <td>23</td>\n",
       "      <td>Central Midfield</td>\n",
       "      <td>Club Brugge</td>\n",
       "      <td>£3.15m</td>\n",
       "      <td>in</td>\n",
       "      <td>3.15</td>\n",
       "      <td>Serie A</td>\n",
       "      <td>2019</td>\n",
       "      <td>2019/2020</td>\n",
       "      <td>/en/players/5a2cb25d/Sofyan-Amrabat</td>\n",
       "    </tr>\n",
       "    <tr>\n",
       "      <th>...</th>\n",
       "      <td>...</td>\n",
       "      <td>...</td>\n",
       "      <td>...</td>\n",
       "      <td>...</td>\n",
       "      <td>...</td>\n",
       "      <td>...</td>\n",
       "      <td>...</td>\n",
       "      <td>...</td>\n",
       "      <td>...</td>\n",
       "      <td>...</td>\n",
       "      <td>...</td>\n",
       "      <td>...</td>\n",
       "    </tr>\n",
       "    <tr>\n",
       "      <th>1604</th>\n",
       "      <td>CA Osasuna</td>\n",
       "      <td>Marc Cardona</td>\n",
       "      <td>23</td>\n",
       "      <td>Centre-Forward</td>\n",
       "      <td>FC Barcelona</td>\n",
       "      <td>£2.25m</td>\n",
       "      <td>in</td>\n",
       "      <td>2.25</td>\n",
       "      <td>Primera Division</td>\n",
       "      <td>2019</td>\n",
       "      <td>2019/2020</td>\n",
       "      <td>/en/players/b92b456a/Marc-Cardona</td>\n",
       "    </tr>\n",
       "    <tr>\n",
       "      <th>1605</th>\n",
       "      <td>CA Osasuna</td>\n",
       "      <td>Robert Ibáñez</td>\n",
       "      <td>26</td>\n",
       "      <td>Right Winger</td>\n",
       "      <td>Getafe</td>\n",
       "      <td>£1.80m</td>\n",
       "      <td>in</td>\n",
       "      <td>1.80</td>\n",
       "      <td>Primera Division</td>\n",
       "      <td>2019</td>\n",
       "      <td>2019/2020</td>\n",
       "      <td>/en/players/c7429db3/Robert-Ibanez</td>\n",
       "    </tr>\n",
       "    <tr>\n",
       "      <th>1606</th>\n",
       "      <td>Granada CF</td>\n",
       "      <td>Darwin Machís</td>\n",
       "      <td>26</td>\n",
       "      <td>Left Winger</td>\n",
       "      <td>Udinese Calcio</td>\n",
       "      <td>£2.70m</td>\n",
       "      <td>in</td>\n",
       "      <td>2.70</td>\n",
       "      <td>Primera Division</td>\n",
       "      <td>2019</td>\n",
       "      <td>2019/2020</td>\n",
       "      <td>/en/players/ed6ea4d9/Darwin-Machis</td>\n",
       "    </tr>\n",
       "    <tr>\n",
       "      <th>1607</th>\n",
       "      <td>Granada CF</td>\n",
       "      <td>Domingos Duarte</td>\n",
       "      <td>24</td>\n",
       "      <td>Centre-Back</td>\n",
       "      <td>Sporting CP</td>\n",
       "      <td>£2.70m</td>\n",
       "      <td>in</td>\n",
       "      <td>2.70</td>\n",
       "      <td>Primera Division</td>\n",
       "      <td>2019</td>\n",
       "      <td>2019/2020</td>\n",
       "      <td>/en/players/93090f69/Domingos-Duarte</td>\n",
       "    </tr>\n",
       "    <tr>\n",
       "      <th>1608</th>\n",
       "      <td>RCD Mallorca</td>\n",
       "      <td>Yannis Salibur</td>\n",
       "      <td>28</td>\n",
       "      <td>Right Winger</td>\n",
       "      <td>Guingamp</td>\n",
       "      <td>£1.80m</td>\n",
       "      <td>in</td>\n",
       "      <td>1.80</td>\n",
       "      <td>Primera Division</td>\n",
       "      <td>2019</td>\n",
       "      <td>2019/2020</td>\n",
       "      <td>/en/players/bb4a42be/Yannis-Salibur</td>\n",
       "    </tr>\n",
       "  </tbody>\n",
       "</table>\n",
       "<p>1609 rows × 12 columns</p>\n",
       "</div>"
      ],
      "text/plain": [
       "                club_name      player_name  age          position  \\\n",
       "0     Feyenoord Rotterdam  Steven Berghuis   25      Right Winger   \n",
       "1     Feyenoord Rotterdam  Ridgeciano Haps   24         Left-Back   \n",
       "2     Feyenoord Rotterdam   Sofyan Amrabat   20  Central Midfield   \n",
       "3          ACF Fiorentina   Sofyan Amrabat   23  Central Midfield   \n",
       "4           Hellas Verona   Sofyan Amrabat   23  Central Midfield   \n",
       "...                   ...              ...  ...               ...   \n",
       "1604           CA Osasuna     Marc Cardona   23    Centre-Forward   \n",
       "1605           CA Osasuna    Robert Ibáñez   26      Right Winger   \n",
       "1606           Granada CF    Darwin Machís   26       Left Winger   \n",
       "1607           Granada CF  Domingos Duarte   24       Centre-Back   \n",
       "1608         RCD Mallorca   Yannis Salibur   28      Right Winger   \n",
       "\n",
       "     club_involved_name     fee transfer_movement  fee_cleaned  \\\n",
       "0               Watford  £5.85m                in         5.85   \n",
       "1            AZ Alkmaar  £5.40m                in         5.40   \n",
       "2            FC Utrecht  £3.60m                in         3.60   \n",
       "3         Hellas Verona  £9.49m                in         9.49   \n",
       "4           Club Brugge  £3.15m                in         3.15   \n",
       "...                 ...     ...               ...          ...   \n",
       "1604       FC Barcelona  £2.25m                in         2.25   \n",
       "1605             Getafe  £1.80m                in         1.80   \n",
       "1606     Udinese Calcio  £2.70m                in         2.70   \n",
       "1607        Sporting CP  £2.70m                in         2.70   \n",
       "1608           Guingamp  £1.80m                in         1.80   \n",
       "\n",
       "           league_name  year     season                                 links  \n",
       "0           Eredivisie  2017  2017/2018  /en/players/713c144a/Steven-Berghuis  \n",
       "1           Eredivisie  2017  2017/2018  /en/players/c8d7131c/Ridgeciano-Haps  \n",
       "2           Eredivisie  2017  2017/2018   /en/players/5a2cb25d/Sofyan-Amrabat  \n",
       "3              Serie A  2019  2019/2020   /en/players/5a2cb25d/Sofyan-Amrabat  \n",
       "4              Serie A  2019  2019/2020   /en/players/5a2cb25d/Sofyan-Amrabat  \n",
       "...                ...   ...        ...                                   ...  \n",
       "1604  Primera Division  2019  2019/2020     /en/players/b92b456a/Marc-Cardona  \n",
       "1605  Primera Division  2019  2019/2020    /en/players/c7429db3/Robert-Ibanez  \n",
       "1606  Primera Division  2019  2019/2020    /en/players/ed6ea4d9/Darwin-Machis  \n",
       "1607  Primera Division  2019  2019/2020  /en/players/93090f69/Domingos-Duarte  \n",
       "1608  Primera Division  2019  2019/2020   /en/players/bb4a42be/Yannis-Salibur  \n",
       "\n",
       "[1609 rows x 12 columns]"
      ]
     },
     "execution_count": 19,
     "metadata": {},
     "output_type": "execute_result"
    }
   ],
   "source": [
    "df\n"
   ]
  },
  {
   "cell_type": "code",
   "execution_count": 20,
   "metadata": {},
   "outputs": [
    {
     "name": "stdout",
     "output_type": "stream",
     "text": [
      "<class 'pandas.core.frame.DataFrame'>\n",
      "Int64Index: 1609 entries, 0 to 1608\n",
      "Data columns (total 12 columns):\n",
      " #   Column              Non-Null Count  Dtype  \n",
      "---  ------              --------------  -----  \n",
      " 0   club_name           1609 non-null   object \n",
      " 1   player_name         1609 non-null   object \n",
      " 2   age                 1609 non-null   int64  \n",
      " 3   position            1609 non-null   object \n",
      " 4   club_involved_name  1609 non-null   object \n",
      " 5   fee                 1609 non-null   object \n",
      " 6   transfer_movement   1609 non-null   object \n",
      " 7   fee_cleaned         1609 non-null   float64\n",
      " 8   league_name         1609 non-null   object \n",
      " 9   year                1609 non-null   int64  \n",
      " 10  season              1609 non-null   object \n",
      " 11  links               1609 non-null   object \n",
      "dtypes: float64(1), int64(2), object(9)\n",
      "memory usage: 163.4+ KB\n"
     ]
    }
   ],
   "source": [
    "df.info()\n"
   ]
  },
  {
   "cell_type": "markdown",
   "metadata": {},
   "source": [
    "This cell scrapes player data for every player in my new dataframe df. It takes a very long time to run"
   ]
  },
  {
   "cell_type": "code",
   "execution_count": 21,
   "metadata": {
    "scrolled": false
   },
   "outputs": [],
   "source": [
    "#Really don't run\n",
    "df_to_add = pd.DataFrame()\n",
    "for row in range(0, len(df)):\n",
    "    new_row = PlayerScrape(df.iloc[row]['links'], str(df.iloc[row]['year']))\n",
    "    df_to_add = df_to_add.append(new_row, ignore_index = True)\n"
   ]
  },
  {
   "cell_type": "code",
   "execution_count": 22,
   "metadata": {
    "scrolled": true
   },
   "outputs": [],
   "source": [
    "df_to_add.columns = ['Season', 'Matches', 'Starts', 'Minutes', 'Goals', 'Assists', 'Penalty_Goals','Penalty_Attempts',\n",
    "                     'Yellow_Cards', 'Red_Cards', 'Goals/90', 'Assists/90', 'Goals+Assists/90', 'Goals-PKs/90',\n",
    "                     'Goals+Assists-PKs/90', 'xG', 'npxG', 'xA', 'xG/90','xA/90', 'xG+xA/90', 'npxG/90', 'npxG+xA/90']\n",
    "df_to_add = df_to_add.reset_index(drop = True)\n"
   ]
  },
  {
   "cell_type": "code",
   "execution_count": 23,
   "metadata": {},
   "outputs": [],
   "source": [
    "df = df.join(df_to_add)\n"
   ]
  },
  {
   "cell_type": "code",
   "execution_count": 24,
   "metadata": {},
   "outputs": [],
   "source": [
    "df.to_csv('database.csv')\n"
   ]
  },
  {
   "cell_type": "markdown",
   "metadata": {},
   "source": [
    "At the end I turned all the data into a csv to use in modeling"
   ]
  }
 ],
 "metadata": {
  "kernelspec": {
   "display_name": "Python 3",
   "language": "python",
   "name": "python3"
  },
  "language_info": {
   "codemirror_mode": {
    "name": "ipython",
    "version": 3
   },
   "file_extension": ".py",
   "mimetype": "text/x-python",
   "name": "python",
   "nbconvert_exporter": "python",
   "pygments_lexer": "ipython3",
   "version": "3.7.6"
  }
 },
 "nbformat": 4,
 "nbformat_minor": 4
}
