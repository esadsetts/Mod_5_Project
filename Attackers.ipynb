{
 "cells": [
  {
   "cell_type": "markdown",
   "metadata": {},
   "source": [
    "Import the libraries I need"
   ]
  },
  {
   "cell_type": "code",
   "execution_count": 1,
   "metadata": {},
   "outputs": [],
   "source": [
    "import numpy as np\n",
    "import pandas as pd\n",
    "import matplotlib.pyplot as plt\n",
    "import seaborn as sns\n",
    "\n",
    "from sklearn.linear_model import LinearRegression\n",
    "from sklearn.linear_model import Ridge\n",
    "from sklearn.model_selection import train_test_split\n",
    "from sklearn.metrics import mean_squared_error\n",
    "from sklearn.dummy import DummyRegressor\n",
    "from sklearn.linear_model import Lasso\n",
    "from sklearn.svm import SVR\n",
    "from sklearn.preprocessing import StandardScaler\n",
    "from sklearn.tree import DecisionTreeRegressor\n",
    "from sklearn.ensemble import RandomForestRegressor\n",
    "from sklearn.model_selection import GridSearchCV\n",
    "\n",
    "import xgboost as xgb\n",
    "plt.style.use('seaborn')\n",
    "np.random.seed(seed = 1)\n"
   ]
  },
  {
   "cell_type": "markdown",
   "metadata": {},
   "source": [
    "# Removing Outliers and Looking for Paterns"
   ]
  },
  {
   "cell_type": "markdown",
   "metadata": {},
   "source": [
    "Load data"
   ]
  },
  {
   "cell_type": "code",
   "execution_count": 2,
   "metadata": {},
   "outputs": [],
   "source": [
    "def mean_absolute_percentage_error(y_true, y_pred): \n",
    "    y_true, y_pred = np.array(y_true), np.array(y_pred)\n",
    "    return np.mean(np.abs((y_true - y_pred) / y_true)) * 100"
   ]
  },
  {
   "cell_type": "code",
   "execution_count": 3,
   "metadata": {},
   "outputs": [],
   "source": [
    "df = pd.read_csv('data_cleaned.csv', index_col=0)\n"
   ]
  },
  {
   "cell_type": "code",
   "execution_count": 17,
   "metadata": {},
   "outputs": [],
   "source": [
    "df = df[(df.is_defence == False)]"
   ]
  },
  {
   "cell_type": "code",
   "execution_count": 18,
   "metadata": {},
   "outputs": [
    {
     "data": {
      "text/html": [
       "<div>\n",
       "<style scoped>\n",
       "    .dataframe tbody tr th:only-of-type {\n",
       "        vertical-align: middle;\n",
       "    }\n",
       "\n",
       "    .dataframe tbody tr th {\n",
       "        vertical-align: top;\n",
       "    }\n",
       "\n",
       "    .dataframe thead th {\n",
       "        text-align: right;\n",
       "    }\n",
       "</style>\n",
       "<table border=\"1\" class=\"dataframe\">\n",
       "  <thead>\n",
       "    <tr style=\"text-align: right;\">\n",
       "      <th></th>\n",
       "      <th>club_name</th>\n",
       "      <th>player_name</th>\n",
       "      <th>age</th>\n",
       "      <th>position</th>\n",
       "      <th>club_involved_name</th>\n",
       "      <th>fee</th>\n",
       "      <th>transfer_movement</th>\n",
       "      <th>fee_cleaned</th>\n",
       "      <th>league_name</th>\n",
       "      <th>year</th>\n",
       "      <th>...</th>\n",
       "      <th>npxG</th>\n",
       "      <th>xA</th>\n",
       "      <th>xG/90</th>\n",
       "      <th>xA/90</th>\n",
       "      <th>xG+xA/90</th>\n",
       "      <th>npxG/90</th>\n",
       "      <th>npxG+xA/90</th>\n",
       "      <th>is_defence</th>\n",
       "      <th>is_midfield</th>\n",
       "      <th>is_attack</th>\n",
       "    </tr>\n",
       "  </thead>\n",
       "  <tbody>\n",
       "    <tr>\n",
       "      <th>0</th>\n",
       "      <td>Feyenoord Rotterdam</td>\n",
       "      <td>Steven Berghuis</td>\n",
       "      <td>25</td>\n",
       "      <td>Right Winger</td>\n",
       "      <td>Watford</td>\n",
       "      <td>£5.85m</td>\n",
       "      <td>in</td>\n",
       "      <td>5.85</td>\n",
       "      <td>Eredivisie</td>\n",
       "      <td>2017</td>\n",
       "      <td>...</td>\n",
       "      <td>7.0</td>\n",
       "      <td>5.0</td>\n",
       "      <td>0.30</td>\n",
       "      <td>0.21</td>\n",
       "      <td>0.51</td>\n",
       "      <td>0.30</td>\n",
       "      <td>0.51</td>\n",
       "      <td>0</td>\n",
       "      <td>0</td>\n",
       "      <td>1</td>\n",
       "    </tr>\n",
       "    <tr>\n",
       "      <th>2</th>\n",
       "      <td>Feyenoord Rotterdam</td>\n",
       "      <td>Sofyan Amrabat</td>\n",
       "      <td>20</td>\n",
       "      <td>Central Midfield</td>\n",
       "      <td>FC Utrecht</td>\n",
       "      <td>£3.60m</td>\n",
       "      <td>in</td>\n",
       "      <td>3.60</td>\n",
       "      <td>Eredivisie</td>\n",
       "      <td>2017</td>\n",
       "      <td>...</td>\n",
       "      <td>0.0</td>\n",
       "      <td>5.0</td>\n",
       "      <td>0.00</td>\n",
       "      <td>0.18</td>\n",
       "      <td>0.18</td>\n",
       "      <td>0.00</td>\n",
       "      <td>0.18</td>\n",
       "      <td>0</td>\n",
       "      <td>1</td>\n",
       "      <td>0</td>\n",
       "    </tr>\n",
       "    <tr>\n",
       "      <th>3</th>\n",
       "      <td>ACF Fiorentina</td>\n",
       "      <td>Sofyan Amrabat</td>\n",
       "      <td>23</td>\n",
       "      <td>Central Midfield</td>\n",
       "      <td>Hellas Verona</td>\n",
       "      <td>£9.49m</td>\n",
       "      <td>in</td>\n",
       "      <td>9.49</td>\n",
       "      <td>Serie A</td>\n",
       "      <td>2019</td>\n",
       "      <td>...</td>\n",
       "      <td>1.0</td>\n",
       "      <td>0.0</td>\n",
       "      <td>0.08</td>\n",
       "      <td>0.00</td>\n",
       "      <td>0.08</td>\n",
       "      <td>0.08</td>\n",
       "      <td>0.08</td>\n",
       "      <td>0</td>\n",
       "      <td>1</td>\n",
       "      <td>0</td>\n",
       "    </tr>\n",
       "    <tr>\n",
       "      <th>4</th>\n",
       "      <td>Hellas Verona</td>\n",
       "      <td>Sofyan Amrabat</td>\n",
       "      <td>23</td>\n",
       "      <td>Central Midfield</td>\n",
       "      <td>Club Brugge</td>\n",
       "      <td>£3.15m</td>\n",
       "      <td>in</td>\n",
       "      <td>3.15</td>\n",
       "      <td>Serie A</td>\n",
       "      <td>2019</td>\n",
       "      <td>...</td>\n",
       "      <td>1.0</td>\n",
       "      <td>0.0</td>\n",
       "      <td>0.08</td>\n",
       "      <td>0.00</td>\n",
       "      <td>0.08</td>\n",
       "      <td>0.08</td>\n",
       "      <td>0.08</td>\n",
       "      <td>0</td>\n",
       "      <td>1</td>\n",
       "      <td>0</td>\n",
       "    </tr>\n",
       "    <tr>\n",
       "      <th>5</th>\n",
       "      <td>Feyenoord Rotterdam</td>\n",
       "      <td>Sam Larsson</td>\n",
       "      <td>24</td>\n",
       "      <td>Left Winger</td>\n",
       "      <td>Heerenveen</td>\n",
       "      <td>£3.60m</td>\n",
       "      <td>in</td>\n",
       "      <td>3.60</td>\n",
       "      <td>Eredivisie</td>\n",
       "      <td>2017</td>\n",
       "      <td>...</td>\n",
       "      <td>9.0</td>\n",
       "      <td>11.0</td>\n",
       "      <td>0.33</td>\n",
       "      <td>0.40</td>\n",
       "      <td>0.73</td>\n",
       "      <td>0.33</td>\n",
       "      <td>0.73</td>\n",
       "      <td>0</td>\n",
       "      <td>0</td>\n",
       "      <td>1</td>\n",
       "    </tr>\n",
       "    <tr>\n",
       "      <th>...</th>\n",
       "      <td>...</td>\n",
       "      <td>...</td>\n",
       "      <td>...</td>\n",
       "      <td>...</td>\n",
       "      <td>...</td>\n",
       "      <td>...</td>\n",
       "      <td>...</td>\n",
       "      <td>...</td>\n",
       "      <td>...</td>\n",
       "      <td>...</td>\n",
       "      <td>...</td>\n",
       "      <td>...</td>\n",
       "      <td>...</td>\n",
       "      <td>...</td>\n",
       "      <td>...</td>\n",
       "      <td>...</td>\n",
       "      <td>...</td>\n",
       "      <td>...</td>\n",
       "      <td>...</td>\n",
       "      <td>...</td>\n",
       "      <td>...</td>\n",
       "    </tr>\n",
       "    <tr>\n",
       "      <th>1603</th>\n",
       "      <td>Levante UD</td>\n",
       "      <td>Gonzalo Melero</td>\n",
       "      <td>25</td>\n",
       "      <td>Central Midfield</td>\n",
       "      <td>SD Huesca</td>\n",
       "      <td>£3.24m</td>\n",
       "      <td>in</td>\n",
       "      <td>3.24</td>\n",
       "      <td>Primera Division</td>\n",
       "      <td>2019</td>\n",
       "      <td>...</td>\n",
       "      <td>2.5</td>\n",
       "      <td>1.1</td>\n",
       "      <td>0.27</td>\n",
       "      <td>0.07</td>\n",
       "      <td>0.34</td>\n",
       "      <td>0.17</td>\n",
       "      <td>0.24</td>\n",
       "      <td>0</td>\n",
       "      <td>1</td>\n",
       "      <td>0</td>\n",
       "    </tr>\n",
       "    <tr>\n",
       "      <th>1604</th>\n",
       "      <td>CA Osasuna</td>\n",
       "      <td>Marc Cardona</td>\n",
       "      <td>23</td>\n",
       "      <td>Centre-Forward</td>\n",
       "      <td>FC Barcelona</td>\n",
       "      <td>£2.25m</td>\n",
       "      <td>in</td>\n",
       "      <td>2.25</td>\n",
       "      <td>Primera Division</td>\n",
       "      <td>2019</td>\n",
       "      <td>...</td>\n",
       "      <td>2.7</td>\n",
       "      <td>0.6</td>\n",
       "      <td>0.41</td>\n",
       "      <td>0.10</td>\n",
       "      <td>0.50</td>\n",
       "      <td>0.41</td>\n",
       "      <td>0.50</td>\n",
       "      <td>0</td>\n",
       "      <td>0</td>\n",
       "      <td>1</td>\n",
       "    </tr>\n",
       "    <tr>\n",
       "      <th>1605</th>\n",
       "      <td>CA Osasuna</td>\n",
       "      <td>Robert Ibáñez</td>\n",
       "      <td>26</td>\n",
       "      <td>Right Winger</td>\n",
       "      <td>Getafe</td>\n",
       "      <td>£1.80m</td>\n",
       "      <td>in</td>\n",
       "      <td>1.80</td>\n",
       "      <td>Primera Division</td>\n",
       "      <td>2019</td>\n",
       "      <td>...</td>\n",
       "      <td>0.2</td>\n",
       "      <td>0.0</td>\n",
       "      <td>0.25</td>\n",
       "      <td>0.00</td>\n",
       "      <td>0.25</td>\n",
       "      <td>0.25</td>\n",
       "      <td>0.25</td>\n",
       "      <td>0</td>\n",
       "      <td>0</td>\n",
       "      <td>1</td>\n",
       "    </tr>\n",
       "    <tr>\n",
       "      <th>1606</th>\n",
       "      <td>Granada CF</td>\n",
       "      <td>Darwin Machís</td>\n",
       "      <td>26</td>\n",
       "      <td>Left Winger</td>\n",
       "      <td>Udinese Calcio</td>\n",
       "      <td>£2.70m</td>\n",
       "      <td>in</td>\n",
       "      <td>2.70</td>\n",
       "      <td>Primera Division</td>\n",
       "      <td>2019</td>\n",
       "      <td>...</td>\n",
       "      <td>1.3</td>\n",
       "      <td>0.6</td>\n",
       "      <td>0.26</td>\n",
       "      <td>0.12</td>\n",
       "      <td>0.38</td>\n",
       "      <td>0.26</td>\n",
       "      <td>0.38</td>\n",
       "      <td>0</td>\n",
       "      <td>0</td>\n",
       "      <td>1</td>\n",
       "    </tr>\n",
       "    <tr>\n",
       "      <th>1608</th>\n",
       "      <td>RCD Mallorca</td>\n",
       "      <td>Yannis Salibur</td>\n",
       "      <td>28</td>\n",
       "      <td>Right Winger</td>\n",
       "      <td>Guingamp</td>\n",
       "      <td>£1.80m</td>\n",
       "      <td>in</td>\n",
       "      <td>1.80</td>\n",
       "      <td>Primera Division</td>\n",
       "      <td>2019</td>\n",
       "      <td>...</td>\n",
       "      <td>0.0</td>\n",
       "      <td>0.0</td>\n",
       "      <td>0.00</td>\n",
       "      <td>0.23</td>\n",
       "      <td>0.23</td>\n",
       "      <td>0.00</td>\n",
       "      <td>0.23</td>\n",
       "      <td>0</td>\n",
       "      <td>0</td>\n",
       "      <td>1</td>\n",
       "    </tr>\n",
       "  </tbody>\n",
       "</table>\n",
       "<p>943 rows × 38 columns</p>\n",
       "</div>"
      ],
      "text/plain": [
       "                club_name      player_name  age          position  \\\n",
       "0     Feyenoord Rotterdam  Steven Berghuis   25      Right Winger   \n",
       "2     Feyenoord Rotterdam   Sofyan Amrabat   20  Central Midfield   \n",
       "3          ACF Fiorentina   Sofyan Amrabat   23  Central Midfield   \n",
       "4           Hellas Verona   Sofyan Amrabat   23  Central Midfield   \n",
       "5     Feyenoord Rotterdam      Sam Larsson   24       Left Winger   \n",
       "...                   ...              ...  ...               ...   \n",
       "1603           Levante UD   Gonzalo Melero   25  Central Midfield   \n",
       "1604           CA Osasuna     Marc Cardona   23    Centre-Forward   \n",
       "1605           CA Osasuna    Robert Ibáñez   26      Right Winger   \n",
       "1606           Granada CF    Darwin Machís   26       Left Winger   \n",
       "1608         RCD Mallorca   Yannis Salibur   28      Right Winger   \n",
       "\n",
       "     club_involved_name     fee transfer_movement  fee_cleaned  \\\n",
       "0               Watford  £5.85m                in         5.85   \n",
       "2            FC Utrecht  £3.60m                in         3.60   \n",
       "3         Hellas Verona  £9.49m                in         9.49   \n",
       "4           Club Brugge  £3.15m                in         3.15   \n",
       "5            Heerenveen  £3.60m                in         3.60   \n",
       "...                 ...     ...               ...          ...   \n",
       "1603          SD Huesca  £3.24m                in         3.24   \n",
       "1604       FC Barcelona  £2.25m                in         2.25   \n",
       "1605             Getafe  £1.80m                in         1.80   \n",
       "1606     Udinese Calcio  £2.70m                in         2.70   \n",
       "1608           Guingamp  £1.80m                in         1.80   \n",
       "\n",
       "           league_name  year  ... npxG    xA xG/90  xA/90  xG+xA/90  npxG/90  \\\n",
       "0           Eredivisie  2017  ...  7.0   5.0  0.30   0.21      0.51     0.30   \n",
       "2           Eredivisie  2017  ...  0.0   5.0  0.00   0.18      0.18     0.00   \n",
       "3              Serie A  2019  ...  1.0   0.0  0.08   0.00      0.08     0.08   \n",
       "4              Serie A  2019  ...  1.0   0.0  0.08   0.00      0.08     0.08   \n",
       "5           Eredivisie  2017  ...  9.0  11.0  0.33   0.40      0.73     0.33   \n",
       "...                ...   ...  ...  ...   ...   ...    ...       ...      ...   \n",
       "1603  Primera Division  2019  ...  2.5   1.1  0.27   0.07      0.34     0.17   \n",
       "1604  Primera Division  2019  ...  2.7   0.6  0.41   0.10      0.50     0.41   \n",
       "1605  Primera Division  2019  ...  0.2   0.0  0.25   0.00      0.25     0.25   \n",
       "1606  Primera Division  2019  ...  1.3   0.6  0.26   0.12      0.38     0.26   \n",
       "1608  Primera Division  2019  ...  0.0   0.0  0.00   0.23      0.23     0.00   \n",
       "\n",
       "      npxG+xA/90  is_defence  is_midfield  is_attack  \n",
       "0           0.51           0            0          1  \n",
       "2           0.18           0            1          0  \n",
       "3           0.08           0            1          0  \n",
       "4           0.08           0            1          0  \n",
       "5           0.73           0            0          1  \n",
       "...          ...         ...          ...        ...  \n",
       "1603        0.24           0            1          0  \n",
       "1604        0.50           0            0          1  \n",
       "1605        0.25           0            0          1  \n",
       "1606        0.38           0            0          1  \n",
       "1608        0.23           0            0          1  \n",
       "\n",
       "[943 rows x 38 columns]"
      ]
     },
     "execution_count": 18,
     "metadata": {},
     "output_type": "execute_result"
    }
   ],
   "source": [
    "df"
   ]
  },
  {
   "cell_type": "markdown",
   "metadata": {},
   "source": [
    "I created a dataframe of features and one of targets"
   ]
  },
  {
   "cell_type": "code",
   "execution_count": 19,
   "metadata": {},
   "outputs": [],
   "source": [
    "df_features = df[['age','position','Starts','Minutes','Goals','Assists','Penalty_Goals','Penalty_Attempts',\n",
    "                  'Yellow_Cards','Red_Cards','Goals/90','Assists/90','Goals+Assists/90','Goals-PKs/90',\n",
    "                  'Goals+Assists-PKs/90','xG','npxG','xA','xG/90','xA/90','xG+xA/90','npxG/90','npxG+xA/90',\n",
    "                  'is_defence', 'is_midfield', 'is_attack']]\n",
    "df_target = df.fee_cleaned"
   ]
  },
  {
   "cell_type": "markdown",
   "metadata": {},
   "source": [
    "I created a dataframe of just my categorical data"
   ]
  },
  {
   "cell_type": "code",
   "execution_count": 20,
   "metadata": {},
   "outputs": [
    {
     "data": {
      "text/plain": [
       "Index(['age', 'position', 'Starts', 'Minutes', 'Goals', 'Assists',\n",
       "       'Penalty_Goals', 'Penalty_Attempts', 'Yellow_Cards', 'Red_Cards',\n",
       "       'Goals/90', 'Assists/90', 'Goals+Assists/90', 'Goals-PKs/90',\n",
       "       'Goals+Assists-PKs/90', 'xG', 'npxG', 'xA', 'xG/90', 'xA/90',\n",
       "       'xG+xA/90', 'npxG/90', 'npxG+xA/90', 'is_defence', 'is_midfield',\n",
       "       'is_attack'],\n",
       "      dtype='object')"
      ]
     },
     "execution_count": 20,
     "metadata": {},
     "output_type": "execute_result"
    }
   ],
   "source": [
    "df_categoricals = df_features[['position', 'is_defence', 'is_midfield', 'is_attack']]\n",
    "df_features.columns"
   ]
  },
  {
   "cell_type": "markdown",
   "metadata": {},
   "source": [
    "I used boxplots to look for outliers and than capped values that I felt were problematic"
   ]
  },
  {
   "cell_type": "code",
   "execution_count": 21,
   "metadata": {},
   "outputs": [
    {
     "data": {
      "image/png": "[encoded data removed]",
      "text/plain": [
       "<Figure size 576x396 with 1 Axes>"
      ]
     },
     "metadata": {},
     "output_type": "display_data"
    },
    {
     "data": {
      "image/png": "[encoded data removed]",
      "text/plain": [
       "<Figure size 576x396 with 1 Axes>"
      ]
     },
     "metadata": {},
     "output_type": "display_data"
    },
    {
     "data": {
      "image/png": "[encoded data removed]",
      "text/plain": [
       "<Figure size 576x396 with 1 Axes>"
      ]
     },
     "metadata": {},
     "output_type": "display_data"
    },
    {
     "data": {
      "image/png": "[encoded data removed]",
      "text/plain": [
       "<Figure size 576x396 with 1 Axes>"
      ]
     },
     "metadata": {},
     "output_type": "display_data"
    },
    {
     "data": {
      "image/png": "[encoded data removed]",
      "text/plain": [
       "<Figure size 576x396 with 1 Axes>"
      ]
     },
     "metadata": {},
     "output_type": "display_data"
    },
    {
     "data": {
      "image/png": "[encoded data removed]",
      "text/plain": [
       "<Figure size 576x396 with 1 Axes>"
      ]
     },
     "metadata": {},
     "output_type": "display_data"
    },
    {
     "data": {
      "image/png": "[encoded data removed]",
      "text/plain": [
       "<Figure size 576x396 with 1 Axes>"
      ]
     },
     "metadata": {},
     "output_type": "display_data"
    },
    {
     "data": {
      "image/png": "[encoded data removed]",
      "text/plain": [
       "<Figure size 576x396 with 1 Axes>"
      ]
     },
     "metadata": {},
     "output_type": "display_data"
    },
    {
     "data": {
      "image/png": "[encoded data removed]",
      "text/plain": [
       "<Figure size 576x396 with 1 Axes>"
      ]
     },
     "metadata": {},
     "output_type": "display_data"
    },
    {
     "data": {
      "image/png": "[encoded data removed]",
      "text/plain": [
       "<Figure size 576x396 with 1 Axes>"
      ]
     },
     "metadata": {},
     "output_type": "display_data"
    },
    {
     "data": {
      "image/png": "[encoded data removed]",
      "text/plain": [
       "<Figure size 576x396 with 1 Axes>"
      ]
     },
     "metadata": {},
     "output_type": "display_data"
    }
   ],
   "source": [
    "plt.boxplot(df_features['Goals/90'])\n",
    "plt.ylabel('Goals per 90')\n",
    "plt.show()\n",
    "plt.boxplot(df_features['Assists/90'])\n",
    "plt.ylabel('Assists per 90')\n",
    "plt.show()\n",
    "plt.boxplot(df_features['Goals+Assists/90'])\n",
    "plt.ylabel('Goals and Assists per 90')\n",
    "plt.show()\n",
    "plt.boxplot(df_features['Goals-PKs/90'])\n",
    "plt.ylabel('Non-Penalty Goals per 90')\n",
    "plt.show()\n",
    "plt.boxplot(df_features['Goals+Assists-PKs/90'])\n",
    "plt.ylabel('Non-Penalty Goals and Assists per 90')\n",
    "plt.show()\n",
    "plt.boxplot(df_features['xA'])\n",
    "plt.ylabel('Expected Assists')\n",
    "plt.show()\n",
    "plt.boxplot(df_features['xG/90'])\n",
    "plt.ylabel('Expected Goals per 90')\n",
    "plt.show()\n",
    "plt.boxplot(df_features['xA/90'])\n",
    "plt.ylabel('Expected Assists per 90')\n",
    "plt.show()\n",
    "plt.boxplot(df_features['xG+xA/90'])\n",
    "plt.ylabel('Expected Goals and Assits per 90')\n",
    "plt.show()\n",
    "plt.boxplot(df_features['npxG/90'])\n",
    "plt.ylabel('Non-Penalty Expected Goals per 90')\n",
    "plt.show()\n",
    "plt.boxplot(df_features['npxG+xA/90'])\n",
    "plt.ylabel('Non-Penalty Expected Goals and Assists per 90')\n",
    "plt.show()"
   ]
  },
  {
   "cell_type": "code",
   "execution_count": 22,
   "metadata": {
    "scrolled": true
   },
   "outputs": [
    {
     "name": "stderr",
     "output_type": "stream",
     "text": [
      "/Users/ericadsetts/opt/anaconda3/lib/python3.7/site-packages/ipykernel_launcher.py:1: SettingWithCopyWarning: \n",
      "A value is trying to be set on a copy of a slice from a DataFrame.\n",
      "Try using .loc[row_indexer,col_indexer] = value instead\n",
      "\n",
      "See the caveats in the documentation: https://pandas.pydata.org/pandas-docs/stable/user_guide/indexing.html#returning-a-view-versus-a-copy\n",
      "  \"\"\"Entry point for launching an IPython kernel.\n",
      "/Users/ericadsetts/opt/anaconda3/lib/python3.7/site-packages/ipykernel_launcher.py:2: SettingWithCopyWarning: \n",
      "A value is trying to be set on a copy of a slice from a DataFrame.\n",
      "Try using .loc[row_indexer,col_indexer] = value instead\n",
      "\n",
      "See the caveats in the documentation: https://pandas.pydata.org/pandas-docs/stable/user_guide/indexing.html#returning-a-view-versus-a-copy\n",
      "  \n",
      "/Users/ericadsetts/opt/anaconda3/lib/python3.7/site-packages/ipykernel_launcher.py:3: SettingWithCopyWarning: \n",
      "A value is trying to be set on a copy of a slice from a DataFrame.\n",
      "Try using .loc[row_indexer,col_indexer] = value instead\n",
      "\n",
      "See the caveats in the documentation: https://pandas.pydata.org/pandas-docs/stable/user_guide/indexing.html#returning-a-view-versus-a-copy\n",
      "  This is separate from the ipykernel package so we can avoid doing imports until\n",
      "/Users/ericadsetts/opt/anaconda3/lib/python3.7/site-packages/ipykernel_launcher.py:4: SettingWithCopyWarning: \n",
      "A value is trying to be set on a copy of a slice from a DataFrame.\n",
      "Try using .loc[row_indexer,col_indexer] = value instead\n",
      "\n",
      "See the caveats in the documentation: https://pandas.pydata.org/pandas-docs/stable/user_guide/indexing.html#returning-a-view-versus-a-copy\n",
      "  after removing the cwd from sys.path.\n",
      "/Users/ericadsetts/opt/anaconda3/lib/python3.7/site-packages/ipykernel_launcher.py:5: SettingWithCopyWarning: \n",
      "A value is trying to be set on a copy of a slice from a DataFrame.\n",
      "Try using .loc[row_indexer,col_indexer] = value instead\n",
      "\n",
      "See the caveats in the documentation: https://pandas.pydata.org/pandas-docs/stable/user_guide/indexing.html#returning-a-view-versus-a-copy\n",
      "  \"\"\"\n",
      "/Users/ericadsetts/opt/anaconda3/lib/python3.7/site-packages/ipykernel_launcher.py:6: SettingWithCopyWarning: \n",
      "A value is trying to be set on a copy of a slice from a DataFrame.\n",
      "Try using .loc[row_indexer,col_indexer] = value instead\n",
      "\n",
      "See the caveats in the documentation: https://pandas.pydata.org/pandas-docs/stable/user_guide/indexing.html#returning-a-view-versus-a-copy\n",
      "  \n",
      "/Users/ericadsetts/opt/anaconda3/lib/python3.7/site-packages/ipykernel_launcher.py:7: SettingWithCopyWarning: \n",
      "A value is trying to be set on a copy of a slice from a DataFrame.\n",
      "Try using .loc[row_indexer,col_indexer] = value instead\n",
      "\n",
      "See the caveats in the documentation: https://pandas.pydata.org/pandas-docs/stable/user_guide/indexing.html#returning-a-view-versus-a-copy\n",
      "  import sys\n",
      "/Users/ericadsetts/opt/anaconda3/lib/python3.7/site-packages/ipykernel_launcher.py:8: SettingWithCopyWarning: \n",
      "A value is trying to be set on a copy of a slice from a DataFrame.\n",
      "Try using .loc[row_indexer,col_indexer] = value instead\n",
      "\n",
      "See the caveats in the documentation: https://pandas.pydata.org/pandas-docs/stable/user_guide/indexing.html#returning-a-view-versus-a-copy\n",
      "  \n",
      "/Users/ericadsetts/opt/anaconda3/lib/python3.7/site-packages/ipykernel_launcher.py:9: SettingWithCopyWarning: \n",
      "A value is trying to be set on a copy of a slice from a DataFrame.\n",
      "Try using .loc[row_indexer,col_indexer] = value instead\n",
      "\n",
      "See the caveats in the documentation: https://pandas.pydata.org/pandas-docs/stable/user_guide/indexing.html#returning-a-view-versus-a-copy\n",
      "  if __name__ == '__main__':\n",
      "/Users/ericadsetts/opt/anaconda3/lib/python3.7/site-packages/ipykernel_launcher.py:10: SettingWithCopyWarning: \n",
      "A value is trying to be set on a copy of a slice from a DataFrame.\n",
      "Try using .loc[row_indexer,col_indexer] = value instead\n",
      "\n",
      "See the caveats in the documentation: https://pandas.pydata.org/pandas-docs/stable/user_guide/indexing.html#returning-a-view-versus-a-copy\n",
      "  # Remove the CWD from sys.path while we load stuff.\n",
      "/Users/ericadsetts/opt/anaconda3/lib/python3.7/site-packages/ipykernel_launcher.py:11: SettingWithCopyWarning: \n",
      "A value is trying to be set on a copy of a slice from a DataFrame.\n",
      "Try using .loc[row_indexer,col_indexer] = value instead\n",
      "\n",
      "See the caveats in the documentation: https://pandas.pydata.org/pandas-docs/stable/user_guide/indexing.html#returning-a-view-versus-a-copy\n",
      "  # This is added back by InteractiveShellApp.init_path()\n"
     ]
    }
   ],
   "source": [
    "df_features['Goals/90'] = df_features['Goals/90'].apply(lambda x: np.where(x > 2, 2, x))\n",
    "df_features['Assists/90'] = df_features['Assists/90'].apply(lambda x: np.where(x > 2, 2, x))\n",
    "df_features['Goals+Assists/90'] = df_features['Goals+Assists/90'].apply(lambda x: np.where(x > 3, 3, x))\n",
    "df_features['Goals-PKs/90'] = df_features['Goals-PKs/90'].apply(lambda x: np.where(x > 2, 2, x))\n",
    "df_features['Goals+Assists-PKs/90'] = df_features['Goals+Assists-PKs/90'].apply(lambda x: np.where(x > 3, 3, x))\n",
    "df_features['xA'] = df_features['xA'].apply(lambda x: np.where(x > 15, 15, x))\n",
    "df_features['xG/90'] = df_features['xG/90'].apply(lambda x: np.where(x > 2, 2, x))\n",
    "df_features['xA/90'] = df_features['xA/90'].apply(lambda x: np.where(x > 2, 2, x))\n",
    "df_features['xG+xA/90'] = df_features['xG+xA/90'].apply(lambda x: np.where(x > 4, 4, x))\n",
    "df_features['npxG/90'] = df_features['npxG/90'].apply(lambda x: np.where(x > 2, 2, x))\n",
    "df_features['npxG+xA/90'] = df_features['npxG+xA/90'].apply(lambda x: np.where(x > 3, 3, x))"
   ]
  },
  {
   "cell_type": "markdown",
   "metadata": {},
   "source": [
    "I look at the distributions of all my features"
   ]
  },
  {
   "cell_type": "code",
   "execution_count": 23,
   "metadata": {},
   "outputs": [
    {
     "data": {
      "image/png": "[encoded data removed]",
      "text/plain": [
       "<Figure size 576x396 with 1 Axes>"
      ]
     },
     "metadata": {},
     "output_type": "display_data"
    },
    {
     "data": {
      "image/png": "[encoded data removed]",
      "text/plain": [
       "<Figure size 576x396 with 1 Axes>"
      ]
     },
     "metadata": {},
     "output_type": "display_data"
    },
    {
     "data": {
      "image/png": "[encoded data removed]",
      "text/plain": [
       "<Figure size 576x396 with 1 Axes>"
      ]
     },
     "metadata": {},
     "output_type": "display_data"
    },
    {
     "data": {
      "image/png": "[encoded data removed]",
      "text/plain": [
       "<Figure size 576x396 with 1 Axes>"
      ]
     },
     "metadata": {},
     "output_type": "display_data"
    }
   ],
   "source": [
    "sns.distplot(df_features['age'], kde = False)\n",
    "plt.show()\n",
    "sns.distplot(df_features['Goals'], kde = False)\n",
    "plt.show()\n",
    "sns.distplot(df_features['Assists'], kde = False)\n",
    "plt.show()\n",
    "sns.distplot(df_features['xG'], kde = False)\n",
    "plt.show()"
   ]
  },
  {
   "cell_type": "markdown",
   "metadata": {},
   "source": [
    "I plot my features against my target to see if there is a clear pattern for any of them (There isn't)"
   ]
  },
  {
   "cell_type": "code",
   "execution_count": 24,
   "metadata": {
    "scrolled": true
   },
   "outputs": [
    {
     "data": {
      "image/png": "[encoded data removed]",
      "text/plain": [
       "<Figure size 576x396 with 1 Axes>"
      ]
     },
     "metadata": {},
     "output_type": "display_data"
    },
    {
     "data": {
      "image/png": "[encoded data removed]",
      "text/plain": [
       "<Figure size 576x396 with 1 Axes>"
      ]
     },
     "metadata": {},
     "output_type": "display_data"
    },
    {
     "data": {
      "image/png": "[encoded data removed]",
      "text/plain": [
       "<Figure size 576x396 with 1 Axes>"
      ]
     },
     "metadata": {},
     "output_type": "display_data"
    }
   ],
   "source": [
    "plt.scatter(df_features['Goals/90'], df_target)\n",
    "plt.xlabel('Goals per 90')\n",
    "plt.show()\n",
    "plt.scatter(df_features['xG'], df_target)\n",
    "plt.xlabel('Expected Goals')\n",
    "plt.show()\n",
    "plt.scatter(df_features['xG/90'], df_target)\n",
    "plt.xlabel('Expected Goals per 90')\n",
    "plt.show()"
   ]
  },
  {
   "cell_type": "code",
   "execution_count": 25,
   "metadata": {},
   "outputs": [],
   "source": [
    "df_dummies = pd.get_dummies(df_features.position)\n",
    "df_features = pd.concat([df_features, df_dummies], axis = 1)\n",
    "df_features.drop(['position'], axis = 1, inplace = True)"
   ]
  },
  {
   "cell_type": "markdown",
   "metadata": {},
   "source": [
    "# Modeling and Evaluation\n",
    "Perform my train test split"
   ]
  },
  {
   "cell_type": "code",
   "execution_count": 26,
   "metadata": {},
   "outputs": [],
   "source": [
    "X_train, X_test, y_train, y_test = train_test_split(df_features, df_target, random_state = 42)\n"
   ]
  },
  {
   "cell_type": "markdown",
   "metadata": {},
   "source": [
    "Scaled my data"
   ]
  },
  {
   "cell_type": "code",
   "execution_count": 27,
   "metadata": {},
   "outputs": [],
   "source": [
    "scaler = StandardScaler()\n",
    "X_train = scaler.fit_transform(X_train)\n",
    "X_test = scaler.transform(X_test)\n"
   ]
  },
  {
   "cell_type": "markdown",
   "metadata": {},
   "source": [
    "Created a dummy regressor to compare my models against"
   ]
  },
  {
   "cell_type": "code",
   "execution_count": 28,
   "metadata": {},
   "outputs": [
    {
     "data": {
      "text/plain": [
       "502.07198256393417"
      ]
     },
     "execution_count": 28,
     "metadata": {},
     "output_type": "execute_result"
    }
   ],
   "source": [
    "dummy = DummyRegressor()\n",
    "dummy.fit(X_train, y_train)\n",
    "y_train_preds = dummy.predict(X_train)\n",
    "mean_absolute_percentage_error(y_train, y_train_preds)\n"
   ]
  },
  {
   "cell_type": "code",
   "execution_count": 29,
   "metadata": {},
   "outputs": [
    {
     "data": {
      "text/plain": [
       "537.4593851519945"
      ]
     },
     "execution_count": 29,
     "metadata": {},
     "output_type": "execute_result"
    }
   ],
   "source": [
    "y_preds = dummy.predict(X_test)\n",
    "mean_absolute_percentage_error(y_test, y_preds)\n"
   ]
  },
  {
   "cell_type": "markdown",
   "metadata": {},
   "source": [
    "Created a linear regression model"
   ]
  },
  {
   "cell_type": "code",
   "execution_count": 30,
   "metadata": {},
   "outputs": [
    {
     "data": {
      "text/plain": [
       "410.7574243613764"
      ]
     },
     "execution_count": 30,
     "metadata": {},
     "output_type": "execute_result"
    }
   ],
   "source": [
    "line = LinearRegression(n_jobs = -1)\n",
    "line.fit(X_train, y_train)\n",
    "y_train_preds = line.predict(X_train)\n",
    "mean_absolute_percentage_error(y_train, y_train_preds)\n"
   ]
  },
  {
   "cell_type": "code",
   "execution_count": 31,
   "metadata": {},
   "outputs": [
    {
     "data": {
      "text/plain": [
       "482.1630122319835"
      ]
     },
     "execution_count": 31,
     "metadata": {},
     "output_type": "execute_result"
    }
   ],
   "source": [
    "y_preds = line.predict(X_test)\n",
    "mean_absolute_percentage_error(y_test, y_preds)\n"
   ]
  },
  {
   "cell_type": "markdown",
   "metadata": {},
   "source": [
    "Sorted features by coeffecients"
   ]
  },
  {
   "cell_type": "code",
   "execution_count": 32,
   "metadata": {
    "scrolled": true
   },
   "outputs": [
    {
     "data": {
      "text/plain": [
       "[(-93.09074074654002, 'Goals+Assists/90'),\n",
       " (-70.05699096829909, 'xG'),\n",
       " (-49.802343280234524, 'Goals-PKs/90'),\n",
       " (-14.904657924264976, 'npxG/90'),\n",
       " (-6.612672072756454, 'Starts'),\n",
       " (-4.191829223508069, 'xG+xA/90'),\n",
       " (-2.562026306583552, 'xA'),\n",
       " (-1.6144171169913801, 'Centre-Forward'),\n",
       " (-0.7615167740281966, 'Left Midfield'),\n",
       " (-0.7160272801454426, 'Yellow_Cards'),\n",
       " (-0.5145984179895757, 'Attacking Midfield'),\n",
       " (-0.49503200397349006, 'Right Midfield'),\n",
       " (-0.4491713795860314, 'age'),\n",
       " (-0.3622144754693118, 'Red_Cards'),\n",
       " (-0.17784099590963834, 'xA/90'),\n",
       " (-0.14279918172913886, 'is_attack'),\n",
       " (-1.3038459201197838e-12, 'is_defence'),\n",
       " (0.11471795160933078, 'Right Winger'),\n",
       " (0.14279918172826483, 'is_midfield'),\n",
       " (0.2490717652812027, 'Central Midfield'),\n",
       " (0.8381271197018875, 'Defensive Midfield'),\n",
       " (0.9466910925016176, 'Left Winger'),\n",
       " (1.843733585467719, 'Assists/90'),\n",
       " (2.2769584604242983, 'Second Striker'),\n",
       " (2.562175234651442, 'Penalty_Attempts'),\n",
       " (5.498983903444233, 'Assists'),\n",
       " (5.580111661725462, 'Minutes'),\n",
       " (8.104812289642345, 'npxG+xA/90'),\n",
       " (8.62583662905636, 'Goals'),\n",
       " (11.854453420913032, 'Penalty_Goals'),\n",
       " (15.74662554118424, 'xG/90'),\n",
       " (56.11470679878603, 'npxG'),\n",
       " (56.85383229904332, 'Goals/90'),\n",
       " (82.27313827203064, 'Goals+Assists-PKs/90')]"
      ]
     },
     "execution_count": 32,
     "metadata": {},
     "output_type": "execute_result"
    }
   ],
   "source": [
    "sorted(list(zip(line.coef_, df_features.columns)))\n"
   ]
  },
  {
   "cell_type": "markdown",
   "metadata": {},
   "source": [
    "Created a ridge model than used grid search to find optimal parameters"
   ]
  },
  {
   "cell_type": "code",
   "execution_count": 33,
   "metadata": {},
   "outputs": [
    {
     "data": {
      "text/plain": [
       "417.17460171293794"
      ]
     },
     "execution_count": 33,
     "metadata": {},
     "output_type": "execute_result"
    }
   ],
   "source": [
    "ridge = Ridge()\n",
    "ridge.fit(X_train, y_train)\n",
    "y_train_preds = ridge.predict(X_train)\n",
    "mean_absolute_percentage_error(y_train, y_train_preds)\n"
   ]
  },
  {
   "cell_type": "code",
   "execution_count": 34,
   "metadata": {},
   "outputs": [
    {
     "data": {
      "text/plain": [
       "424.3293280241157"
      ]
     },
     "execution_count": 34,
     "metadata": {},
     "output_type": "execute_result"
    }
   ],
   "source": [
    "y_preds = ridge.predict(X_test)\n",
    "mean_absolute_percentage_error(y_test, y_preds)\n"
   ]
  },
  {
   "cell_type": "code",
   "execution_count": 35,
   "metadata": {},
   "outputs": [
    {
     "name": "stdout",
     "output_type": "stream",
     "text": [
      "Fitting 5 folds for each of 14 candidates, totalling 70 fits\n"
     ]
    },
    {
     "name": "stderr",
     "output_type": "stream",
     "text": [
      "[Parallel(n_jobs=-1)]: Using backend LokyBackend with 8 concurrent workers.\n"
     ]
    },
    {
     "name": "stdout",
     "output_type": "stream",
     "text": [
      "-13.285182809380458\n",
      "{'alpha': 1000}\n"
     ]
    },
    {
     "name": "stderr",
     "output_type": "stream",
     "text": [
      "[Parallel(n_jobs=-1)]: Done  34 tasks      | elapsed:    2.1s\n",
      "[Parallel(n_jobs=-1)]: Done  70 out of  70 | elapsed:    2.2s finished\n"
     ]
    },
    {
     "data": {
      "text/plain": [
       "427.37558050401975"
      ]
     },
     "execution_count": 35,
     "metadata": {},
     "output_type": "execute_result"
    }
   ],
   "source": [
    "param_grid = {'alpha': [.01,.1,.5,1,5,10,15, 20, 25, 30, 100, 1000, 1500, 2500]}\n",
    "ridge_CV = GridSearchCV(ridge, param_grid, scoring = 'neg_root_mean_squared_error', n_jobs = -1, verbose = 1)\n",
    "ridge_CV.fit(X_train, y_train)\n",
    "print(ridge_CV.best_score_)\n",
    "print(ridge_CV.best_params_)\n",
    "y_preds = ridge_CV.predict(X_test)\n",
    "mean_absolute_percentage_error(y_test, y_preds)"
   ]
  },
  {
   "cell_type": "markdown",
   "metadata": {},
   "source": [
    "Plotted Coeffecients"
   ]
  },
  {
   "cell_type": "code",
   "execution_count": 36,
   "metadata": {},
   "outputs": [
    {
     "data": {
      "text/plain": [
       "[(-14.658915193042505, 'xG'),\n",
       " (-5.2485866635753196, 'Starts'),\n",
       " (-3.991137700289239, 'Goals+Assists/90'),\n",
       " (-3.4049217706109918, 'xA'),\n",
       " (-2.569938593371974, 'Goals+Assists-PKs/90'),\n",
       " (-1.8615359019350477, 'xG+xA/90'),\n",
       " (-1.5687155995814874, 'Centre-Forward'),\n",
       " (-0.7597902550321537, 'Left Midfield'),\n",
       " (-0.7538653902846043, 'Goals-PKs/90'),\n",
       " (-0.5834993055197826, 'Yellow_Cards'),\n",
       " (-0.5779908411141699, 'Attacking Midfield'),\n",
       " (-0.48894734510567583, 'Right Midfield'),\n",
       " (-0.4416726803211276, 'age'),\n",
       " (-0.2772125395727123, 'Red_Cards'),\n",
       " (-0.1149759658256944, 'is_attack'),\n",
       " (0.0, 'is_defence'),\n",
       " (0.09784153392107955, 'Right Winger'),\n",
       " (0.11497596582569987, 'is_midfield'),\n",
       " (0.27913610448937753, 'Central Midfield'),\n",
       " (0.4287914390079973, 'Penalty_Attempts'),\n",
       " (0.4678954374441513, 'xG/90'),\n",
       " (0.806088645611452, 'Defensive Midfield'),\n",
       " (0.8849227617537156, 'xA/90'),\n",
       " (0.9256227912043682, 'Left Winger'),\n",
       " (1.0985133854376563, 'npxG/90'),\n",
       " (1.6172688455421413, 'Assists/90'),\n",
       " (1.7255127835774162, 'Penalty_Goals'),\n",
       " (2.3277678715161882, 'Second Striker'),\n",
       " (3.493448477759839, 'npxG+xA/90'),\n",
       " (4.155324848602675, 'Minutes'),\n",
       " (4.511034471564876, 'Goals/90'),\n",
       " (6.28277161302636, 'Assists'),\n",
       " (7.253043475295412, 'npxG'),\n",
       " (8.84913192474656, 'Goals')]"
      ]
     },
     "execution_count": 36,
     "metadata": {},
     "output_type": "execute_result"
    }
   ],
   "source": [
    "sorted(list(zip(ridge.coef_, df_features.columns)))\n"
   ]
  },
  {
   "cell_type": "markdown",
   "metadata": {},
   "source": [
    "Created Lasso model than tuned hyper parameters with grid search than looked at coefficients"
   ]
  },
  {
   "cell_type": "code",
   "execution_count": 37,
   "metadata": {},
   "outputs": [
    {
     "data": {
      "text/plain": [
       "455.03335430060235"
      ]
     },
     "execution_count": 37,
     "metadata": {},
     "output_type": "execute_result"
    }
   ],
   "source": [
    "lasso = Lasso()\n",
    "lasso.fit(X_train, y_train)\n",
    "y_train_preds = lasso.predict(X_train)\n",
    "mean_absolute_percentage_error(y_train, y_train_preds)\n"
   ]
  },
  {
   "cell_type": "code",
   "execution_count": 38,
   "metadata": {},
   "outputs": [
    {
     "data": {
      "text/plain": [
       "441.36695594068885"
      ]
     },
     "execution_count": 38,
     "metadata": {},
     "output_type": "execute_result"
    }
   ],
   "source": [
    "y_preds = lasso.predict(X_test)\n",
    "mean_absolute_percentage_error(y_test, y_preds)\n"
   ]
  },
  {
   "cell_type": "code",
   "execution_count": 39,
   "metadata": {},
   "outputs": [
    {
     "name": "stdout",
     "output_type": "stream",
     "text": [
      "Fitting 5 folds for each of 6 candidates, totalling 30 fits\n",
      "-13.372677089295768\n",
      "{'alpha': 1}\n"
     ]
    },
    {
     "name": "stderr",
     "output_type": "stream",
     "text": [
      "[Parallel(n_jobs=-1)]: Using backend LokyBackend with 8 concurrent workers.\n",
      "[Parallel(n_jobs=-1)]: Done  30 out of  30 | elapsed:    0.1s finished\n"
     ]
    },
    {
     "data": {
      "text/plain": [
       "441.36695594068885"
      ]
     },
     "execution_count": 39,
     "metadata": {},
     "output_type": "execute_result"
    }
   ],
   "source": [
    "param_grid = {'alpha': [.01,.1,.5,1,5,10]}\n",
    "lasso_CV = GridSearchCV(lasso, param_grid, scoring = 'neg_root_mean_squared_error', n_jobs = -1, verbose = 1)\n",
    "lasso_CV.fit(X_train, y_train)\n",
    "print(lasso_CV.best_score_)\n",
    "print(lasso_CV.best_params_)\n",
    "y_preds = lasso_CV.predict(X_test)\n",
    "mean_absolute_percentage_error(y_test, y_preds)"
   ]
  },
  {
   "cell_type": "code",
   "execution_count": 40,
   "metadata": {},
   "outputs": [
    {
     "data": {
      "text/plain": [
       "[(0.0, 'Assists/90'),\n",
       " (-0.0, 'Attacking Midfield'),\n",
       " (-0.0, 'Central Midfield'),\n",
       " (-0.0, 'Centre-Forward'),\n",
       " (0.0, 'Defensive Midfield'),\n",
       " (0.0, 'Goals+Assists-PKs/90'),\n",
       " (0.0, 'Goals-PKs/90'),\n",
       " (0.0, 'Goals/90'),\n",
       " (-0.0, 'Left Midfield'),\n",
       " (-0.0, 'Minutes'),\n",
       " (0.0, 'Penalty_Attempts'),\n",
       " (0.0, 'Penalty_Goals'),\n",
       " (-0.0, 'Red_Cards'),\n",
       " (-0.0, 'Right Midfield'),\n",
       " (0.0, 'Right Winger'),\n",
       " (-0.0, 'Starts'),\n",
       " (-0.0, 'Yellow_Cards'),\n",
       " (-0.0, 'age'),\n",
       " (0.0, 'is_attack'),\n",
       " (0.0, 'is_defence'),\n",
       " (-0.0, 'is_midfield'),\n",
       " (0.0, 'npxG'),\n",
       " (0.0, 'npxG+xA/90'),\n",
       " (0.0, 'npxG/90'),\n",
       " (0.0, 'xA'),\n",
       " (0.0, 'xA/90'),\n",
       " (0.0, 'xG'),\n",
       " (0.0, 'xG+xA/90'),\n",
       " (0.0, 'xG/90'),\n",
       " (0.3477347571594671, 'Left Winger'),\n",
       " (0.3478167860219097, 'Goals+Assists/90'),\n",
       " (1.3425702608549015, 'Goals'),\n",
       " (1.4994396184086338, 'Second Striker'),\n",
       " (2.200376220011542, 'Assists')]"
      ]
     },
     "execution_count": 40,
     "metadata": {},
     "output_type": "execute_result"
    }
   ],
   "source": [
    "sorted(list(zip(lasso.coef_, df_features.columns)))\n"
   ]
  },
  {
   "cell_type": "markdown",
   "metadata": {},
   "source": [
    "Did the same thing with support vector regressor"
   ]
  },
  {
   "cell_type": "code",
   "execution_count": 41,
   "metadata": {},
   "outputs": [
    {
     "data": {
      "text/plain": [
       "201.70907641943984"
      ]
     },
     "execution_count": 41,
     "metadata": {},
     "output_type": "execute_result"
    }
   ],
   "source": [
    "svr = SVR()\n",
    "svr.fit(X_train, y_train)\n",
    "y_train_preds = svr.predict(X_train)\n",
    "mean_absolute_percentage_error(y_train, y_train_preds)\n"
   ]
  },
  {
   "cell_type": "code",
   "execution_count": 42,
   "metadata": {},
   "outputs": [
    {
     "data": {
      "text/plain": [
       "230.93609510487818"
      ]
     },
     "execution_count": 42,
     "metadata": {},
     "output_type": "execute_result"
    }
   ],
   "source": [
    "y_preds = svr.predict(X_test)\n",
    "mean_absolute_percentage_error(y_test, y_preds)\n"
   ]
  },
  {
   "cell_type": "code",
   "execution_count": 43,
   "metadata": {},
   "outputs": [
    {
     "name": "stdout",
     "output_type": "stream",
     "text": [
      "Fitting 5 folds for each of 400 candidates, totalling 2000 fits\n"
     ]
    },
    {
     "name": "stderr",
     "output_type": "stream",
     "text": [
      "[Parallel(n_jobs=-1)]: Using backend LokyBackend with 8 concurrent workers.\n",
      "[Parallel(n_jobs=-1)]: Done  56 tasks      | elapsed:    0.4s\n",
      "[Parallel(n_jobs=-1)]: Done 1200 tasks      | elapsed:    7.4s\n",
      "[Parallel(n_jobs=-1)]: Done 1852 tasks      | elapsed:   21.6s\n",
      "[Parallel(n_jobs=-1)]: Done 1985 out of 2000 | elapsed:   24.9s remaining:    0.2s\n"
     ]
    },
    {
     "name": "stdout",
     "output_type": "stream",
     "text": [
      "-13.246590474788258\n",
      "{'C': 25, 'degree': 0.5, 'epsilon': 5, 'kernel': 'rbf'}\n"
     ]
    },
    {
     "name": "stderr",
     "output_type": "stream",
     "text": [
      "[Parallel(n_jobs=-1)]: Done 2000 out of 2000 | elapsed:   25.3s finished\n"
     ]
    },
    {
     "data": {
      "text/plain": [
       "450.32938070838486"
      ]
     },
     "execution_count": 43,
     "metadata": {},
     "output_type": "execute_result"
    }
   ],
   "source": [
    "param_grid = {'kernel': ['linear', 'poly', 'rbf', 'sigmoid'],\n",
    "             'degree': [.5,1,2,3], 'C': [1,5,10,25,50], 'epsilon': [.1, .5, 1, 5, 10]}\n",
    "svr_CV = GridSearchCV(svr, param_grid, scoring = 'neg_root_mean_squared_error', n_jobs = -1, verbose = 1)\n",
    "svr_CV.fit(X_train, y_train)\n",
    "print(svr_CV.best_score_)\n",
    "print(svr_CV.best_params_)\n",
    "y_preds = svr_CV.predict(X_test)\n",
    "mean_absolute_percentage_error(y_test, y_preds)"
   ]
  },
  {
   "cell_type": "markdown",
   "metadata": {},
   "source": [
    "Created than tuned a decision tree regressor"
   ]
  },
  {
   "cell_type": "code",
   "execution_count": 44,
   "metadata": {},
   "outputs": [
    {
     "data": {
      "text/plain": [
       "0.6465846663801744"
      ]
     },
     "execution_count": 44,
     "metadata": {},
     "output_type": "execute_result"
    }
   ],
   "source": [
    "tree = DecisionTreeRegressor()\n",
    "tree.fit(X_train, y_train)\n",
    "y_train_preds = tree.predict(X_train)\n",
    "mean_absolute_percentage_error(y_train, y_train_preds)\n"
   ]
  },
  {
   "cell_type": "code",
   "execution_count": 45,
   "metadata": {},
   "outputs": [
    {
     "data": {
      "text/plain": [
       "394.31031119539506"
      ]
     },
     "execution_count": 45,
     "metadata": {},
     "output_type": "execute_result"
    }
   ],
   "source": [
    "y_preds = tree.predict(X_test)\n",
    "mean_absolute_percentage_error(y_test, y_preds)\n"
   ]
  },
  {
   "cell_type": "code",
   "execution_count": 46,
   "metadata": {},
   "outputs": [
    {
     "name": "stdout",
     "output_type": "stream",
     "text": [
      "Fitting 5 folds for each of 250 candidates, totalling 1250 fits\n"
     ]
    },
    {
     "name": "stderr",
     "output_type": "stream",
     "text": [
      "[Parallel(n_jobs=-1)]: Using backend LokyBackend with 8 concurrent workers.\n",
      "[Parallel(n_jobs=-1)]: Done  56 tasks      | elapsed:    0.2s\n"
     ]
    },
    {
     "name": "stdout",
     "output_type": "stream",
     "text": [
      "-13.647896224890157\n",
      "{'max_depth': 1, 'min_samples_leaf': 1, 'min_samples_split': 2}\n"
     ]
    },
    {
     "name": "stderr",
     "output_type": "stream",
     "text": [
      "[Parallel(n_jobs=-1)]: Done 1250 out of 1250 | elapsed:    1.2s finished\n"
     ]
    },
    {
     "data": {
      "text/plain": [
       "493.3419998138779"
      ]
     },
     "execution_count": 46,
     "metadata": {},
     "output_type": "execute_result"
    }
   ],
   "source": [
    "param_grid = {'max_depth': [None, 1, 2, 5, 10], 'min_samples_split': [2,4,6,8,10],\n",
    "              'min_samples_leaf': [1,2,3,4,5,6,7,8,9,10]}\n",
    "tree_CV = GridSearchCV(tree, param_grid, scoring = 'neg_root_mean_squared_error', n_jobs = -1, verbose = 1)\n",
    "tree_CV.fit(X_train, y_train)\n",
    "print(tree_CV.best_score_)\n",
    "print(tree_CV.best_params_)\n",
    "y_preds = tree_CV.predict(X_test)\n",
    "mean_absolute_percentage_error(y_test, y_preds)"
   ]
  },
  {
   "cell_type": "markdown",
   "metadata": {},
   "source": [
    "Created and tuned a random forest model. This one performed best."
   ]
  },
  {
   "cell_type": "code",
   "execution_count": 47,
   "metadata": {},
   "outputs": [
    {
     "data": {
      "text/plain": [
       "155.54414926559022"
      ]
     },
     "execution_count": 47,
     "metadata": {},
     "output_type": "execute_result"
    }
   ],
   "source": [
    "rf = RandomForestRegressor(n_jobs = -1, random_state = 1)\n",
    "rf.fit(X_train, y_train)\n",
    "y_train_preds = rf.predict(X_train)\n",
    "mean_absolute_percentage_error(y_train, y_train_preds)\n"
   ]
  },
  {
   "cell_type": "code",
   "execution_count": 48,
   "metadata": {},
   "outputs": [
    {
     "data": {
      "text/plain": [
       "465.4186393831302"
      ]
     },
     "execution_count": 48,
     "metadata": {},
     "output_type": "execute_result"
    }
   ],
   "source": [
    "y_preds = rf.predict(X_test)\n",
    "mean_absolute_percentage_error(y_test, y_preds)\n"
   ]
  },
  {
   "cell_type": "code",
   "execution_count": 49,
   "metadata": {},
   "outputs": [
    {
     "name": "stdout",
     "output_type": "stream",
     "text": [
      "Fitting 5 folds for each of 294 candidates, totalling 1470 fits\n"
     ]
    },
    {
     "name": "stderr",
     "output_type": "stream",
     "text": [
      "[Parallel(n_jobs=-1)]: Using backend LokyBackend with 8 concurrent workers.\n",
      "[Parallel(n_jobs=-1)]: Done  34 tasks      | elapsed:    2.3s\n",
      "[Parallel(n_jobs=-1)]: Done 184 tasks      | elapsed:   20.1s\n",
      "[Parallel(n_jobs=-1)]: Done 434 tasks      | elapsed:   37.5s\n",
      "[Parallel(n_jobs=-1)]: Done 784 tasks      | elapsed:  1.0min\n",
      "[Parallel(n_jobs=-1)]: Done 1234 tasks      | elapsed:  1.6min\n",
      "[Parallel(n_jobs=-1)]: Done 1470 out of 1470 | elapsed:  2.0min finished\n"
     ]
    },
    {
     "name": "stdout",
     "output_type": "stream",
     "text": [
      "-13.217684343910197\n",
      "{'max_depth': 2, 'min_samples_split': 4, 'n_estimators': 10}\n"
     ]
    },
    {
     "data": {
      "text/plain": [
       "497.2713928668213"
      ]
     },
     "execution_count": 49,
     "metadata": {},
     "output_type": "execute_result"
    }
   ],
   "source": [
    "param_grid = {'n_estimators': [5, 10, 25,50,100,500], 'max_depth': [None, 1, 2, 3, 4, 5, 10],\n",
    "              'min_samples_split': [2,4,6,8,10,15,20]}\n",
    "rf_CV = GridSearchCV(rf, param_grid, scoring = 'neg_root_mean_squared_error', n_jobs = -1, verbose = 1)\n",
    "rf_CV.fit(X_train, y_train)\n",
    "print(rf_CV.best_score_)\n",
    "print(rf_CV.best_params_)\n",
    "y_preds = rf_CV.predict(X_test)\n",
    "mean_absolute_percentage_error(y_test, y_preds)"
   ]
  },
  {
   "cell_type": "code",
   "execution_count": 50,
   "metadata": {},
   "outputs": [],
   "source": [
    "y_preds = rf_CV.predict(X_test)"
   ]
  },
  {
   "cell_type": "code",
   "execution_count": 51,
   "metadata": {
    "scrolled": true
   },
   "outputs": [
    {
     "data": {
      "image/png": "[encoded data removed]",
      "text/plain": [
       "<Figure size 576x396 with 1 Axes>"
      ]
     },
     "metadata": {},
     "output_type": "display_data"
    }
   ],
   "source": [
    "fig = plt.figure(facecolor = '#37474f')\n",
    "ax = sns.residplot(y_test, y_preds, color = '#f5f5f5')\n",
    "plt.title('Residual Plot', color = '#f5f5f5')\n",
    "plt.xlabel('Estimated Transfer Fee', color = '#f5f5f5')\n",
    "plt.ylabel('Residuals', color = '#f5f5f5')\n",
    "plt.xticks(color = '#f5f5f5')\n",
    "plt.yticks(color = '#f5f5f5')\n",
    "ax.set_facecolor('#37474f')"
   ]
  },
  {
   "cell_type": "markdown",
   "metadata": {},
   "source": [
    "Examine feature importances"
   ]
  },
  {
   "cell_type": "code",
   "execution_count": 52,
   "metadata": {
    "scrolled": true
   },
   "outputs": [
    {
     "data": {
      "text/plain": [
       "[(0.0, 'Attacking Midfield'),\n",
       " (0.0, 'Central Midfield'),\n",
       " (0.0, 'Centre-Forward'),\n",
       " (0.0, 'Defensive Midfield'),\n",
       " (0.0, 'Goals/90'),\n",
       " (0.0, 'Left Midfield'),\n",
       " (0.0, 'Minutes'),\n",
       " (0.0, 'Penalty_Goals'),\n",
       " (0.0, 'Red_Cards'),\n",
       " (0.0, 'Right Midfield'),\n",
       " (0.0, 'Right Winger'),\n",
       " (0.0, 'Starts'),\n",
       " (0.0, 'Yellow_Cards'),\n",
       " (0.0, 'age'),\n",
       " (0.0, 'is_attack'),\n",
       " (0.0, 'is_defence'),\n",
       " (0.0, 'is_midfield'),\n",
       " (0.0, 'npxG'),\n",
       " (0.0, 'npxG/90'),\n",
       " (0.0, 'xA'),\n",
       " (0.0, 'xA/90'),\n",
       " (0.0, 'xG+xA/90'),\n",
       " (0.02355522993812218, 'Penalty_Attempts'),\n",
       " (0.03178953161103123, 'Assists/90'),\n",
       " (0.03670347720810426, 'xG'),\n",
       " (0.04733116626076789, 'xG/90'),\n",
       " (0.047567712261028926, 'npxG+xA/90'),\n",
       " (0.04998470263765368, 'Left Winger'),\n",
       " (0.05121265098895586, 'Goals-PKs/90'),\n",
       " (0.09059930088437756, 'Assists'),\n",
       " (0.09900715199153949, 'Goals'),\n",
       " (0.14884766189855134, 'Goals+Assists/90'),\n",
       " (0.15784704870035887, 'Goals+Assists-PKs/90'),\n",
       " (0.21555436561950886, 'Second Striker')]"
      ]
     },
     "execution_count": 52,
     "metadata": {},
     "output_type": "execute_result"
    }
   ],
   "source": [
    "sorted(zip(rf_CV.best_estimator_.feature_importances_, df_features.columns))"
   ]
  },
  {
   "cell_type": "markdown",
   "metadata": {},
   "source": [
    "Lastly I used an xgboost model and tuned hyperparametes."
   ]
  },
  {
   "cell_type": "code",
   "execution_count": 53,
   "metadata": {},
   "outputs": [
    {
     "data": {
      "text/plain": [
       "17.330715587631875"
      ]
     },
     "execution_count": 53,
     "metadata": {},
     "output_type": "execute_result"
    }
   ],
   "source": [
    "xg = xgb.XGBRegressor(n_jobs = -1, objective = 'reg:squarederror', eval_metric = 'rmse')\n",
    "xg.fit(X_train, y_train)\n",
    "y_train_preds = xg.predict(X_train)\n",
    "mean_absolute_percentage_error(y_train, y_train_preds)\n"
   ]
  },
  {
   "cell_type": "code",
   "execution_count": 54,
   "metadata": {},
   "outputs": [
    {
     "data": {
      "text/plain": [
       "440.91790801513054"
      ]
     },
     "execution_count": 54,
     "metadata": {},
     "output_type": "execute_result"
    }
   ],
   "source": [
    "y_preds = xg.predict(X_test)\n",
    "mean_absolute_percentage_error(y_test, y_preds)\n"
   ]
  },
  {
   "cell_type": "code",
   "execution_count": 55,
   "metadata": {},
   "outputs": [
    {
     "data": {
      "text/plain": [
       "[(0.0, 'is_attack'),\n",
       " (0.0, 'is_defence'),\n",
       " (0.0021185824, 'Red_Cards'),\n",
       " (0.002569855, 'Penalty_Goals'),\n",
       " (0.0025905226, 'Right Midfield'),\n",
       " (0.0033516407, 'Attacking Midfield'),\n",
       " (0.0049383515, 'Left Midfield'),\n",
       " (0.00649282, 'Right Winger'),\n",
       " (0.006546596, 'age'),\n",
       " (0.006835668, 'Defensive Midfield'),\n",
       " (0.0074936515, 'Minutes'),\n",
       " (0.008056607, 'Goals+Assists/90'),\n",
       " (0.0085355835, 'Centre-Forward'),\n",
       " (0.008676287, 'npxG/90'),\n",
       " (0.008801823, 'Penalty_Attempts'),\n",
       " (0.009188242, 'Goals-PKs/90'),\n",
       " (0.01019836, 'Central Midfield'),\n",
       " (0.012948678, 'xG+xA/90'),\n",
       " (0.013767294, 'npxG'),\n",
       " (0.013794201, 'npxG+xA/90'),\n",
       " (0.013934068, 'xA/90'),\n",
       " (0.014891361, 'Goals/90'),\n",
       " (0.014955784, 'Starts'),\n",
       " (0.017703861, 'is_midfield'),\n",
       " (0.01995111, 'Assists'),\n",
       " (0.020831924, 'Yellow_Cards'),\n",
       " (0.028621636, 'xG/90'),\n",
       " (0.03495492, 'Assists/90'),\n",
       " (0.038931377, 'xG'),\n",
       " (0.043128848, 'Goals'),\n",
       " (0.057816684, 'xA'),\n",
       " (0.09163029, 'Goals+Assists-PKs/90'),\n",
       " (0.21246949, 'Second Striker'),\n",
       " (0.25327384, 'Left Winger')]"
      ]
     },
     "execution_count": 55,
     "metadata": {},
     "output_type": "execute_result"
    }
   ],
   "source": [
    "sorted(zip(xg.feature_importances_, df_features.columns))\n"
   ]
  },
  {
   "cell_type": "code",
   "execution_count": 56,
   "metadata": {},
   "outputs": [
    {
     "name": "stdout",
     "output_type": "stream",
     "text": [
      "Fitting 5 folds for each of 126 candidates, totalling 630 fits\n"
     ]
    },
    {
     "name": "stderr",
     "output_type": "stream",
     "text": [
      "[Parallel(n_jobs=-1)]: Using backend LokyBackend with 8 concurrent workers.\n",
      "[Parallel(n_jobs=-1)]: Done  34 tasks      | elapsed:    0.9s\n",
      "[Parallel(n_jobs=-1)]: Done 585 tasks      | elapsed:    5.6s\n"
     ]
    },
    {
     "name": "stdout",
     "output_type": "stream",
     "text": [
      "-12.993477790729381\n",
      "{'eta': 1e-20, 'max_depth': 1, 'min_child_weight': 50}\n"
     ]
    },
    {
     "name": "stderr",
     "output_type": "stream",
     "text": [
      "[Parallel(n_jobs=-1)]: Done 630 out of 630 | elapsed:    6.1s finished\n"
     ]
    },
    {
     "data": {
      "text/plain": [
       "430.98817207962605"
      ]
     },
     "execution_count": 56,
     "metadata": {},
     "output_type": "execute_result"
    }
   ],
   "source": [
    "param_grid = {'eta': [1e-100, 1e-50, 1e-20, 1e-10,.000000001, .00000001],\n",
    "              'max_depth': [1,2,3],\n",
    "              'min_child_weight': [15,20, 25, 30, 50, 75,  100]}\n",
    "xg_CV = GridSearchCV(xg, param_grid, scoring = 'neg_root_mean_squared_error', n_jobs = -1, verbose = 1)\n",
    "xg_CV.fit(X_train, y_train)\n",
    "print(xg_CV.best_score_)\n",
    "print(xg_CV.best_params_)\n",
    "y_preds = xg_CV.predict(X_test)\n",
    "mean_absolute_percentage_error(y_test, y_preds)"
   ]
  },
  {
   "cell_type": "code",
   "execution_count": null,
   "metadata": {},
   "outputs": [],
   "source": []
  }
 ],
 "metadata": {
  "kernelspec": {
   "display_name": "Python 3",
   "language": "python",
   "name": "python3"
  },
  "language_info": {
   "codemirror_mode": {
    "name": "ipython",
    "version": 3
   },
   "file_extension": ".py",
   "mimetype": "text/x-python",
   "name": "python",
   "nbconvert_exporter": "python",
   "pygments_lexer": "ipython3",
   "version": "3.7.6"
  }
 },
 "nbformat": 4,
 "nbformat_minor": 4
}
