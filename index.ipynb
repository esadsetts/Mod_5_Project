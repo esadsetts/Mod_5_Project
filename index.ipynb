{
 "cells": [
  {
   "cell_type": "code",
   "execution_count": 1,
   "metadata": {},
   "outputs": [],
   "source": [
    "import numpy as np\n",
    "import pandas as pd\n",
    "import matplotlib.pyplot as plt\n",
    "import seaborn as sns"
   ]
  },
  {
   "cell_type": "code",
   "execution_count": 27,
   "metadata": {},
   "outputs": [
    {
     "data": {
      "text/html": [
       "<div>\n",
       "<style scoped>\n",
       "    .dataframe tbody tr th:only-of-type {\n",
       "        vertical-align: middle;\n",
       "    }\n",
       "\n",
       "    .dataframe tbody tr th {\n",
       "        vertical-align: top;\n",
       "    }\n",
       "\n",
       "    .dataframe thead th {\n",
       "        text-align: right;\n",
       "    }\n",
       "</style>\n",
       "<table border=\"1\" class=\"dataframe\">\n",
       "  <thead>\n",
       "    <tr style=\"text-align: right;\">\n",
       "      <th></th>\n",
       "      <th>club_name</th>\n",
       "      <th>player_name</th>\n",
       "      <th>age</th>\n",
       "      <th>position</th>\n",
       "      <th>club_involved_name</th>\n",
       "      <th>fee</th>\n",
       "      <th>transfer_movement</th>\n",
       "      <th>fee_cleaned</th>\n",
       "      <th>league_name</th>\n",
       "      <th>year</th>\n",
       "      <th>season</th>\n",
       "    </tr>\n",
       "  </thead>\n",
       "  <tbody>\n",
       "    <tr>\n",
       "      <th>0</th>\n",
       "      <td>Feyenoord Rotterdam</td>\n",
       "      <td>Steven Berghuis</td>\n",
       "      <td>25</td>\n",
       "      <td>Right Winger</td>\n",
       "      <td>Watford</td>\n",
       "      <td>£5.85m</td>\n",
       "      <td>in</td>\n",
       "      <td>5.85</td>\n",
       "      <td>Eredivisie</td>\n",
       "      <td>2017</td>\n",
       "      <td>2017/2018</td>\n",
       "    </tr>\n",
       "    <tr>\n",
       "      <th>1</th>\n",
       "      <td>Feyenoord Rotterdam</td>\n",
       "      <td>Ridgeciano Haps</td>\n",
       "      <td>24</td>\n",
       "      <td>Left-Back</td>\n",
       "      <td>AZ Alkmaar</td>\n",
       "      <td>£5.40m</td>\n",
       "      <td>in</td>\n",
       "      <td>5.40</td>\n",
       "      <td>Eredivisie</td>\n",
       "      <td>2017</td>\n",
       "      <td>2017/2018</td>\n",
       "    </tr>\n",
       "    <tr>\n",
       "      <th>2</th>\n",
       "      <td>Feyenoord Rotterdam</td>\n",
       "      <td>Jeremiah St. Juste</td>\n",
       "      <td>20</td>\n",
       "      <td>Centre-Back</td>\n",
       "      <td>Heerenveen</td>\n",
       "      <td>£4.32m</td>\n",
       "      <td>in</td>\n",
       "      <td>4.32</td>\n",
       "      <td>Eredivisie</td>\n",
       "      <td>2017</td>\n",
       "      <td>2017/2018</td>\n",
       "    </tr>\n",
       "    <tr>\n",
       "      <th>3</th>\n",
       "      <td>Feyenoord Rotterdam</td>\n",
       "      <td>Sofyan Amrabat</td>\n",
       "      <td>20</td>\n",
       "      <td>Central Midfield</td>\n",
       "      <td>FC Utrecht</td>\n",
       "      <td>£3.60m</td>\n",
       "      <td>in</td>\n",
       "      <td>3.60</td>\n",
       "      <td>Eredivisie</td>\n",
       "      <td>2017</td>\n",
       "      <td>2017/2018</td>\n",
       "    </tr>\n",
       "    <tr>\n",
       "      <th>4</th>\n",
       "      <td>Feyenoord Rotterdam</td>\n",
       "      <td>Sam Larsson</td>\n",
       "      <td>24</td>\n",
       "      <td>Left Winger</td>\n",
       "      <td>Heerenveen</td>\n",
       "      <td>£3.60m</td>\n",
       "      <td>in</td>\n",
       "      <td>3.60</td>\n",
       "      <td>Eredivisie</td>\n",
       "      <td>2017</td>\n",
       "      <td>2017/2018</td>\n",
       "    </tr>\n",
       "    <tr>\n",
       "      <th>...</th>\n",
       "      <td>...</td>\n",
       "      <td>...</td>\n",
       "      <td>...</td>\n",
       "      <td>...</td>\n",
       "      <td>...</td>\n",
       "      <td>...</td>\n",
       "      <td>...</td>\n",
       "      <td>...</td>\n",
       "      <td>...</td>\n",
       "      <td>...</td>\n",
       "      <td>...</td>\n",
       "    </tr>\n",
       "    <tr>\n",
       "      <th>2161</th>\n",
       "      <td>Granada CF</td>\n",
       "      <td>Antoñín</td>\n",
       "      <td>19</td>\n",
       "      <td>Centre-Forward</td>\n",
       "      <td>Málaga CF</td>\n",
       "      <td>£1.35m</td>\n",
       "      <td>in</td>\n",
       "      <td>1.35</td>\n",
       "      <td>Primera Division</td>\n",
       "      <td>2019</td>\n",
       "      <td>2019/2020</td>\n",
       "    </tr>\n",
       "    <tr>\n",
       "      <th>2162</th>\n",
       "      <td>RCD Mallorca</td>\n",
       "      <td>Ante Budimir</td>\n",
       "      <td>27</td>\n",
       "      <td>Centre-Forward</td>\n",
       "      <td>Crotone</td>\n",
       "      <td>£1.98m</td>\n",
       "      <td>in</td>\n",
       "      <td>1.98</td>\n",
       "      <td>Primera Division</td>\n",
       "      <td>2019</td>\n",
       "      <td>2019/2020</td>\n",
       "    </tr>\n",
       "    <tr>\n",
       "      <th>2163</th>\n",
       "      <td>RCD Mallorca</td>\n",
       "      <td>Yannis Salibur</td>\n",
       "      <td>28</td>\n",
       "      <td>Right Winger</td>\n",
       "      <td>Guingamp</td>\n",
       "      <td>£1.80m</td>\n",
       "      <td>in</td>\n",
       "      <td>1.80</td>\n",
       "      <td>Primera Division</td>\n",
       "      <td>2019</td>\n",
       "      <td>2019/2020</td>\n",
       "    </tr>\n",
       "    <tr>\n",
       "      <th>2164</th>\n",
       "      <td>RCD Mallorca</td>\n",
       "      <td>Martin Valjent</td>\n",
       "      <td>23</td>\n",
       "      <td>Centre-Back</td>\n",
       "      <td>Chievo Verona</td>\n",
       "      <td>£1.35m</td>\n",
       "      <td>in</td>\n",
       "      <td>1.35</td>\n",
       "      <td>Primera Division</td>\n",
       "      <td>2019</td>\n",
       "      <td>2019/2020</td>\n",
       "    </tr>\n",
       "    <tr>\n",
       "      <th>2165</th>\n",
       "      <td>RCD Mallorca</td>\n",
       "      <td>Igor Zlatanovic</td>\n",
       "      <td>21</td>\n",
       "      <td>Centre-Forward</td>\n",
       "      <td>Radnik</td>\n",
       "      <td>£1.17m</td>\n",
       "      <td>in</td>\n",
       "      <td>1.17</td>\n",
       "      <td>Primera Division</td>\n",
       "      <td>2019</td>\n",
       "      <td>2019/2020</td>\n",
       "    </tr>\n",
       "  </tbody>\n",
       "</table>\n",
       "<p>2166 rows × 11 columns</p>\n",
       "</div>"
      ],
      "text/plain": [
       "                club_name         player_name  age          position  \\\n",
       "0     Feyenoord Rotterdam     Steven Berghuis   25      Right Winger   \n",
       "1     Feyenoord Rotterdam     Ridgeciano Haps   24         Left-Back   \n",
       "2     Feyenoord Rotterdam  Jeremiah St. Juste   20       Centre-Back   \n",
       "3     Feyenoord Rotterdam      Sofyan Amrabat   20  Central Midfield   \n",
       "4     Feyenoord Rotterdam         Sam Larsson   24       Left Winger   \n",
       "...                   ...                 ...  ...               ...   \n",
       "2161           Granada CF             Antoñín   19    Centre-Forward   \n",
       "2162         RCD Mallorca        Ante Budimir   27    Centre-Forward   \n",
       "2163         RCD Mallorca      Yannis Salibur   28      Right Winger   \n",
       "2164         RCD Mallorca      Martin Valjent   23       Centre-Back   \n",
       "2165         RCD Mallorca     Igor Zlatanovic   21    Centre-Forward   \n",
       "\n",
       "     club_involved_name     fee transfer_movement  fee_cleaned  \\\n",
       "0               Watford  £5.85m                in         5.85   \n",
       "1            AZ Alkmaar  £5.40m                in         5.40   \n",
       "2            Heerenveen  £4.32m                in         4.32   \n",
       "3            FC Utrecht  £3.60m                in         3.60   \n",
       "4            Heerenveen  £3.60m                in         3.60   \n",
       "...                 ...     ...               ...          ...   \n",
       "2161          Málaga CF  £1.35m                in         1.35   \n",
       "2162            Crotone  £1.98m                in         1.98   \n",
       "2163           Guingamp  £1.80m                in         1.80   \n",
       "2164      Chievo Verona  £1.35m                in         1.35   \n",
       "2165             Radnik  £1.17m                in         1.17   \n",
       "\n",
       "           league_name  year     season  \n",
       "0           Eredivisie  2017  2017/2018  \n",
       "1           Eredivisie  2017  2017/2018  \n",
       "2           Eredivisie  2017  2017/2018  \n",
       "3           Eredivisie  2017  2017/2018  \n",
       "4           Eredivisie  2017  2017/2018  \n",
       "...                ...   ...        ...  \n",
       "2161  Primera Division  2019  2019/2020  \n",
       "2162  Primera Division  2019  2019/2020  \n",
       "2163  Primera Division  2019  2019/2020  \n",
       "2164  Primera Division  2019  2019/2020  \n",
       "2165  Primera Division  2019  2019/2020  \n",
       "\n",
       "[2166 rows x 11 columns]"
      ]
     },
     "execution_count": 27,
     "metadata": {},
     "output_type": "execute_result"
    }
   ],
   "source": [
    "df = pd.DataFrame()\n",
    "\n",
    "for year in ['2017','2018','2019']:\n",
    "    df_eredivisie = pd.read_csv('transfers-master/data/'+year+'/dutch_eredivisie.csv')\n",
    "    df_championship = pd.read_csv('transfers-master/data/'+year+'/english_championship.csv')\n",
    "    df_premier_league = pd.read_csv('transfers-master/data/'+year+'/english_premier_league.csv')\n",
    "    df_ligue_un = pd.read_csv('transfers-master/data/'+year+'/french_ligue_1.csv')\n",
    "    df_bundesliga = pd.read_csv('transfers-master/data/'+year+'/german_bundesliga_1.csv')\n",
    "    df_serie_a = pd.read_csv('transfers-master/data/'+year+'/italian_serie_a.csv')\n",
    "    df_liga_nos = pd.read_csv('transfers-master/data/'+year+'/portugese_liga_nos.csv')\n",
    "    df_premier_liga = pd.read_csv('transfers-master/data/'+year+'/russian_premier_liga.csv')\n",
    "    df_la_liga = pd.read_csv('transfers-master/data/'+year+'/spanish_primera_division.csv')\n",
    "    \n",
    "    df_transfers = pd.concat([df_eredivisie, df_championship, df_premier_league, df_ligue_un, df_bundesliga,\n",
    "                             df_serie_a, df_liga_nos, df_premier_liga, df_la_liga])\n",
    "    \n",
    "    df_transfers_in = df_transfers[df_transfers.transfer_movement == 'in']\n",
    "    \n",
    "    df_transfers_in = df_transfers_in[df_transfers_in.fee_cleaned > 0]\n",
    "    \n",
    "    df_transfers_in = df_transfers_in[df_transfers_in.fee.apply(lambda x: not x.startswith('Loan fee:'))]\n",
    "    \n",
    "    df = pd.concat([df, df_transfers_in])\n",
    "    \n",
    "df.reset_index(drop= True)"
   ]
  },
  {
   "cell_type": "code",
   "execution_count": 30,
   "metadata": {},
   "outputs": [
    {
     "data": {
      "text/plain": [
       "<AxesSubplot:xlabel='year'>"
      ]
     },
     "execution_count": 30,
     "metadata": {},
     "output_type": "execute_result"
    },
    {
     "data": {
      "image/png": "[encoded data removed]",
      "text/plain": [
       "<Figure size 432x288 with 1 Axes>"
      ]
     },
     "metadata": {
      "needs_background": "light"
     },
     "output_type": "display_data"
    }
   ],
   "source": [
    "df.groupby('year').fee_cleaned.sum().plot(kind = 'bar')"
   ]
  },
  {
   "cell_type": "code",
   "execution_count": 31,
   "metadata": {},
   "outputs": [
    {
     "data": {
      "text/plain": [
       "<AxesSubplot:xlabel='year'>"
      ]
     },
     "execution_count": 31,
     "metadata": {},
     "output_type": "execute_result"
    },
    {
     "data": {
      "image/png": "[encoded data removed]",
      "text/plain": [
       "<Figure size 432x288 with 1 Axes>"
      ]
     },
     "metadata": {
      "needs_background": "light"
     },
     "output_type": "display_data"
    }
   ],
   "source": [
    "df.groupby('year').fee_cleaned.mean().plot(kind = 'bar')"
   ]
  },
  {
   "cell_type": "code",
   "execution_count": 33,
   "metadata": {},
   "outputs": [
    {
     "data": {
      "text/plain": [
       "<AxesSubplot:xlabel='league_name'>"
      ]
     },
     "execution_count": 33,
     "metadata": {},
     "output_type": "execute_result"
    },
    {
     "data": {
      "image/png": "[encoded data removed]",
      "text/plain": [
       "<Figure size 432x288 with 1 Axes>"
      ]
     },
     "metadata": {
      "needs_background": "light"
     },
     "output_type": "display_data"
    }
   ],
   "source": [
    "df.groupby('league_name').fee_cleaned.sum().sort_values().plot(kind = 'bar')"
   ]
  },
  {
   "cell_type": "code",
   "execution_count": 34,
   "metadata": {},
   "outputs": [
    {
     "data": {
      "text/plain": [
       "<AxesSubplot:xlabel='league_name'>"
      ]
     },
     "execution_count": 34,
     "metadata": {},
     "output_type": "execute_result"
    },
    {
     "data": {
      "image/png": "[encoded data removed]",
      "text/plain": [
       "<Figure size 432x288 with 1 Axes>"
      ]
     },
     "metadata": {
      "needs_background": "light"
     },
     "output_type": "display_data"
    }
   ],
   "source": [
    "df.groupby('league_name').fee_cleaned.mean().sort_values().plot(kind = 'bar')"
   ]
  },
  {
   "cell_type": "code",
   "execution_count": 35,
   "metadata": {},
   "outputs": [
    {
     "data": {
      "text/plain": [
       "<AxesSubplot:xlabel='age'>"
      ]
     },
     "execution_count": 35,
     "metadata": {},
     "output_type": "execute_result"
    },
    {
     "data": {
      "image/png": "[encoded data removed]",
      "text/plain": [
       "<Figure size 432x288 with 1 Axes>"
      ]
     },
     "metadata": {
      "needs_background": "light"
     },
     "output_type": "display_data"
    }
   ],
   "source": [
    "df.groupby('age').fee_cleaned.mean().plot()"
   ]
  },
  {
   "cell_type": "code",
   "execution_count": 36,
   "metadata": {},
   "outputs": [
    {
     "data": {
      "text/plain": [
       "<AxesSubplot:xlabel='position'>"
      ]
     },
     "execution_count": 36,
     "metadata": {},
     "output_type": "execute_result"
    },
    {
     "data": {
      "image/png": "[encoded data removed]",
      "text/plain": [
       "<Figure size 432x288 with 1 Axes>"
      ]
     },
     "metadata": {
      "needs_background": "light"
     },
     "output_type": "display_data"
    }
   ],
   "source": [
    "df.groupby('position').fee_cleaned.mean().sort_values().plot(kind = 'bar')"
   ]
  },
  {
   "cell_type": "code",
   "execution_count": 37,
   "metadata": {},
   "outputs": [
    {
     "data": {
      "text/plain": [
       "<AxesSubplot:xlabel='position'>"
      ]
     },
     "execution_count": 37,
     "metadata": {},
     "output_type": "execute_result"
    },
    {
     "data": {
      "image/png": "[encoded data removed]",
      "text/plain": [
       "<Figure size 432x288 with 1 Axes>"
      ]
     },
     "metadata": {
      "needs_background": "light"
     },
     "output_type": "display_data"
    }
   ],
   "source": [
    "df.groupby('position').fee_cleaned.sum().sort_values().plot(kind = 'bar')"
   ]
  },
  {
   "cell_type": "code",
   "execution_count": null,
   "metadata": {},
   "outputs": [],
   "source": []
  }
 ],
 "metadata": {
  "kernelspec": {
   "display_name": "Python 3",
   "language": "python",
   "name": "python3"
  },
  "language_info": {
   "codemirror_mode": {
    "name": "ipython",
    "version": 3
   },
   "file_extension": ".py",
   "mimetype": "text/x-python",
   "name": "python",
   "nbconvert_exporter": "python",
   "pygments_lexer": "ipython3",
   "version": "3.7.6"
  }
 },
 "nbformat": 4,
 "nbformat_minor": 4
}
